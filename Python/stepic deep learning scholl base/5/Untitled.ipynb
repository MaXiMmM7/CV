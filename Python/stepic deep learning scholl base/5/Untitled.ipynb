{
 "cells": [
  {
   "cell_type": "code",
   "execution_count": 1,
   "id": "464572de",
   "metadata": {},
   "outputs": [
    {
     "data": {
      "text/plain": [
       "5"
      ]
     },
     "execution_count": 1,
     "metadata": {},
     "output_type": "execute_result"
    }
   ],
   "source": [
    "True + 4\n"
   ]
  },
  {
   "cell_type": "code",
   "execution_count": 2,
   "id": "46d7a50a",
   "metadata": {},
   "outputs": [
    {
     "name": "stdout",
     "output_type": "stream",
     "text": [
      "o\n"
     ]
    }
   ],
   "source": [
    "text = 'hello'\n",
    "\n",
    "print(text[4:100])\n"
   ]
  },
  {
   "cell_type": "code",
   "execution_count": 13,
   "id": "9a3cdc0c",
   "metadata": {},
   "outputs": [
    {
     "name": "stdout",
     "output_type": "stream",
     "text": [
      "1 1\n",
      "3 3\n",
      "5 15\n",
      "7 105\n",
      "9 945\n",
      "11 10395\n",
      "13 135135\n",
      "15 2027025\n",
      "17 34459425\n",
      "19 654729075\n",
      "654729075\n"
     ]
    }
   ],
   "source": [
    "def almost_double_factorial(n):\n",
    "    if n == 0:\n",
    "        return 1\n",
    "    res = 1\n",
    "    right = n + 1\n",
    "    if n % 2 == 0:\n",
    "        n +=1\n",
    "    for i in range(1, right, 2):\n",
    "        res *= i\n",
    "        print(i, res)\n",
    "    return res\n",
    "\n",
    "\n",
    "print(almost_double_factorial(20))\n"
   ]
  },
  {
   "cell_type": "code",
   "execution_count": 18,
   "id": "96c23764",
   "metadata": {},
   "outputs": [
    {
     "name": "stdout",
     "output_type": "stream",
     "text": [
      "[('one', 'two'), ('three', 'four'), ('five', 'six'), ('string', 'a')]\n",
      "[('string', 'a'), ('one', 'two'), ('three', 'four'), ('five', 'six')]\n"
     ]
    }
   ],
   "source": [
    "\n",
    "items = [('one', 'two'), ('three', 'four'), ('five', 'six'), ('string', 'a')]\n",
    "\n",
    "#print(items[1][1])\n",
    "\n",
    "sorted_items = sorted(items, key=lambda x: x[1][-1])\n",
    "\n",
    "print(items)\n",
    "print(sorted_items)\n",
    "#sorted_items = [ ('string', 'a'), ('one', 'two'), ('three', 'four'), ('five', 'six'),]"
   ]
  },
  {
   "cell_type": "code",
   "execution_count": 20,
   "id": "78e890b4",
   "metadata": {},
   "outputs": [
    {
     "name": "stdout",
     "output_type": "stream",
     "text": [
      "[-5, 2, -3, 4, -1]\n"
     ]
    }
   ],
   "source": [
    "x = [1, 2, 3, 4, 5]\n",
    "x[::-2] = [-1, -3, -5]\n",
    "#[-5, 2, -3, 4, -1]\n",
    "print(x)"
   ]
  },
  {
   "cell_type": "code",
   "execution_count": 50,
   "id": "48317da4",
   "metadata": {},
   "outputs": [
    {
     "name": "stdout",
     "output_type": "stream",
     "text": [
      "[5, 6, 10, 10, 15, 10, 29]\n",
      "[5, 6, 15, 29]\n"
     ]
    }
   ],
   "source": [
    "def cumsum_and_erase(A, erase = None):\n",
    "    for i in range(1, len(A)):\n",
    "        A[i] = A[i] + A[i - 1]\n",
    "    print(A)\n",
    "    B = list(filter(lambda x: x != erase, A))\n",
    "    return B\n",
    "\n",
    "#A = [5, 1, 4, 5, 14] \n",
    "#A = [10] \n",
    "A = [5, 1, 4, 0, 5, -5,  19]\n",
    "B = cumsum_and_erase(A, erase=10) \n",
    "print(B)\n",
    "assert B == [5, 6, 15, 29], \"Something is wrong! Please try again\""
   ]
  },
  {
   "cell_type": "code",
   "execution_count": 73,
   "id": "790aec41",
   "metadata": {},
   "outputs": [
    {
     "name": "stdout",
     "output_type": "stream",
     "text": [
      "['thousand devils', 'My name is', 'Room costs', '']\n"
     ]
    }
   ],
   "source": [
    "\n",
    "def process(sentences):\n",
    "    for i in range(0, len(sentences)):\n",
    "        sentences[i] = [x for x in sentences[i].split(' ') if x.isalpha()]\n",
    "\n",
    "    result = [' '.join(x) for x in sentences]\n",
    "    return result\n",
    "\n",
    "print( process(['1 thousand devils', 'My name is 9Pasha', 'Room #125 costs $100', '888']))\n",
    "#['1 thousand devils', 'My name is 9Pasha', 'Room #125 costs $100', '888']\n",
    "#['thousand devils', 'My name is', 'Room costs', '']\n"
   ]
  },
  {
   "cell_type": "code",
   "execution_count": 63,
   "id": "2d8674e9",
   "metadata": {},
   "outputs": [
    {
     "name": "stdout",
     "output_type": "stream",
     "text": [
      "False\n"
     ]
    }
   ],
   "source": [
    "print('a12'.isalpha())"
   ]
  },
  {
   "cell_type": "code",
   "execution_count": 78,
   "id": "4894957d",
   "metadata": {},
   "outputs": [
    {
     "name": "stdout",
     "output_type": "stream",
     "text": [
      "14\n"
     ]
    }
   ],
   "source": [
    "from functools import reduce\n",
    "\n",
    "a = reduce(lambda x,y: x+y ,[x1*x2 for x1,x2 in zip([1,2,3], [1, 2, 3])])\n",
    "print(a)"
   ]
  },
  {
   "cell_type": "code",
   "execution_count": 81,
   "id": "a9a21971",
   "metadata": {},
   "outputs": [
    {
     "name": "stdout",
     "output_type": "stream",
     "text": [
      "14\n",
      "[1, 2, 3]\n"
     ]
    }
   ],
   "source": [
    "class Neuron:\n",
    "\n",
    "    def __init__(self, w, f = lambda x: x):\n",
    "        self.weight = w\n",
    "        self.func = f\n",
    "        self.last = None\n",
    "\n",
    "    def forward(self, x):\n",
    "        self.last = x\n",
    "        return self.func(reduce(lambda x,y: x+y ,[x1*x2 for x1,x2 in zip(self.last, self.weight)]))\n",
    "\n",
    "    def backlog(self):\n",
    "        return self.last\n",
    "    \n",
    "n = Neuron([1,2,3])\n",
    "print(n.forward([1,2,3]))\n",
    "print(n.backlog())"
   ]
  },
  {
   "cell_type": "code",
   "execution_count": 85,
   "id": "92c8cc4e",
   "metadata": {},
   "outputs": [
    {
     "name": "stdout",
     "output_type": "stream",
     "text": [
      "-8\n"
     ]
    }
   ],
   "source": [
    "import numpy as np\n",
    "\n",
    "a = np.array([[5, 1, -2, 0],[0, 3, 4, 3],[2, 3, 1, 1]])\n",
    "b = np.array([[1, -3],[2, -2],[3, -1],[0, 0]])\n",
    "c = a@b\n",
    "print( np.sum(c, axis = (0,1)))"
   ]
  },
  {
   "cell_type": "code",
   "execution_count": 137,
   "id": "6c5ab662",
   "metadata": {},
   "outputs": [
    {
     "name": "stdout",
     "output_type": "stream",
     "text": [
      "[1]\n"
     ]
    }
   ],
   "source": [
    "a = [1,2,3,4,5,6,7]\n",
    "print(a[0:1])"
   ]
  },
  {
   "cell_type": "code",
   "execution_count": 168,
   "id": "83b7131f",
   "metadata": {},
   "outputs": [
    {
     "name": "stdout",
     "output_type": "stream",
     "text": [
      "0 0\n",
      "1 1\n",
      "[1, 6]\n"
     ]
    }
   ],
   "source": [
    "a = [[1, 2],[3, 4]]\n",
    "b = [[1, 2],[3, 4]]\n",
    "for i_1,i_2 in zip([k for k in range(len(a[0]))], [m for m in range(len(b))]):\n",
    "    print(i_1,i_2)\n",
    "    \n",
    "s = [a[0][i_1]*b[i_2][0] for i_1,i_2 in zip([k for k in range(len(a[0]))], [m for m in range(len(b))])]\n",
    "print(s)"
   ]
  },
  {
   "cell_type": "code",
   "execution_count": 174,
   "id": "5b5547bb",
   "metadata": {},
   "outputs": [
    {
     "name": "stdout",
     "output_type": "stream",
     "text": [
      "no [[7, 10], [15, 22]]\n",
      "yes [[ 7 10]\n",
      " [15 22]]\n"
     ]
    }
   ],
   "source": [
    "import numpy as np\n",
    "\n",
    "def no_numpy_mult(first, second):\n",
    "    result = [[0 for j in range(len(second[0]))] for i in range(len(first))]\n",
    "    #print(result, len(first),len(second[0]))\n",
    "    for i in range(len(first)):\n",
    "        for j in range(len(second[0])):\n",
    "           # print(i,j)\n",
    "            result[i][j] = sum(first[i][k]*second[m][j] for k,m in zip([k_1 for k_1 in range(len(first[0]))], [m_1 for m_1 in range(len(second))]))\n",
    "    return result\n",
    "\n",
    "def numpy_mult(first, second):\n",
    "    result = first @ second\n",
    "   #print(first,'_\\n', second,'_\\n', result)\n",
    "    return result\n",
    "\n",
    "a = [[1, 2],[3, 4]]\n",
    "b = [[1, 2],[3, 4]]\n",
    "print('no',no_numpy_mult(a,b))\n",
    "\n",
    "a_ = np.array([[1, 2],[3, 4]])\n",
    "b_ = np.array([[1, 2],[3, 4]])\n",
    "print('yes',numpy_mult(a_,b_))"
   ]
  },
  {
   "cell_type": "code",
   "execution_count": 177,
   "id": "318a0aaf",
   "metadata": {},
   "outputs": [
    {
     "name": "stdout",
     "output_type": "stream",
     "text": [
      "14\n",
      "14\n"
     ]
    }
   ],
   "source": [
    "import numpy as np\n",
    "\n",
    "def no_numpy_scalar(v1, v2):\n",
    "    result = sum(v1[i]*v2[j] for i,j in zip(range(len(v1)),range(len(v2))))\n",
    "    return result\n",
    "\n",
    "def numpy_scalar (v1, v2):\n",
    "    result = np.sum(v1*v2)\n",
    "    return result\n",
    "\n",
    "v1_ = [1, 2, 3]\n",
    "v2_ = [1, 2, 3]\n",
    "print(no_numpy_scalar(v1_, v2_))\n",
    "\n",
    "v1 = np.array([1, 2, 3])\n",
    "v2 = np.array([1, 2, 3])\n",
    "print(numpy_scalar(v1, v2))\n"
   ]
  },
  {
   "cell_type": "code",
   "execution_count": 180,
   "id": "1941c009",
   "metadata": {},
   "outputs": [
    {
     "name": "stdout",
     "output_type": "stream",
     "text": [
      "6\n"
     ]
    },
    {
     "name": "stderr",
     "output_type": "stream",
     "text": [
      "<ipython-input-180-f5e9ce880ba5>:4: DeprecationWarning: Calling np.sum(generator) is deprecated, and in the future will give a different result. Use np.sum(np.fromiter(generator)) or the python sum builtin instead.\n",
      "  result = np.sum(x for x in np.diagonal(a) if x % 2 == 0)\n"
     ]
    }
   ],
   "source": [
    "import numpy as np #не стирать!        \n",
    "\n",
    "def diag_2k(a):\n",
    "    result = np.sum(x for x in np.diagonal(a) if x % 2 == 0)\n",
    "    return result\n",
    "\n",
    "a = np.array([[1,0],[3,6]])\n",
    "print(diag_2k(a))"
   ]
  },
  {
   "cell_type": "code",
   "execution_count": 181,
   "id": "20c3d5f1",
   "metadata": {},
   "outputs": [
    {
     "name": "stdout",
     "output_type": "stream",
     "text": [
      "[[1 3]\n",
      " [3 7]]\n"
     ]
    }
   ],
   "source": [
    "import numpy as np\n",
    "\n",
    "def cumsum(A):\n",
    "    return A.cumsum(axis = 1)\n",
    "\n",
    "a = np.array([[1,2], [3,4]])\n",
    "print(cumsum(a))"
   ]
  },
  {
   "cell_type": "markdown",
   "id": "d280413c",
   "metadata": {},
   "source": [
    "6.1 Склеивание"
   ]
  },
  {
   "cell_type": "code",
   "execution_count": 21,
   "id": "8f14ba2f",
   "metadata": {},
   "outputs": [
    {
     "name": "stdout",
     "output_type": "stream",
     "text": [
      "[[      100       200       300       400       500 125000000         1\n",
      "   27000000         1   1000000]] [[100 200 300 400 500]]\n"
     ]
    }
   ],
   "source": [
    "import numpy as np\n",
    "\n",
    "def transform(X, a=1):\n",
    "    Y = X.copy()\n",
    "    Y[:,1::2] = a\n",
    "    Y[:, ::2] = Y[:, ::2]**3\n",
    "    return np.concatenate((X, Y[:,::-1]), axis = 1)\n",
    "\n",
    "x = np.array([[100,200,300,400,500]])\n",
    "print(transform(x),x)"
   ]
  },
  {
   "cell_type": "code",
   "execution_count": 42,
   "id": "cfb73de4",
   "metadata": {},
   "outputs": [
    {
     "name": "stdout",
     "output_type": "stream",
     "text": [
      "[[100 200 300 400 500]\n",
      " [100 200 300 400 500]]\n",
      "[[100 300 500]\n",
      " [100 300 500]]\n",
      "b\n",
      " [[     1  40000      1 160000      1]\n",
      " [     1  40000      1 160000      1]] x\n",
      " [[100 200 300 400 500]\n",
      " [100 200 300 400 500]]\n",
      "[[     1  40000      1 160000      1    100    200    300    400    500]\n",
      " [     1  40000      1 160000      1    100    200    300    400    500]]\n"
     ]
    }
   ],
   "source": [
    "import numpy as np\n",
    "\n",
    "\n",
    "x = np.array([[100,200,300,400,500],[100,200,300,400,500]])\n",
    "print(x)\n",
    "print(x[:,::2])\n",
    "b = x.copy()\n",
    "b[:,::2] = 1\n",
    "b[:, 1::2] = b[:, 1::2]**2\n",
    "print('b\\n',b,'x\\n',x)\n",
    "c = np.concatenate((b,x), axis = 1)\n",
    "print(c)"
   ]
  },
  {
   "cell_type": "code",
   "execution_count": 46,
   "id": "4523dce1",
   "metadata": {},
   "outputs": [
    {
     "name": "stdout",
     "output_type": "stream",
     "text": [
      "(array([0, 1, 2, 3, 7, 9]), array([2, 1, 1, 2, 2, 1], dtype=int64))\n"
     ]
    }
   ],
   "source": [
    "import numpy as np\n",
    "\n",
    "def encode(a):\n",
    "    non_zero = np.nonzero(np.diff(a))\n",
    "    elems = np.append(x[non_zero],x[-1])\n",
    "    poses = np.diff(np.append(np.insert(non_zero,0,-1), (len(x) -1) ))\n",
    "    return (elems,poses)\n",
    "\n",
    "x = np.array([0, 0, 1, 2, 3, 3, 7, 7, 9])\n",
    "print(encode(x))"
   ]
  },
  {
   "cell_type": "code",
   "execution_count": 45,
   "id": "a9486245",
   "metadata": {},
   "outputs": [
    {
     "name": "stdout",
     "output_type": "stream",
     "text": [
      "[0 1 1 1 0 4 0 2]\n",
      "a [-1  1  2  3  5  7  8]\n",
      "[0 1 2 3 7 9]\n",
      "[2 1 1 2 2 1]\n"
     ]
    }
   ],
   "source": [
    "x = np.array([0, 0, 1, 2, 3, 3, 7, 7, 9])\n",
    "print(np.diff(x))\n",
    "a = np.nonzero(np.diff(x))\n",
    "elems = np.append(x[np.nonzero(np.diff(x))],x[-1])\n",
    "a = np.append(np.insert(a,0,-1), (len(x) -1) )\n",
    "print('a', a)\n",
    "print(elems)\n",
    "print(np.diff(a))"
   ]
  },
  {
   "cell_type": "code",
   "execution_count": null,
   "id": "b6216959",
   "metadata": {},
   "outputs": [],
   "source": []
  },
  {
   "cell_type": "code",
   "execution_count": null,
   "id": "be49efb9",
   "metadata": {},
   "outputs": [],
   "source": []
  }
 ],
 "metadata": {
  "kernelspec": {
   "display_name": "Python 3",
   "language": "python",
   "name": "python3"
  },
  "language_info": {
   "codemirror_mode": {
    "name": "ipython",
    "version": 3
   },
   "file_extension": ".py",
   "mimetype": "text/x-python",
   "name": "python",
   "nbconvert_exporter": "python",
   "pygments_lexer": "ipython3",
   "version": "3.8.8"
  }
 },
 "nbformat": 4,
 "nbformat_minor": 5
}

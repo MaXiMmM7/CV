{
 "cells": [
  {
   "cell_type": "code",
   "execution_count": 1,
   "id": "1b7fbee1",
   "metadata": {},
   "outputs": [],
   "source": [
    "import numpy as np"
   ]
  },
  {
   "cell_type": "code",
   "execution_count": 21,
   "id": "0a55a238",
   "metadata": {},
   "outputs": [],
   "source": [
    "pete = np.array([0.3, 0.05, 0.15])\n",
    "stu = np.array([0.2, 0.1, 0.2])\n",
    "prob_p = pete.sum()\n",
    "prob_s = stu.sum()\n",
    "pete = pete/pete.sum()\n",
    "stu = stu/stu.sum()"
   ]
  },
  {
   "cell_type": "code",
   "execution_count": 23,
   "id": "e405bc8c",
   "metadata": {},
   "outputs": [
    {
     "name": "stdout",
     "output_type": "stream",
     "text": [
      "<class 'numpy.float64'> <class 'numpy.float64'> <class 'numpy.float64'> <class 'numpy.float64'>\n",
      "1.4086949695628421\n"
     ]
    }
   ],
   "source": [
    "Hp = np.array([-p*np.log2(p) for p in pete]).sum()\n",
    "Hs = np.array([-p*np.log2(p) for p in stu]).sum()\n",
    "print(type(Hp), type(Hs), type(prob_p), type(prob_s))\n",
    "print((prob_p*Hp + prob_s*Hs))\n"
   ]
  },
  {
   "cell_type": "code",
   "execution_count": 24,
   "id": "9a08c9bc",
   "metadata": {},
   "outputs": [
    {
     "name": "stdout",
     "output_type": "stream",
     "text": [
      "goal|pete =  0.3\n"
     ]
    }
   ],
   "source": [
    "print('goal|pete = ', (0.3/pete.sum()))"
   ]
  },
  {
   "cell_type": "code",
   "execution_count": 25,
   "id": "a3df8b0b",
   "metadata": {},
   "outputs": [
    {
     "name": "stdout",
     "output_type": "stream",
     "text": [
      "GK save|pete =  0.05\n"
     ]
    }
   ],
   "source": [
    "print('GK save|pete = ', (0.05/pete.sum()))"
   ]
  },
  {
   "cell_type": "code",
   "execution_count": 26,
   "id": "3c382051",
   "metadata": {},
   "outputs": [
    {
     "name": "stdout",
     "output_type": "stream",
     "text": [
      "pete entropy =  1.295461844238322\n"
     ]
    }
   ],
   "source": [
    "print('pete entropy = ', Hp)"
   ]
  },
  {
   "cell_type": "code",
   "execution_count": 34,
   "id": "b8ca2b2e",
   "metadata": {},
   "outputs": [],
   "source": [
    "pete = np.array([0.3, 0.05, 0.15])\n",
    "stu = np.array([0.2, 0.1, 0.2])\n",
    "data = np.concatenate((pete.reshape(1,-1), stu.reshape(1,-1)))\n",
    "data = data.T"
   ]
  },
  {
   "cell_type": "code",
   "execution_count": 39,
   "id": "25db1bd4",
   "metadata": {},
   "outputs": [
    {
     "name": "stdout",
     "output_type": "stream",
     "text": [
      "entropy theta =  1.4406454496153462\n"
     ]
    }
   ],
   "source": [
    "entropy_theta = np.array([-p*np.log2(p) for p in data.sum(axis = 1)]).sum()\n",
    "print('entropy theta = ', entropy_theta)"
   ]
  },
  {
   "cell_type": "code",
   "execution_count": 42,
   "id": "22a92243",
   "metadata": {},
   "outputs": [
    {
     "name": "stdout",
     "output_type": "stream",
     "text": [
      "0.9680495199474957\n"
     ]
    }
   ],
   "source": [
    "probs_H = data.sum(axis = 1)\n",
    "h1 = np.array([-p*np.log2(p) for p in data[0]/data[0].sum()]).sum()\n",
    "h2 = np.array([-p*np.log2(p) for p in data[1]/data[1].sum()]).sum()\n",
    "h3 = np.array([-p*np.log2(p) for p in data[2]/data[2].sum()]).sum()\n",
    "H_res = h1*probs_H[0] + h2*probs_H[1] + h3*probs_H[2]\n",
    "print(H_res)"
   ]
  },
  {
   "cell_type": "code",
   "execution_count": 45,
   "id": "821b798e",
   "metadata": {},
   "outputs": [
    {
     "name": "stdout",
     "output_type": "stream",
     "text": [
      "IG =  0.03164544961534621\n"
     ]
    }
   ],
   "source": [
    "IG = entropy_theta - 1.409\n",
    "print('IG = ', IG)"
   ]
  },
  {
   "cell_type": "code",
   "execution_count": 49,
   "id": "d2000b53",
   "metadata": {},
   "outputs": [
    {
     "name": "stdout",
     "output_type": "stream",
     "text": [
      "128\n",
      "254\n"
     ]
    }
   ],
   "source": [
    "print(2**7)\n",
    "x = np.array([2**i for i in range(1,8)])\n",
    "print(x.sum())"
   ]
  },
  {
   "cell_type": "code",
   "execution_count": 51,
   "id": "49981158",
   "metadata": {},
   "outputs": [
    {
     "data": {
      "text/plain": [
       "0.6111111111111112"
      ]
     },
     "execution_count": 51,
     "metadata": {},
     "output_type": "execute_result"
    }
   ],
   "source": [
    "1 - (1/2)**2 - (1/6)**2 - (1/3)**2"
   ]
  }
 ],
 "metadata": {
  "kernelspec": {
   "display_name": "Python 3",
   "language": "python",
   "name": "python3"
  },
  "language_info": {
   "codemirror_mode": {
    "name": "ipython",
    "version": 3
   },
   "file_extension": ".py",
   "mimetype": "text/x-python",
   "name": "python",
   "nbconvert_exporter": "python",
   "pygments_lexer": "ipython3",
   "version": "3.8.8"
  }
 },
 "nbformat": 4,
 "nbformat_minor": 5
}

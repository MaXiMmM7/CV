{
 "cells": [
  {
   "cell_type": "code",
   "execution_count": 19,
   "id": "23e0204c",
   "metadata": {},
   "outputs": [],
   "source": [
    "import pandas as pd\n",
    "import numpy as np\n",
    "import matplotlib.pyplot as plt"
   ]
  },
  {
   "cell_type": "code",
   "execution_count": 20,
   "id": "8ccbb4db",
   "metadata": {},
   "outputs": [],
   "source": [
    "data = pd.read_csv('diabetes.csv')"
   ]
  },
  {
   "cell_type": "code",
   "execution_count": 21,
   "id": "eadb4a4f",
   "metadata": {},
   "outputs": [
    {
     "name": "stdout",
     "output_type": "stream",
     "text": [
      "(768, 9)\n",
      "(690, 9)\n"
     ]
    },
    {
     "data": {
      "text/html": [
       "<div>\n",
       "<style scoped>\n",
       "    .dataframe tbody tr th:only-of-type {\n",
       "        vertical-align: middle;\n",
       "    }\n",
       "\n",
       "    .dataframe tbody tr th {\n",
       "        vertical-align: top;\n",
       "    }\n",
       "\n",
       "    .dataframe thead th {\n",
       "        text-align: right;\n",
       "    }\n",
       "</style>\n",
       "<table border=\"1\" class=\"dataframe\">\n",
       "  <thead>\n",
       "    <tr style=\"text-align: right;\">\n",
       "      <th></th>\n",
       "      <th>Pregnancies</th>\n",
       "      <th>Glucose</th>\n",
       "      <th>BloodPressure</th>\n",
       "      <th>SkinThickness</th>\n",
       "      <th>Insulin</th>\n",
       "      <th>BMI</th>\n",
       "      <th>DiabetesPedigreeFunction</th>\n",
       "      <th>Age</th>\n",
       "      <th>Outcome</th>\n",
       "    </tr>\n",
       "  </thead>\n",
       "  <tbody>\n",
       "    <tr>\n",
       "      <th>0</th>\n",
       "      <td>6</td>\n",
       "      <td>148</td>\n",
       "      <td>72</td>\n",
       "      <td>35</td>\n",
       "      <td>0</td>\n",
       "      <td>33.6</td>\n",
       "      <td>0.627</td>\n",
       "      <td>50</td>\n",
       "      <td>1</td>\n",
       "    </tr>\n",
       "    <tr>\n",
       "      <th>1</th>\n",
       "      <td>1</td>\n",
       "      <td>85</td>\n",
       "      <td>66</td>\n",
       "      <td>29</td>\n",
       "      <td>0</td>\n",
       "      <td>26.6</td>\n",
       "      <td>0.351</td>\n",
       "      <td>31</td>\n",
       "      <td>0</td>\n",
       "    </tr>\n",
       "    <tr>\n",
       "      <th>2</th>\n",
       "      <td>8</td>\n",
       "      <td>183</td>\n",
       "      <td>64</td>\n",
       "      <td>0</td>\n",
       "      <td>0</td>\n",
       "      <td>23.3</td>\n",
       "      <td>0.672</td>\n",
       "      <td>32</td>\n",
       "      <td>1</td>\n",
       "    </tr>\n",
       "    <tr>\n",
       "      <th>3</th>\n",
       "      <td>1</td>\n",
       "      <td>89</td>\n",
       "      <td>66</td>\n",
       "      <td>23</td>\n",
       "      <td>94</td>\n",
       "      <td>28.1</td>\n",
       "      <td>0.167</td>\n",
       "      <td>21</td>\n",
       "      <td>0</td>\n",
       "    </tr>\n",
       "    <tr>\n",
       "      <th>4</th>\n",
       "      <td>0</td>\n",
       "      <td>137</td>\n",
       "      <td>40</td>\n",
       "      <td>35</td>\n",
       "      <td>168</td>\n",
       "      <td>43.1</td>\n",
       "      <td>2.288</td>\n",
       "      <td>33</td>\n",
       "      <td>1</td>\n",
       "    </tr>\n",
       "  </tbody>\n",
       "</table>\n",
       "</div>"
      ],
      "text/plain": [
       "   Pregnancies  Glucose  BloodPressure  SkinThickness  Insulin   BMI  \\\n",
       "0            6      148             72             35        0  33.6   \n",
       "1            1       85             66             29        0  26.6   \n",
       "2            8      183             64              0        0  23.3   \n",
       "3            1       89             66             23       94  28.1   \n",
       "4            0      137             40             35      168  43.1   \n",
       "\n",
       "   DiabetesPedigreeFunction  Age  Outcome  \n",
       "0                     0.627   50        1  \n",
       "1                     0.351   31        0  \n",
       "2                     0.672   32        1  \n",
       "3                     0.167   21        0  \n",
       "4                     2.288   33        1  "
      ]
     },
     "execution_count": 21,
     "metadata": {},
     "output_type": "execute_result"
    }
   ],
   "source": [
    "print(data.shape)\n",
    "data = data.iloc[:690,:]\n",
    "\n",
    "task_data = data.head(590)\n",
    "\n",
    "print(data.shape)\n",
    "data.head()"
   ]
  },
  {
   "cell_type": "code",
   "execution_count": 22,
   "id": "e656d4bd",
   "metadata": {},
   "outputs": [
    {
     "name": "stdout",
     "output_type": "stream",
     "text": [
      "Number of rows of type 0 is  453\n"
     ]
    }
   ],
   "source": [
    "print('Number of rows of type 0 is ', data[data['Outcome'] == 0].shape[0])"
   ]
  },
  {
   "cell_type": "code",
   "execution_count": 23,
   "id": "3600a355",
   "metadata": {},
   "outputs": [],
   "source": [
    "data_train = data.head(int(len(data)*0.8))\n",
    "data_test = data.tail(int(len(data)*0.2))"
   ]
  },
  {
   "cell_type": "code",
   "execution_count": 24,
   "id": "bdffac90",
   "metadata": {},
   "outputs": [
    {
     "name": "stdout",
     "output_type": "stream",
     "text": [
      "data_train =  552 ; data_test =  138 ; data 690\n"
     ]
    }
   ],
   "source": [
    "print('data_train = ', data_train.shape[0], '; data_test = ', data_test.shape[0], '; data', (data_train.shape[0] + data_test.shape[0]))"
   ]
  },
  {
   "cell_type": "code",
   "execution_count": 25,
   "id": "a70462e9",
   "metadata": {},
   "outputs": [
    {
     "name": "stdout",
     "output_type": "stream",
     "text": [
      "<class 'pandas.core.series.Series'>\n"
     ]
    },
    {
     "data": {
      "text/html": [
       "<div>\n",
       "<style scoped>\n",
       "    .dataframe tbody tr th:only-of-type {\n",
       "        vertical-align: middle;\n",
       "    }\n",
       "\n",
       "    .dataframe tbody tr th {\n",
       "        vertical-align: top;\n",
       "    }\n",
       "\n",
       "    .dataframe thead th {\n",
       "        text-align: right;\n",
       "    }\n",
       "</style>\n",
       "<table border=\"1\" class=\"dataframe\">\n",
       "  <thead>\n",
       "    <tr style=\"text-align: right;\">\n",
       "      <th></th>\n",
       "      <th>Pregnancies</th>\n",
       "      <th>Glucose</th>\n",
       "      <th>BloodPressure</th>\n",
       "      <th>SkinThickness</th>\n",
       "      <th>Insulin</th>\n",
       "      <th>BMI</th>\n",
       "      <th>DiabetesPedigreeFunction</th>\n",
       "      <th>Age</th>\n",
       "    </tr>\n",
       "  </thead>\n",
       "  <tbody>\n",
       "    <tr>\n",
       "      <th>0</th>\n",
       "      <td>6</td>\n",
       "      <td>148</td>\n",
       "      <td>72</td>\n",
       "      <td>35</td>\n",
       "      <td>0</td>\n",
       "      <td>33.6</td>\n",
       "      <td>0.627</td>\n",
       "      <td>50</td>\n",
       "    </tr>\n",
       "    <tr>\n",
       "      <th>1</th>\n",
       "      <td>1</td>\n",
       "      <td>85</td>\n",
       "      <td>66</td>\n",
       "      <td>29</td>\n",
       "      <td>0</td>\n",
       "      <td>26.6</td>\n",
       "      <td>0.351</td>\n",
       "      <td>31</td>\n",
       "    </tr>\n",
       "    <tr>\n",
       "      <th>2</th>\n",
       "      <td>8</td>\n",
       "      <td>183</td>\n",
       "      <td>64</td>\n",
       "      <td>0</td>\n",
       "      <td>0</td>\n",
       "      <td>23.3</td>\n",
       "      <td>0.672</td>\n",
       "      <td>32</td>\n",
       "    </tr>\n",
       "    <tr>\n",
       "      <th>3</th>\n",
       "      <td>1</td>\n",
       "      <td>89</td>\n",
       "      <td>66</td>\n",
       "      <td>23</td>\n",
       "      <td>94</td>\n",
       "      <td>28.1</td>\n",
       "      <td>0.167</td>\n",
       "      <td>21</td>\n",
       "    </tr>\n",
       "    <tr>\n",
       "      <th>4</th>\n",
       "      <td>0</td>\n",
       "      <td>137</td>\n",
       "      <td>40</td>\n",
       "      <td>35</td>\n",
       "      <td>168</td>\n",
       "      <td>43.1</td>\n",
       "      <td>2.288</td>\n",
       "      <td>33</td>\n",
       "    </tr>\n",
       "    <tr>\n",
       "      <th>...</th>\n",
       "      <td>...</td>\n",
       "      <td>...</td>\n",
       "      <td>...</td>\n",
       "      <td>...</td>\n",
       "      <td>...</td>\n",
       "      <td>...</td>\n",
       "      <td>...</td>\n",
       "      <td>...</td>\n",
       "    </tr>\n",
       "    <tr>\n",
       "      <th>547</th>\n",
       "      <td>4</td>\n",
       "      <td>131</td>\n",
       "      <td>68</td>\n",
       "      <td>21</td>\n",
       "      <td>166</td>\n",
       "      <td>33.1</td>\n",
       "      <td>0.160</td>\n",
       "      <td>28</td>\n",
       "    </tr>\n",
       "    <tr>\n",
       "      <th>548</th>\n",
       "      <td>1</td>\n",
       "      <td>164</td>\n",
       "      <td>82</td>\n",
       "      <td>43</td>\n",
       "      <td>67</td>\n",
       "      <td>32.8</td>\n",
       "      <td>0.341</td>\n",
       "      <td>50</td>\n",
       "    </tr>\n",
       "    <tr>\n",
       "      <th>549</th>\n",
       "      <td>4</td>\n",
       "      <td>189</td>\n",
       "      <td>110</td>\n",
       "      <td>31</td>\n",
       "      <td>0</td>\n",
       "      <td>28.5</td>\n",
       "      <td>0.680</td>\n",
       "      <td>37</td>\n",
       "    </tr>\n",
       "    <tr>\n",
       "      <th>550</th>\n",
       "      <td>1</td>\n",
       "      <td>116</td>\n",
       "      <td>70</td>\n",
       "      <td>28</td>\n",
       "      <td>0</td>\n",
       "      <td>27.4</td>\n",
       "      <td>0.204</td>\n",
       "      <td>21</td>\n",
       "    </tr>\n",
       "    <tr>\n",
       "      <th>551</th>\n",
       "      <td>3</td>\n",
       "      <td>84</td>\n",
       "      <td>68</td>\n",
       "      <td>30</td>\n",
       "      <td>106</td>\n",
       "      <td>31.9</td>\n",
       "      <td>0.591</td>\n",
       "      <td>25</td>\n",
       "    </tr>\n",
       "  </tbody>\n",
       "</table>\n",
       "<p>552 rows × 8 columns</p>\n",
       "</div>"
      ],
      "text/plain": [
       "     Pregnancies  Glucose  BloodPressure  SkinThickness  Insulin   BMI  \\\n",
       "0              6      148             72             35        0  33.6   \n",
       "1              1       85             66             29        0  26.6   \n",
       "2              8      183             64              0        0  23.3   \n",
       "3              1       89             66             23       94  28.1   \n",
       "4              0      137             40             35      168  43.1   \n",
       "..           ...      ...            ...            ...      ...   ...   \n",
       "547            4      131             68             21      166  33.1   \n",
       "548            1      164             82             43       67  32.8   \n",
       "549            4      189            110             31        0  28.5   \n",
       "550            1      116             70             28        0  27.4   \n",
       "551            3       84             68             30      106  31.9   \n",
       "\n",
       "     DiabetesPedigreeFunction  Age  \n",
       "0                       0.627   50  \n",
       "1                       0.351   31  \n",
       "2                       0.672   32  \n",
       "3                       0.167   21  \n",
       "4                       2.288   33  \n",
       "..                        ...  ...  \n",
       "547                     0.160   28  \n",
       "548                     0.341   50  \n",
       "549                     0.680   37  \n",
       "550                     0.204   21  \n",
       "551                     0.591   25  \n",
       "\n",
       "[552 rows x 8 columns]"
      ]
     },
     "execution_count": 25,
     "metadata": {},
     "output_type": "execute_result"
    }
   ],
   "source": [
    "y_train = data_train['Outcome']\n",
    "print(type(y_train))\n",
    "x_train = data_train.iloc[:,:8]\n",
    "x_train"
   ]
  },
  {
   "cell_type": "code",
   "execution_count": 26,
   "id": "0a52eb33",
   "metadata": {},
   "outputs": [],
   "source": [
    "from sklearn.tree import DecisionTreeClassifier"
   ]
  },
  {
   "cell_type": "code",
   "execution_count": 27,
   "id": "c44ab0b8",
   "metadata": {},
   "outputs": [],
   "source": [
    "tree = DecisionTreeClassifier(criterion = 'entropy',\n",
    "                            max_leaf_nodes = 20,\n",
    "                            min_samples_leaf = 10,\n",
    "                            random_state = 2020)"
   ]
  },
  {
   "cell_type": "code",
   "execution_count": 28,
   "id": "10fcc1dc",
   "metadata": {},
   "outputs": [],
   "source": [
    "clf = tree.fit(x_train, y_train)"
   ]
  },
  {
   "cell_type": "code",
   "execution_count": 29,
   "id": "ffc407db",
   "metadata": {},
   "outputs": [],
   "source": [
    "from sklearn.tree import export_graphviz"
   ]
  },
  {
   "cell_type": "code",
   "execution_count": 30,
   "id": "981475ee",
   "metadata": {},
   "outputs": [],
   "source": [
    "columns = list(x_train.columns)\n",
    "export_graphviz(clf, out_file='tree.dot', \n",
    "                feature_names=columns,\n",
    "                class_names=['0', '1'],\n",
    "                rounded = True, proportion = False, \n",
    "                precision = 2, filled = True, label='all')"
   ]
  },
  {
   "cell_type": "code",
   "execution_count": 31,
   "id": "fbea26ee",
   "metadata": {},
   "outputs": [],
   "source": [
    "with open('tree.dot') as f:\n",
    "    dot_graph = f.read()"
   ]
  },
  {
   "cell_type": "code",
   "execution_count": 32,
   "id": "40c9ae10",
   "metadata": {},
   "outputs": [],
   "source": [
    "#!pip install graphviz\n",
    "import graphviz"
   ]
  },
  {
   "cell_type": "code",
   "execution_count": 33,
   "id": "b655b798",
   "metadata": {},
   "outputs": [
    {
     "data": {
      "image/svg+xml": [
       "<?xml version=\"1.0\" encoding=\"UTF-8\" standalone=\"no\"?>\n",
       "<!DOCTYPE svg PUBLIC \"-//W3C//DTD SVG 1.1//EN\"\n",
       " \"http://www.w3.org/Graphics/SVG/1.1/DTD/svg11.dtd\">\n",
       "<!-- Generated by graphviz version 3.0.0 (20220226.1711)\n",
       " -->\n",
       "<!-- Title: Tree Pages: 1 -->\n",
       "<svg width=\"1803pt\" height=\"790pt\"\n",
       " viewBox=\"0.00 0.00 1803.00 790.00\" xmlns=\"http://www.w3.org/2000/svg\" xmlns:xlink=\"http://www.w3.org/1999/xlink\">\n",
       "<g id=\"graph0\" class=\"graph\" transform=\"scale(1 1) rotate(0) translate(4 786)\">\n",
       "<title>Tree</title>\n",
       "<polygon fill=\"white\" stroke=\"transparent\" points=\"-4,4 -4,-786 1799,-786 1799,4 -4,4\"/>\n",
       "<!-- 0 -->\n",
       "<g id=\"node1\" class=\"node\">\n",
       "<title>0</title>\n",
       "<path fill=\"#f3c6a5\" stroke=\"black\" d=\"M785,-782C785,-782 678,-782 678,-782 672,-782 666,-776 666,-770 666,-770 666,-711 666,-711 666,-705 672,-699 678,-699 678,-699 785,-699 785,-699 791,-699 797,-705 797,-711 797,-711 797,-770 797,-770 797,-776 791,-782 785,-782\"/>\n",
       "<text text-anchor=\"middle\" x=\"731.5\" y=\"-766.8\" font-family=\"Helvetica,sans-Serif\" font-size=\"14.00\">Glucose &lt;= 127.5</text>\n",
       "<text text-anchor=\"middle\" x=\"731.5\" y=\"-751.8\" font-family=\"Helvetica,sans-Serif\" font-size=\"14.00\">entropy = 0.94</text>\n",
       "<text text-anchor=\"middle\" x=\"731.5\" y=\"-736.8\" font-family=\"Helvetica,sans-Serif\" font-size=\"14.00\">samples = 552</text>\n",
       "<text text-anchor=\"middle\" x=\"731.5\" y=\"-721.8\" font-family=\"Helvetica,sans-Serif\" font-size=\"14.00\">value = [357, 195]</text>\n",
       "<text text-anchor=\"middle\" x=\"731.5\" y=\"-706.8\" font-family=\"Helvetica,sans-Serif\" font-size=\"14.00\">class = 0</text>\n",
       "</g>\n",
       "<!-- 1 -->\n",
       "<g id=\"node2\" class=\"node\">\n",
       "<title>1</title>\n",
       "<path fill=\"#eca16c\" stroke=\"black\" d=\"M706.5,-663C706.5,-663 608.5,-663 608.5,-663 602.5,-663 596.5,-657 596.5,-651 596.5,-651 596.5,-592 596.5,-592 596.5,-586 602.5,-580 608.5,-580 608.5,-580 706.5,-580 706.5,-580 712.5,-580 718.5,-586 718.5,-592 718.5,-592 718.5,-651 718.5,-651 718.5,-657 712.5,-663 706.5,-663\"/>\n",
       "<text text-anchor=\"middle\" x=\"657.5\" y=\"-647.8\" font-family=\"Helvetica,sans-Serif\" font-size=\"14.00\">Age &lt;= 27.5</text>\n",
       "<text text-anchor=\"middle\" x=\"657.5\" y=\"-632.8\" font-family=\"Helvetica,sans-Serif\" font-size=\"14.00\">entropy = 0.73</text>\n",
       "<text text-anchor=\"middle\" x=\"657.5\" y=\"-617.8\" font-family=\"Helvetica,sans-Serif\" font-size=\"14.00\">samples = 343</text>\n",
       "<text text-anchor=\"middle\" x=\"657.5\" y=\"-602.8\" font-family=\"Helvetica,sans-Serif\" font-size=\"14.00\">value = [273, 70]</text>\n",
       "<text text-anchor=\"middle\" x=\"657.5\" y=\"-587.8\" font-family=\"Helvetica,sans-Serif\" font-size=\"14.00\">class = 0</text>\n",
       "</g>\n",
       "<!-- 0&#45;&gt;1 -->\n",
       "<g id=\"edge1\" class=\"edge\">\n",
       "<title>0&#45;&gt;1</title>\n",
       "<path fill=\"none\" stroke=\"black\" d=\"M705.83,-698.91C700.26,-690.1 694.31,-680.7 688.56,-671.61\"/>\n",
       "<polygon fill=\"black\" stroke=\"black\" points=\"691.43,-669.6 683.13,-663.02 685.52,-673.34 691.43,-669.6\"/>\n",
       "<text text-anchor=\"middle\" x=\"677.64\" y=\"-683.71\" font-family=\"Helvetica,sans-Serif\" font-size=\"14.00\">True</text>\n",
       "</g>\n",
       "<!-- 2 -->\n",
       "<g id=\"node19\" class=\"node\">\n",
       "<title>2</title>\n",
       "<path fill=\"#bedff6\" stroke=\"black\" d=\"M912.5,-663C912.5,-663 814.5,-663 814.5,-663 808.5,-663 802.5,-657 802.5,-651 802.5,-651 802.5,-592 802.5,-592 802.5,-586 808.5,-580 814.5,-580 814.5,-580 912.5,-580 912.5,-580 918.5,-580 924.5,-586 924.5,-592 924.5,-592 924.5,-651 924.5,-651 924.5,-657 918.5,-663 912.5,-663\"/>\n",
       "<text text-anchor=\"middle\" x=\"863.5\" y=\"-647.8\" font-family=\"Helvetica,sans-Serif\" font-size=\"14.00\">BMI &lt;= 29.95</text>\n",
       "<text text-anchor=\"middle\" x=\"863.5\" y=\"-632.8\" font-family=\"Helvetica,sans-Serif\" font-size=\"14.00\">entropy = 0.97</text>\n",
       "<text text-anchor=\"middle\" x=\"863.5\" y=\"-617.8\" font-family=\"Helvetica,sans-Serif\" font-size=\"14.00\">samples = 209</text>\n",
       "<text text-anchor=\"middle\" x=\"863.5\" y=\"-602.8\" font-family=\"Helvetica,sans-Serif\" font-size=\"14.00\">value = [84, 125]</text>\n",
       "<text text-anchor=\"middle\" x=\"863.5\" y=\"-587.8\" font-family=\"Helvetica,sans-Serif\" font-size=\"14.00\">class = 1</text>\n",
       "</g>\n",
       "<!-- 0&#45;&gt;2 -->\n",
       "<g id=\"edge18\" class=\"edge\">\n",
       "<title>0&#45;&gt;2</title>\n",
       "<path fill=\"none\" stroke=\"black\" d=\"M777.3,-698.91C787.84,-689.56 799.15,-679.54 809.99,-669.93\"/>\n",
       "<polygon fill=\"black\" stroke=\"black\" points=\"812.62,-672.27 817.78,-663.02 807.98,-667.03 812.62,-672.27\"/>\n",
       "<text text-anchor=\"middle\" x=\"816.28\" y=\"-684.28\" font-family=\"Helvetica,sans-Serif\" font-size=\"14.00\">False</text>\n",
       "</g>\n",
       "<!-- 3 -->\n",
       "<g id=\"node3\" class=\"node\">\n",
       "<title>3</title>\n",
       "<path fill=\"#e78b49\" stroke=\"black\" d=\"M466.5,-544C466.5,-544 368.5,-544 368.5,-544 362.5,-544 356.5,-538 356.5,-532 356.5,-532 356.5,-473 356.5,-473 356.5,-467 362.5,-461 368.5,-461 368.5,-461 466.5,-461 466.5,-461 472.5,-461 478.5,-467 478.5,-473 478.5,-473 478.5,-532 478.5,-532 478.5,-538 472.5,-544 466.5,-544\"/>\n",
       "<text text-anchor=\"middle\" x=\"417.5\" y=\"-528.8\" font-family=\"Helvetica,sans-Serif\" font-size=\"14.00\">BMI &lt;= 30.9</text>\n",
       "<text text-anchor=\"middle\" x=\"417.5\" y=\"-513.8\" font-family=\"Helvetica,sans-Serif\" font-size=\"14.00\">entropy = 0.38</text>\n",
       "<text text-anchor=\"middle\" x=\"417.5\" y=\"-498.8\" font-family=\"Helvetica,sans-Serif\" font-size=\"14.00\">samples = 175</text>\n",
       "<text text-anchor=\"middle\" x=\"417.5\" y=\"-483.8\" font-family=\"Helvetica,sans-Serif\" font-size=\"14.00\">value = [162, 13]</text>\n",
       "<text text-anchor=\"middle\" x=\"417.5\" y=\"-468.8\" font-family=\"Helvetica,sans-Serif\" font-size=\"14.00\">class = 0</text>\n",
       "</g>\n",
       "<!-- 1&#45;&gt;3 -->\n",
       "<g id=\"edge2\" class=\"edge\">\n",
       "<title>1&#45;&gt;3</title>\n",
       "<path fill=\"none\" stroke=\"black\" d=\"M596.32,-590.67C563.17,-574.51 522.07,-554.48 487.63,-537.69\"/>\n",
       "<polygon fill=\"black\" stroke=\"black\" points=\"489.09,-534.51 478.57,-533.27 486.03,-540.8 489.09,-534.51\"/>\n",
       "</g>\n",
       "<!-- 4 -->\n",
       "<g id=\"node12\" class=\"node\">\n",
       "<title>4</title>\n",
       "<path fill=\"#f2c29f\" stroke=\"black\" d=\"M706.5,-544C706.5,-544 608.5,-544 608.5,-544 602.5,-544 596.5,-538 596.5,-532 596.5,-532 596.5,-473 596.5,-473 596.5,-467 602.5,-461 608.5,-461 608.5,-461 706.5,-461 706.5,-461 712.5,-461 718.5,-467 718.5,-473 718.5,-473 718.5,-532 718.5,-532 718.5,-538 712.5,-544 706.5,-544\"/>\n",
       "<text text-anchor=\"middle\" x=\"657.5\" y=\"-528.8\" font-family=\"Helvetica,sans-Serif\" font-size=\"14.00\">BMI &lt;= 26.35</text>\n",
       "<text text-anchor=\"middle\" x=\"657.5\" y=\"-513.8\" font-family=\"Helvetica,sans-Serif\" font-size=\"14.00\">entropy = 0.92</text>\n",
       "<text text-anchor=\"middle\" x=\"657.5\" y=\"-498.8\" font-family=\"Helvetica,sans-Serif\" font-size=\"14.00\">samples = 168</text>\n",
       "<text text-anchor=\"middle\" x=\"657.5\" y=\"-483.8\" font-family=\"Helvetica,sans-Serif\" font-size=\"14.00\">value = [111, 57]</text>\n",
       "<text text-anchor=\"middle\" x=\"657.5\" y=\"-468.8\" font-family=\"Helvetica,sans-Serif\" font-size=\"14.00\">class = 0</text>\n",
       "</g>\n",
       "<!-- 1&#45;&gt;4 -->\n",
       "<g id=\"edge11\" class=\"edge\">\n",
       "<title>1&#45;&gt;4</title>\n",
       "<path fill=\"none\" stroke=\"black\" d=\"M657.5,-579.91C657.5,-571.65 657.5,-562.86 657.5,-554.3\"/>\n",
       "<polygon fill=\"black\" stroke=\"black\" points=\"661,-554.02 657.5,-544.02 654,-554.02 661,-554.02\"/>\n",
       "</g>\n",
       "<!-- 9 -->\n",
       "<g id=\"node4\" class=\"node\">\n",
       "<title>9</title>\n",
       "<path fill=\"#e5823b\" stroke=\"black\" d=\"M285,-425C285,-425 70,-425 70,-425 64,-425 58,-419 58,-413 58,-413 58,-354 58,-354 58,-348 64,-342 70,-342 70,-342 285,-342 285,-342 291,-342 297,-348 297,-354 297,-354 297,-413 297,-413 297,-419 291,-425 285,-425\"/>\n",
       "<text text-anchor=\"middle\" x=\"177.5\" y=\"-409.8\" font-family=\"Helvetica,sans-Serif\" font-size=\"14.00\">DiabetesPedigreeFunction &lt;= 0.67</text>\n",
       "<text text-anchor=\"middle\" x=\"177.5\" y=\"-394.8\" font-family=\"Helvetica,sans-Serif\" font-size=\"14.00\">entropy = 0.08</text>\n",
       "<text text-anchor=\"middle\" x=\"177.5\" y=\"-379.8\" font-family=\"Helvetica,sans-Serif\" font-size=\"14.00\">samples = 104</text>\n",
       "<text text-anchor=\"middle\" x=\"177.5\" y=\"-364.8\" font-family=\"Helvetica,sans-Serif\" font-size=\"14.00\">value = [103, 1]</text>\n",
       "<text text-anchor=\"middle\" x=\"177.5\" y=\"-349.8\" font-family=\"Helvetica,sans-Serif\" font-size=\"14.00\">class = 0</text>\n",
       "</g>\n",
       "<!-- 3&#45;&gt;9 -->\n",
       "<g id=\"edge3\" class=\"edge\">\n",
       "<title>3&#45;&gt;9</title>\n",
       "<path fill=\"none\" stroke=\"black\" d=\"M356.32,-471.67C330.13,-458.91 298.97,-443.72 270.06,-429.62\"/>\n",
       "<polygon fill=\"black\" stroke=\"black\" points=\"271.28,-426.32 260.76,-425.09 268.21,-432.62 271.28,-426.32\"/>\n",
       "</g>\n",
       "<!-- 10 -->\n",
       "<g id=\"node7\" class=\"node\">\n",
       "<title>10</title>\n",
       "<path fill=\"#ea9b61\" stroke=\"black\" d=\"M471,-425C471,-425 364,-425 364,-425 358,-425 352,-419 352,-413 352,-413 352,-354 352,-354 352,-348 358,-342 364,-342 364,-342 471,-342 471,-342 477,-342 483,-348 483,-354 483,-354 483,-413 483,-413 483,-419 477,-425 471,-425\"/>\n",
       "<text text-anchor=\"middle\" x=\"417.5\" y=\"-409.8\" font-family=\"Helvetica,sans-Serif\" font-size=\"14.00\">Glucose &lt;= 113.5</text>\n",
       "<text text-anchor=\"middle\" x=\"417.5\" y=\"-394.8\" font-family=\"Helvetica,sans-Serif\" font-size=\"14.00\">entropy = 0.66</text>\n",
       "<text text-anchor=\"middle\" x=\"417.5\" y=\"-379.8\" font-family=\"Helvetica,sans-Serif\" font-size=\"14.00\">samples = 71</text>\n",
       "<text text-anchor=\"middle\" x=\"417.5\" y=\"-364.8\" font-family=\"Helvetica,sans-Serif\" font-size=\"14.00\">value = [59, 12]</text>\n",
       "<text text-anchor=\"middle\" x=\"417.5\" y=\"-349.8\" font-family=\"Helvetica,sans-Serif\" font-size=\"14.00\">class = 0</text>\n",
       "</g>\n",
       "<!-- 3&#45;&gt;10 -->\n",
       "<g id=\"edge6\" class=\"edge\">\n",
       "<title>3&#45;&gt;10</title>\n",
       "<path fill=\"none\" stroke=\"black\" d=\"M417.5,-460.91C417.5,-452.65 417.5,-443.86 417.5,-435.3\"/>\n",
       "<polygon fill=\"black\" stroke=\"black\" points=\"421,-435.02 417.5,-425.02 414,-435.02 421,-435.02\"/>\n",
       "</g>\n",
       "<!-- 35 -->\n",
       "<g id=\"node5\" class=\"node\">\n",
       "<title>35</title>\n",
       "<path fill=\"#e58139\" stroke=\"black\" d=\"M93,-298.5C93,-298.5 12,-298.5 12,-298.5 6,-298.5 0,-292.5 0,-286.5 0,-286.5 0,-242.5 0,-242.5 0,-236.5 6,-230.5 12,-230.5 12,-230.5 93,-230.5 93,-230.5 99,-230.5 105,-236.5 105,-242.5 105,-242.5 105,-286.5 105,-286.5 105,-292.5 99,-298.5 93,-298.5\"/>\n",
       "<text text-anchor=\"middle\" x=\"52.5\" y=\"-283.3\" font-family=\"Helvetica,sans-Serif\" font-size=\"14.00\">entropy = 0.0</text>\n",
       "<text text-anchor=\"middle\" x=\"52.5\" y=\"-268.3\" font-family=\"Helvetica,sans-Serif\" font-size=\"14.00\">samples = 91</text>\n",
       "<text text-anchor=\"middle\" x=\"52.5\" y=\"-253.3\" font-family=\"Helvetica,sans-Serif\" font-size=\"14.00\">value = [91, 0]</text>\n",
       "<text text-anchor=\"middle\" x=\"52.5\" y=\"-238.3\" font-family=\"Helvetica,sans-Serif\" font-size=\"14.00\">class = 0</text>\n",
       "</g>\n",
       "<!-- 9&#45;&gt;35 -->\n",
       "<g id=\"edge4\" class=\"edge\">\n",
       "<title>9&#45;&gt;35</title>\n",
       "<path fill=\"none\" stroke=\"black\" d=\"M134.13,-341.91C121.64,-330.21 108.01,-317.46 95.53,-305.78\"/>\n",
       "<polygon fill=\"black\" stroke=\"black\" points=\"97.63,-302.95 87.93,-298.67 92.84,-308.06 97.63,-302.95\"/>\n",
       "</g>\n",
       "<!-- 36 -->\n",
       "<g id=\"node6\" class=\"node\">\n",
       "<title>36</title>\n",
       "<path fill=\"#e78c49\" stroke=\"black\" d=\"M219.5,-298.5C219.5,-298.5 135.5,-298.5 135.5,-298.5 129.5,-298.5 123.5,-292.5 123.5,-286.5 123.5,-286.5 123.5,-242.5 123.5,-242.5 123.5,-236.5 129.5,-230.5 135.5,-230.5 135.5,-230.5 219.5,-230.5 219.5,-230.5 225.5,-230.5 231.5,-236.5 231.5,-242.5 231.5,-242.5 231.5,-286.5 231.5,-286.5 231.5,-292.5 225.5,-298.5 219.5,-298.5\"/>\n",
       "<text text-anchor=\"middle\" x=\"177.5\" y=\"-283.3\" font-family=\"Helvetica,sans-Serif\" font-size=\"14.00\">entropy = 0.39</text>\n",
       "<text text-anchor=\"middle\" x=\"177.5\" y=\"-268.3\" font-family=\"Helvetica,sans-Serif\" font-size=\"14.00\">samples = 13</text>\n",
       "<text text-anchor=\"middle\" x=\"177.5\" y=\"-253.3\" font-family=\"Helvetica,sans-Serif\" font-size=\"14.00\">value = [12, 1]</text>\n",
       "<text text-anchor=\"middle\" x=\"177.5\" y=\"-238.3\" font-family=\"Helvetica,sans-Serif\" font-size=\"14.00\">class = 0</text>\n",
       "</g>\n",
       "<!-- 9&#45;&gt;36 -->\n",
       "<g id=\"edge5\" class=\"edge\">\n",
       "<title>9&#45;&gt;36</title>\n",
       "<path fill=\"none\" stroke=\"black\" d=\"M177.5,-341.91C177.5,-331.2 177.5,-319.62 177.5,-308.78\"/>\n",
       "<polygon fill=\"black\" stroke=\"black\" points=\"181,-308.67 177.5,-298.67 174,-308.67 181,-308.67\"/>\n",
       "</g>\n",
       "<!-- 31 -->\n",
       "<g id=\"node8\" class=\"node\">\n",
       "<title>31</title>\n",
       "<path fill=\"#eca16c\" stroke=\"black\" d=\"M369,-306C369,-306 262,-306 262,-306 256,-306 250,-300 250,-294 250,-294 250,-235 250,-235 250,-229 256,-223 262,-223 262,-223 369,-223 369,-223 375,-223 381,-229 381,-235 381,-235 381,-294 381,-294 381,-300 375,-306 369,-306\"/>\n",
       "<text text-anchor=\"middle\" x=\"315.5\" y=\"-290.8\" font-family=\"Helvetica,sans-Serif\" font-size=\"14.00\">Glucose &lt;= 101.5</text>\n",
       "<text text-anchor=\"middle\" x=\"315.5\" y=\"-275.8\" font-family=\"Helvetica,sans-Serif\" font-size=\"14.00\">entropy = 0.73</text>\n",
       "<text text-anchor=\"middle\" x=\"315.5\" y=\"-260.8\" font-family=\"Helvetica,sans-Serif\" font-size=\"14.00\">samples = 59</text>\n",
       "<text text-anchor=\"middle\" x=\"315.5\" y=\"-245.8\" font-family=\"Helvetica,sans-Serif\" font-size=\"14.00\">value = [47, 12]</text>\n",
       "<text text-anchor=\"middle\" x=\"315.5\" y=\"-230.8\" font-family=\"Helvetica,sans-Serif\" font-size=\"14.00\">class = 0</text>\n",
       "</g>\n",
       "<!-- 10&#45;&gt;31 -->\n",
       "<g id=\"edge7\" class=\"edge\">\n",
       "<title>10&#45;&gt;31</title>\n",
       "<path fill=\"none\" stroke=\"black\" d=\"M382.11,-341.91C374.2,-332.83 365.73,-323.12 357.58,-313.77\"/>\n",
       "<polygon fill=\"black\" stroke=\"black\" points=\"360.04,-311.26 350.83,-306.02 354.76,-315.86 360.04,-311.26\"/>\n",
       "</g>\n",
       "<!-- 32 -->\n",
       "<g id=\"node11\" class=\"node\">\n",
       "<title>32</title>\n",
       "<path fill=\"#e58139\" stroke=\"black\" d=\"M492,-298.5C492,-298.5 411,-298.5 411,-298.5 405,-298.5 399,-292.5 399,-286.5 399,-286.5 399,-242.5 399,-242.5 399,-236.5 405,-230.5 411,-230.5 411,-230.5 492,-230.5 492,-230.5 498,-230.5 504,-236.5 504,-242.5 504,-242.5 504,-286.5 504,-286.5 504,-292.5 498,-298.5 492,-298.5\"/>\n",
       "<text text-anchor=\"middle\" x=\"451.5\" y=\"-283.3\" font-family=\"Helvetica,sans-Serif\" font-size=\"14.00\">entropy = 0.0</text>\n",
       "<text text-anchor=\"middle\" x=\"451.5\" y=\"-268.3\" font-family=\"Helvetica,sans-Serif\" font-size=\"14.00\">samples = 12</text>\n",
       "<text text-anchor=\"middle\" x=\"451.5\" y=\"-253.3\" font-family=\"Helvetica,sans-Serif\" font-size=\"14.00\">value = [12, 0]</text>\n",
       "<text text-anchor=\"middle\" x=\"451.5\" y=\"-238.3\" font-family=\"Helvetica,sans-Serif\" font-size=\"14.00\">class = 0</text>\n",
       "</g>\n",
       "<!-- 10&#45;&gt;32 -->\n",
       "<g id=\"edge10\" class=\"edge\">\n",
       "<title>10&#45;&gt;32</title>\n",
       "<path fill=\"none\" stroke=\"black\" d=\"M429.3,-341.91C432.44,-331.09 435.84,-319.38 439.02,-308.44\"/>\n",
       "<polygon fill=\"black\" stroke=\"black\" points=\"442.43,-309.25 441.86,-298.67 435.71,-307.29 442.43,-309.25\"/>\n",
       "</g>\n",
       "<!-- 33 -->\n",
       "<g id=\"node9\" class=\"node\">\n",
       "<title>33</title>\n",
       "<path fill=\"#e89050\" stroke=\"black\" d=\"M294.5,-179.5C294.5,-179.5 210.5,-179.5 210.5,-179.5 204.5,-179.5 198.5,-173.5 198.5,-167.5 198.5,-167.5 198.5,-123.5 198.5,-123.5 198.5,-117.5 204.5,-111.5 210.5,-111.5 210.5,-111.5 294.5,-111.5 294.5,-111.5 300.5,-111.5 306.5,-117.5 306.5,-123.5 306.5,-123.5 306.5,-167.5 306.5,-167.5 306.5,-173.5 300.5,-179.5 294.5,-179.5\"/>\n",
       "<text text-anchor=\"middle\" x=\"252.5\" y=\"-164.3\" font-family=\"Helvetica,sans-Serif\" font-size=\"14.00\">entropy = 0.49</text>\n",
       "<text text-anchor=\"middle\" x=\"252.5\" y=\"-149.3\" font-family=\"Helvetica,sans-Serif\" font-size=\"14.00\">samples = 38</text>\n",
       "<text text-anchor=\"middle\" x=\"252.5\" y=\"-134.3\" font-family=\"Helvetica,sans-Serif\" font-size=\"14.00\">value = [34, 4]</text>\n",
       "<text text-anchor=\"middle\" x=\"252.5\" y=\"-119.3\" font-family=\"Helvetica,sans-Serif\" font-size=\"14.00\">class = 0</text>\n",
       "</g>\n",
       "<!-- 31&#45;&gt;33 -->\n",
       "<g id=\"edge8\" class=\"edge\">\n",
       "<title>31&#45;&gt;33</title>\n",
       "<path fill=\"none\" stroke=\"black\" d=\"M293.64,-222.91C287.7,-211.87 281.25,-199.9 275.26,-188.77\"/>\n",
       "<polygon fill=\"black\" stroke=\"black\" points=\"278.18,-186.81 270.36,-179.67 272.02,-190.13 278.18,-186.81\"/>\n",
       "</g>\n",
       "<!-- 34 -->\n",
       "<g id=\"node10\" class=\"node\">\n",
       "<title>34</title>\n",
       "<path fill=\"#f5cfb3\" stroke=\"black\" d=\"M420.5,-179.5C420.5,-179.5 336.5,-179.5 336.5,-179.5 330.5,-179.5 324.5,-173.5 324.5,-167.5 324.5,-167.5 324.5,-123.5 324.5,-123.5 324.5,-117.5 330.5,-111.5 336.5,-111.5 336.5,-111.5 420.5,-111.5 420.5,-111.5 426.5,-111.5 432.5,-117.5 432.5,-123.5 432.5,-123.5 432.5,-167.5 432.5,-167.5 432.5,-173.5 426.5,-179.5 420.5,-179.5\"/>\n",
       "<text text-anchor=\"middle\" x=\"378.5\" y=\"-164.3\" font-family=\"Helvetica,sans-Serif\" font-size=\"14.00\">entropy = 0.96</text>\n",
       "<text text-anchor=\"middle\" x=\"378.5\" y=\"-149.3\" font-family=\"Helvetica,sans-Serif\" font-size=\"14.00\">samples = 21</text>\n",
       "<text text-anchor=\"middle\" x=\"378.5\" y=\"-134.3\" font-family=\"Helvetica,sans-Serif\" font-size=\"14.00\">value = [13, 8]</text>\n",
       "<text text-anchor=\"middle\" x=\"378.5\" y=\"-119.3\" font-family=\"Helvetica,sans-Serif\" font-size=\"14.00\">class = 0</text>\n",
       "</g>\n",
       "<!-- 31&#45;&gt;34 -->\n",
       "<g id=\"edge9\" class=\"edge\">\n",
       "<title>31&#45;&gt;34</title>\n",
       "<path fill=\"none\" stroke=\"black\" d=\"M337.36,-222.91C343.3,-211.87 349.75,-199.9 355.74,-188.77\"/>\n",
       "<polygon fill=\"black\" stroke=\"black\" points=\"358.98,-190.13 360.64,-179.67 352.82,-186.81 358.98,-190.13\"/>\n",
       "</g>\n",
       "<!-- 7 -->\n",
       "<g id=\"node13\" class=\"node\">\n",
       "<title>7</title>\n",
       "<path fill=\"#e6853f\" stroke=\"black\" d=\"M600.5,-417.5C600.5,-417.5 516.5,-417.5 516.5,-417.5 510.5,-417.5 504.5,-411.5 504.5,-405.5 504.5,-405.5 504.5,-361.5 504.5,-361.5 504.5,-355.5 510.5,-349.5 516.5,-349.5 516.5,-349.5 600.5,-349.5 600.5,-349.5 606.5,-349.5 612.5,-355.5 612.5,-361.5 612.5,-361.5 612.5,-405.5 612.5,-405.5 612.5,-411.5 606.5,-417.5 600.5,-417.5\"/>\n",
       "<text text-anchor=\"middle\" x=\"558.5\" y=\"-402.3\" font-family=\"Helvetica,sans-Serif\" font-size=\"14.00\">entropy = 0.19</text>\n",
       "<text text-anchor=\"middle\" x=\"558.5\" y=\"-387.3\" font-family=\"Helvetica,sans-Serif\" font-size=\"14.00\">samples = 34</text>\n",
       "<text text-anchor=\"middle\" x=\"558.5\" y=\"-372.3\" font-family=\"Helvetica,sans-Serif\" font-size=\"14.00\">value = [33, 1]</text>\n",
       "<text text-anchor=\"middle\" x=\"558.5\" y=\"-357.3\" font-family=\"Helvetica,sans-Serif\" font-size=\"14.00\">class = 0</text>\n",
       "</g>\n",
       "<!-- 4&#45;&gt;7 -->\n",
       "<g id=\"edge12\" class=\"edge\">\n",
       "<title>4&#45;&gt;7</title>\n",
       "<path fill=\"none\" stroke=\"black\" d=\"M623.15,-460.91C613.44,-449.43 602.87,-436.94 593.14,-425.44\"/>\n",
       "<polygon fill=\"black\" stroke=\"black\" points=\"595.7,-423.04 586.56,-417.67 590.35,-427.56 595.7,-423.04\"/>\n",
       "</g>\n",
       "<!-- 8 -->\n",
       "<g id=\"node14\" class=\"node\">\n",
       "<title>8</title>\n",
       "<path fill=\"#f8dbc7\" stroke=\"black\" d=\"M740.5,-425C740.5,-425 642.5,-425 642.5,-425 636.5,-425 630.5,-419 630.5,-413 630.5,-413 630.5,-354 630.5,-354 630.5,-348 636.5,-342 642.5,-342 642.5,-342 740.5,-342 740.5,-342 746.5,-342 752.5,-348 752.5,-354 752.5,-354 752.5,-413 752.5,-413 752.5,-419 746.5,-425 740.5,-425\"/>\n",
       "<text text-anchor=\"middle\" x=\"691.5\" y=\"-409.8\" font-family=\"Helvetica,sans-Serif\" font-size=\"14.00\">Glucose &lt;= 99.5</text>\n",
       "<text text-anchor=\"middle\" x=\"691.5\" y=\"-394.8\" font-family=\"Helvetica,sans-Serif\" font-size=\"14.00\">entropy = 0.98</text>\n",
       "<text text-anchor=\"middle\" x=\"691.5\" y=\"-379.8\" font-family=\"Helvetica,sans-Serif\" font-size=\"14.00\">samples = 134</text>\n",
       "<text text-anchor=\"middle\" x=\"691.5\" y=\"-364.8\" font-family=\"Helvetica,sans-Serif\" font-size=\"14.00\">value = [78, 56]</text>\n",
       "<text text-anchor=\"middle\" x=\"691.5\" y=\"-349.8\" font-family=\"Helvetica,sans-Serif\" font-size=\"14.00\">class = 0</text>\n",
       "</g>\n",
       "<!-- 4&#45;&gt;8 -->\n",
       "<g id=\"edge13\" class=\"edge\">\n",
       "<title>4&#45;&gt;8</title>\n",
       "<path fill=\"none\" stroke=\"black\" d=\"M669.3,-460.91C671.75,-452.47 674.36,-443.48 676.9,-434.74\"/>\n",
       "<polygon fill=\"black\" stroke=\"black\" points=\"680.3,-435.6 679.72,-425.02 673.57,-433.65 680.3,-435.6\"/>\n",
       "</g>\n",
       "<!-- 15 -->\n",
       "<g id=\"node15\" class=\"node\">\n",
       "<title>15</title>\n",
       "<path fill=\"#eba069\" stroke=\"black\" d=\"M618.5,-298.5C618.5,-298.5 534.5,-298.5 534.5,-298.5 528.5,-298.5 522.5,-292.5 522.5,-286.5 522.5,-286.5 522.5,-242.5 522.5,-242.5 522.5,-236.5 528.5,-230.5 534.5,-230.5 534.5,-230.5 618.5,-230.5 618.5,-230.5 624.5,-230.5 630.5,-236.5 630.5,-242.5 630.5,-242.5 630.5,-286.5 630.5,-286.5 630.5,-292.5 624.5,-298.5 618.5,-298.5\"/>\n",
       "<text text-anchor=\"middle\" x=\"576.5\" y=\"-283.3\" font-family=\"Helvetica,sans-Serif\" font-size=\"14.00\">entropy = 0.71</text>\n",
       "<text text-anchor=\"middle\" x=\"576.5\" y=\"-268.3\" font-family=\"Helvetica,sans-Serif\" font-size=\"14.00\">samples = 41</text>\n",
       "<text text-anchor=\"middle\" x=\"576.5\" y=\"-253.3\" font-family=\"Helvetica,sans-Serif\" font-size=\"14.00\">value = [33, 8]</text>\n",
       "<text text-anchor=\"middle\" x=\"576.5\" y=\"-238.3\" font-family=\"Helvetica,sans-Serif\" font-size=\"14.00\">class = 0</text>\n",
       "</g>\n",
       "<!-- 8&#45;&gt;15 -->\n",
       "<g id=\"edge14\" class=\"edge\">\n",
       "<title>8&#45;&gt;15</title>\n",
       "<path fill=\"none\" stroke=\"black\" d=\"M651.6,-341.91C640.21,-330.32 627.81,-317.7 616.42,-306.11\"/>\n",
       "<polygon fill=\"black\" stroke=\"black\" points=\"618.61,-303.35 609.1,-298.67 613.61,-308.25 618.61,-303.35\"/>\n",
       "</g>\n",
       "<!-- 16 -->\n",
       "<g id=\"node16\" class=\"node\">\n",
       "<title>16</title>\n",
       "<path fill=\"#f3f9fd\" stroke=\"black\" d=\"M866.5,-306C866.5,-306 660.5,-306 660.5,-306 654.5,-306 648.5,-300 648.5,-294 648.5,-294 648.5,-235 648.5,-235 648.5,-229 654.5,-223 660.5,-223 660.5,-223 866.5,-223 866.5,-223 872.5,-223 878.5,-229 878.5,-235 878.5,-235 878.5,-294 878.5,-294 878.5,-300 872.5,-306 866.5,-306\"/>\n",
       "<text text-anchor=\"middle\" x=\"763.5\" y=\"-290.8\" font-family=\"Helvetica,sans-Serif\" font-size=\"14.00\">DiabetesPedigreeFunction &lt;= 0.2</text>\n",
       "<text text-anchor=\"middle\" x=\"763.5\" y=\"-275.8\" font-family=\"Helvetica,sans-Serif\" font-size=\"14.00\">entropy = 1.0</text>\n",
       "<text text-anchor=\"middle\" x=\"763.5\" y=\"-260.8\" font-family=\"Helvetica,sans-Serif\" font-size=\"14.00\">samples = 93</text>\n",
       "<text text-anchor=\"middle\" x=\"763.5\" y=\"-245.8\" font-family=\"Helvetica,sans-Serif\" font-size=\"14.00\">value = [45, 48]</text>\n",
       "<text text-anchor=\"middle\" x=\"763.5\" y=\"-230.8\" font-family=\"Helvetica,sans-Serif\" font-size=\"14.00\">class = 1</text>\n",
       "</g>\n",
       "<!-- 8&#45;&gt;16 -->\n",
       "<g id=\"edge15\" class=\"edge\">\n",
       "<title>8&#45;&gt;16</title>\n",
       "<path fill=\"none\" stroke=\"black\" d=\"M716.48,-341.91C721.9,-333.1 727.68,-323.7 733.28,-314.61\"/>\n",
       "<polygon fill=\"black\" stroke=\"black\" points=\"736.3,-316.37 738.56,-306.02 730.34,-312.7 736.3,-316.37\"/>\n",
       "</g>\n",
       "<!-- 23 -->\n",
       "<g id=\"node17\" class=\"node\">\n",
       "<title>23</title>\n",
       "<path fill=\"#ea985d\" stroke=\"black\" d=\"M712.5,-179.5C712.5,-179.5 628.5,-179.5 628.5,-179.5 622.5,-179.5 616.5,-173.5 616.5,-167.5 616.5,-167.5 616.5,-123.5 616.5,-123.5 616.5,-117.5 622.5,-111.5 628.5,-111.5 628.5,-111.5 712.5,-111.5 712.5,-111.5 718.5,-111.5 724.5,-117.5 724.5,-123.5 724.5,-123.5 724.5,-167.5 724.5,-167.5 724.5,-173.5 718.5,-179.5 712.5,-179.5\"/>\n",
       "<text text-anchor=\"middle\" x=\"670.5\" y=\"-164.3\" font-family=\"Helvetica,sans-Serif\" font-size=\"14.00\">entropy = 0.62</text>\n",
       "<text text-anchor=\"middle\" x=\"670.5\" y=\"-149.3\" font-family=\"Helvetica,sans-Serif\" font-size=\"14.00\">samples = 13</text>\n",
       "<text text-anchor=\"middle\" x=\"670.5\" y=\"-134.3\" font-family=\"Helvetica,sans-Serif\" font-size=\"14.00\">value = [11, 2]</text>\n",
       "<text text-anchor=\"middle\" x=\"670.5\" y=\"-119.3\" font-family=\"Helvetica,sans-Serif\" font-size=\"14.00\">class = 0</text>\n",
       "</g>\n",
       "<!-- 16&#45;&gt;23 -->\n",
       "<g id=\"edge16\" class=\"edge\">\n",
       "<title>16&#45;&gt;23</title>\n",
       "<path fill=\"none\" stroke=\"black\" d=\"M731.23,-222.91C722.2,-211.54 712.37,-199.18 703.31,-187.77\"/>\n",
       "<polygon fill=\"black\" stroke=\"black\" points=\"705.83,-185.32 696.86,-179.67 700.35,-189.67 705.83,-185.32\"/>\n",
       "</g>\n",
       "<!-- 24 -->\n",
       "<g id=\"node18\" class=\"node\">\n",
       "<title>24</title>\n",
       "<path fill=\"#cbe5f8\" stroke=\"black\" d=\"M844,-179.5C844,-179.5 755,-179.5 755,-179.5 749,-179.5 743,-173.5 743,-167.5 743,-167.5 743,-123.5 743,-123.5 743,-117.5 749,-111.5 755,-111.5 755,-111.5 844,-111.5 844,-111.5 850,-111.5 856,-117.5 856,-123.5 856,-123.5 856,-167.5 856,-167.5 856,-173.5 850,-179.5 844,-179.5\"/>\n",
       "<text text-anchor=\"middle\" x=\"799.5\" y=\"-164.3\" font-family=\"Helvetica,sans-Serif\" font-size=\"14.00\">entropy = 0.98</text>\n",
       "<text text-anchor=\"middle\" x=\"799.5\" y=\"-149.3\" font-family=\"Helvetica,sans-Serif\" font-size=\"14.00\">samples = 80</text>\n",
       "<text text-anchor=\"middle\" x=\"799.5\" y=\"-134.3\" font-family=\"Helvetica,sans-Serif\" font-size=\"14.00\">value = [34, 46]</text>\n",
       "<text text-anchor=\"middle\" x=\"799.5\" y=\"-119.3\" font-family=\"Helvetica,sans-Serif\" font-size=\"14.00\">class = 1</text>\n",
       "</g>\n",
       "<!-- 16&#45;&gt;24 -->\n",
       "<g id=\"edge17\" class=\"edge\">\n",
       "<title>16&#45;&gt;24</title>\n",
       "<path fill=\"none\" stroke=\"black\" d=\"M775.99,-222.91C779.32,-212.09 782.92,-200.38 786.29,-189.44\"/>\n",
       "<polygon fill=\"black\" stroke=\"black\" points=\"789.7,-190.25 789.29,-179.67 783.01,-188.2 789.7,-190.25\"/>\n",
       "</g>\n",
       "<!-- 5 -->\n",
       "<g id=\"node20\" class=\"node\">\n",
       "<title>5</title>\n",
       "<path fill=\"#eead7e\" stroke=\"black\" d=\"M921.5,-544C921.5,-544 805.5,-544 805.5,-544 799.5,-544 793.5,-538 793.5,-532 793.5,-532 793.5,-473 793.5,-473 793.5,-467 799.5,-461 805.5,-461 805.5,-461 921.5,-461 921.5,-461 927.5,-461 933.5,-467 933.5,-473 933.5,-473 933.5,-532 933.5,-532 933.5,-538 927.5,-544 921.5,-544\"/>\n",
       "<text text-anchor=\"middle\" x=\"863.5\" y=\"-528.8\" font-family=\"Helvetica,sans-Serif\" font-size=\"14.00\">Pregnancies &lt;= 1.5</text>\n",
       "<text text-anchor=\"middle\" x=\"863.5\" y=\"-513.8\" font-family=\"Helvetica,sans-Serif\" font-size=\"14.00\">entropy = 0.82</text>\n",
       "<text text-anchor=\"middle\" x=\"863.5\" y=\"-498.8\" font-family=\"Helvetica,sans-Serif\" font-size=\"14.00\">samples = 58</text>\n",
       "<text text-anchor=\"middle\" x=\"863.5\" y=\"-483.8\" font-family=\"Helvetica,sans-Serif\" font-size=\"14.00\">value = [43, 15]</text>\n",
       "<text text-anchor=\"middle\" x=\"863.5\" y=\"-468.8\" font-family=\"Helvetica,sans-Serif\" font-size=\"14.00\">class = 0</text>\n",
       "</g>\n",
       "<!-- 2&#45;&gt;5 -->\n",
       "<g id=\"edge19\" class=\"edge\">\n",
       "<title>2&#45;&gt;5</title>\n",
       "<path fill=\"none\" stroke=\"black\" d=\"M863.5,-579.91C863.5,-571.65 863.5,-562.86 863.5,-554.3\"/>\n",
       "<polygon fill=\"black\" stroke=\"black\" points=\"867,-554.02 863.5,-544.02 860,-554.02 867,-554.02\"/>\n",
       "</g>\n",
       "<!-- 6 -->\n",
       "<g id=\"node27\" class=\"node\">\n",
       "<title>6</title>\n",
       "<path fill=\"#83c2ef\" stroke=\"black\" d=\"M1301.5,-544C1301.5,-544 1161.5,-544 1161.5,-544 1155.5,-544 1149.5,-538 1149.5,-532 1149.5,-532 1149.5,-473 1149.5,-473 1149.5,-467 1155.5,-461 1161.5,-461 1161.5,-461 1301.5,-461 1301.5,-461 1307.5,-461 1313.5,-467 1313.5,-473 1313.5,-473 1313.5,-532 1313.5,-532 1313.5,-538 1307.5,-544 1301.5,-544\"/>\n",
       "<text text-anchor=\"middle\" x=\"1231.5\" y=\"-528.8\" font-family=\"Helvetica,sans-Serif\" font-size=\"14.00\">BloodPressure &lt;= 61.0</text>\n",
       "<text text-anchor=\"middle\" x=\"1231.5\" y=\"-513.8\" font-family=\"Helvetica,sans-Serif\" font-size=\"14.00\">entropy = 0.84</text>\n",
       "<text text-anchor=\"middle\" x=\"1231.5\" y=\"-498.8\" font-family=\"Helvetica,sans-Serif\" font-size=\"14.00\">samples = 151</text>\n",
       "<text text-anchor=\"middle\" x=\"1231.5\" y=\"-483.8\" font-family=\"Helvetica,sans-Serif\" font-size=\"14.00\">value = [41, 110]</text>\n",
       "<text text-anchor=\"middle\" x=\"1231.5\" y=\"-468.8\" font-family=\"Helvetica,sans-Serif\" font-size=\"14.00\">class = 1</text>\n",
       "</g>\n",
       "<!-- 2&#45;&gt;6 -->\n",
       "<g id=\"edge26\" class=\"edge\">\n",
       "<title>2&#45;&gt;6</title>\n",
       "<path fill=\"none\" stroke=\"black\" d=\"M924.68,-601.05C983.32,-582.41 1072.57,-554.03 1139.73,-532.68\"/>\n",
       "<polygon fill=\"black\" stroke=\"black\" points=\"1141,-535.95 1149.47,-529.58 1138.88,-529.28 1141,-535.95\"/>\n",
       "</g>\n",
       "<!-- 17 -->\n",
       "<g id=\"node21\" class=\"node\">\n",
       "<title>17</title>\n",
       "<path fill=\"#e58139\" stroke=\"black\" d=\"M871,-417.5C871,-417.5 790,-417.5 790,-417.5 784,-417.5 778,-411.5 778,-405.5 778,-405.5 778,-361.5 778,-361.5 778,-355.5 784,-349.5 790,-349.5 790,-349.5 871,-349.5 871,-349.5 877,-349.5 883,-355.5 883,-361.5 883,-361.5 883,-405.5 883,-405.5 883,-411.5 877,-417.5 871,-417.5\"/>\n",
       "<text text-anchor=\"middle\" x=\"830.5\" y=\"-402.3\" font-family=\"Helvetica,sans-Serif\" font-size=\"14.00\">entropy = 0.0</text>\n",
       "<text text-anchor=\"middle\" x=\"830.5\" y=\"-387.3\" font-family=\"Helvetica,sans-Serif\" font-size=\"14.00\">samples = 14</text>\n",
       "<text text-anchor=\"middle\" x=\"830.5\" y=\"-372.3\" font-family=\"Helvetica,sans-Serif\" font-size=\"14.00\">value = [14, 0]</text>\n",
       "<text text-anchor=\"middle\" x=\"830.5\" y=\"-357.3\" font-family=\"Helvetica,sans-Serif\" font-size=\"14.00\">class = 0</text>\n",
       "</g>\n",
       "<!-- 5&#45;&gt;17 -->\n",
       "<g id=\"edge20\" class=\"edge\">\n",
       "<title>5&#45;&gt;17</title>\n",
       "<path fill=\"none\" stroke=\"black\" d=\"M852.05,-460.91C849,-450.09 845.7,-438.38 842.61,-427.44\"/>\n",
       "<polygon fill=\"black\" stroke=\"black\" points=\"845.94,-426.34 839.85,-417.67 839.2,-428.24 845.94,-426.34\"/>\n",
       "</g>\n",
       "<!-- 18 -->\n",
       "<g id=\"node22\" class=\"node\">\n",
       "<title>18</title>\n",
       "<path fill=\"#f2c29f\" stroke=\"black\" d=\"M1053.5,-425C1053.5,-425 913.5,-425 913.5,-425 907.5,-425 901.5,-419 901.5,-413 901.5,-413 901.5,-354 901.5,-354 901.5,-348 907.5,-342 913.5,-342 913.5,-342 1053.5,-342 1053.5,-342 1059.5,-342 1065.5,-348 1065.5,-354 1065.5,-354 1065.5,-413 1065.5,-413 1065.5,-419 1059.5,-425 1053.5,-425\"/>\n",
       "<text text-anchor=\"middle\" x=\"983.5\" y=\"-409.8\" font-family=\"Helvetica,sans-Serif\" font-size=\"14.00\">BloodPressure &lt;= 73.0</text>\n",
       "<text text-anchor=\"middle\" x=\"983.5\" y=\"-394.8\" font-family=\"Helvetica,sans-Serif\" font-size=\"14.00\">entropy = 0.93</text>\n",
       "<text text-anchor=\"middle\" x=\"983.5\" y=\"-379.8\" font-family=\"Helvetica,sans-Serif\" font-size=\"14.00\">samples = 44</text>\n",
       "<text text-anchor=\"middle\" x=\"983.5\" y=\"-364.8\" font-family=\"Helvetica,sans-Serif\" font-size=\"14.00\">value = [29, 15]</text>\n",
       "<text text-anchor=\"middle\" x=\"983.5\" y=\"-349.8\" font-family=\"Helvetica,sans-Serif\" font-size=\"14.00\">class = 0</text>\n",
       "</g>\n",
       "<!-- 5&#45;&gt;18 -->\n",
       "<g id=\"edge21\" class=\"edge\">\n",
       "<title>5&#45;&gt;18</title>\n",
       "<path fill=\"none\" stroke=\"black\" d=\"M905.13,-460.91C914.63,-451.65 924.8,-441.73 934.57,-432.21\"/>\n",
       "<polygon fill=\"black\" stroke=\"black\" points=\"937.22,-434.51 941.94,-425.02 932.34,-429.5 937.22,-434.51\"/>\n",
       "</g>\n",
       "<!-- 21 -->\n",
       "<g id=\"node23\" class=\"node\">\n",
       "<title>21</title>\n",
       "<path fill=\"#c9e4f8\" stroke=\"black\" d=\"M992.5,-298.5C992.5,-298.5 908.5,-298.5 908.5,-298.5 902.5,-298.5 896.5,-292.5 896.5,-286.5 896.5,-286.5 896.5,-242.5 896.5,-242.5 896.5,-236.5 902.5,-230.5 908.5,-230.5 908.5,-230.5 992.5,-230.5 992.5,-230.5 998.5,-230.5 1004.5,-236.5 1004.5,-242.5 1004.5,-242.5 1004.5,-286.5 1004.5,-286.5 1004.5,-292.5 998.5,-298.5 992.5,-298.5\"/>\n",
       "<text text-anchor=\"middle\" x=\"950.5\" y=\"-283.3\" font-family=\"Helvetica,sans-Serif\" font-size=\"14.00\">entropy = 0.98</text>\n",
       "<text text-anchor=\"middle\" x=\"950.5\" y=\"-268.3\" font-family=\"Helvetica,sans-Serif\" font-size=\"14.00\">samples = 19</text>\n",
       "<text text-anchor=\"middle\" x=\"950.5\" y=\"-253.3\" font-family=\"Helvetica,sans-Serif\" font-size=\"14.00\">value = [8, 11]</text>\n",
       "<text text-anchor=\"middle\" x=\"950.5\" y=\"-238.3\" font-family=\"Helvetica,sans-Serif\" font-size=\"14.00\">class = 1</text>\n",
       "</g>\n",
       "<!-- 18&#45;&gt;21 -->\n",
       "<g id=\"edge22\" class=\"edge\">\n",
       "<title>18&#45;&gt;21</title>\n",
       "<path fill=\"none\" stroke=\"black\" d=\"M972.05,-341.91C969,-331.09 965.7,-319.38 962.61,-308.44\"/>\n",
       "<polygon fill=\"black\" stroke=\"black\" points=\"965.94,-307.34 959.85,-298.67 959.2,-309.24 965.94,-307.34\"/>\n",
       "</g>\n",
       "<!-- 22 -->\n",
       "<g id=\"node24\" class=\"node\">\n",
       "<title>22</title>\n",
       "<path fill=\"#ea995f\" stroke=\"black\" d=\"M1142,-306C1142,-306 1035,-306 1035,-306 1029,-306 1023,-300 1023,-294 1023,-294 1023,-235 1023,-235 1023,-229 1029,-223 1035,-223 1035,-223 1142,-223 1142,-223 1148,-223 1154,-229 1154,-235 1154,-235 1154,-294 1154,-294 1154,-300 1148,-306 1142,-306\"/>\n",
       "<text text-anchor=\"middle\" x=\"1088.5\" y=\"-290.8\" font-family=\"Helvetica,sans-Serif\" font-size=\"14.00\">Glucose &lt;= 148.5</text>\n",
       "<text text-anchor=\"middle\" x=\"1088.5\" y=\"-275.8\" font-family=\"Helvetica,sans-Serif\" font-size=\"14.00\">entropy = 0.63</text>\n",
       "<text text-anchor=\"middle\" x=\"1088.5\" y=\"-260.8\" font-family=\"Helvetica,sans-Serif\" font-size=\"14.00\">samples = 25</text>\n",
       "<text text-anchor=\"middle\" x=\"1088.5\" y=\"-245.8\" font-family=\"Helvetica,sans-Serif\" font-size=\"14.00\">value = [21, 4]</text>\n",
       "<text text-anchor=\"middle\" x=\"1088.5\" y=\"-230.8\" font-family=\"Helvetica,sans-Serif\" font-size=\"14.00\">class = 0</text>\n",
       "</g>\n",
       "<!-- 18&#45;&gt;22 -->\n",
       "<g id=\"edge23\" class=\"edge\">\n",
       "<title>18&#45;&gt;22</title>\n",
       "<path fill=\"none\" stroke=\"black\" d=\"M1019.93,-341.91C1028.15,-332.74 1036.96,-322.93 1045.43,-313.49\"/>\n",
       "<polygon fill=\"black\" stroke=\"black\" points=\"1048.06,-315.8 1052.14,-306.02 1042.85,-311.13 1048.06,-315.8\"/>\n",
       "</g>\n",
       "<!-- 25 -->\n",
       "<g id=\"node25\" class=\"node\">\n",
       "<title>25</title>\n",
       "<path fill=\"#e58139\" stroke=\"black\" d=\"M1004,-179.5C1004,-179.5 923,-179.5 923,-179.5 917,-179.5 911,-173.5 911,-167.5 911,-167.5 911,-123.5 911,-123.5 911,-117.5 917,-111.5 923,-111.5 923,-111.5 1004,-111.5 1004,-111.5 1010,-111.5 1016,-117.5 1016,-123.5 1016,-123.5 1016,-167.5 1016,-167.5 1016,-173.5 1010,-179.5 1004,-179.5\"/>\n",
       "<text text-anchor=\"middle\" x=\"963.5\" y=\"-164.3\" font-family=\"Helvetica,sans-Serif\" font-size=\"14.00\">entropy = 0.0</text>\n",
       "<text text-anchor=\"middle\" x=\"963.5\" y=\"-149.3\" font-family=\"Helvetica,sans-Serif\" font-size=\"14.00\">samples = 15</text>\n",
       "<text text-anchor=\"middle\" x=\"963.5\" y=\"-134.3\" font-family=\"Helvetica,sans-Serif\" font-size=\"14.00\">value = [15, 0]</text>\n",
       "<text text-anchor=\"middle\" x=\"963.5\" y=\"-119.3\" font-family=\"Helvetica,sans-Serif\" font-size=\"14.00\">class = 0</text>\n",
       "</g>\n",
       "<!-- 22&#45;&gt;25 -->\n",
       "<g id=\"edge24\" class=\"edge\">\n",
       "<title>22&#45;&gt;25</title>\n",
       "<path fill=\"none\" stroke=\"black\" d=\"M1045.13,-222.91C1032.64,-211.21 1019.01,-198.46 1006.53,-186.78\"/>\n",
       "<polygon fill=\"black\" stroke=\"black\" points=\"1008.63,-183.95 998.93,-179.67 1003.84,-189.06 1008.63,-183.95\"/>\n",
       "</g>\n",
       "<!-- 26 -->\n",
       "<g id=\"node26\" class=\"node\">\n",
       "<title>26</title>\n",
       "<path fill=\"#f6d5bd\" stroke=\"black\" d=\"M1130.5,-179.5C1130.5,-179.5 1046.5,-179.5 1046.5,-179.5 1040.5,-179.5 1034.5,-173.5 1034.5,-167.5 1034.5,-167.5 1034.5,-123.5 1034.5,-123.5 1034.5,-117.5 1040.5,-111.5 1046.5,-111.5 1046.5,-111.5 1130.5,-111.5 1130.5,-111.5 1136.5,-111.5 1142.5,-117.5 1142.5,-123.5 1142.5,-123.5 1142.5,-167.5 1142.5,-167.5 1142.5,-173.5 1136.5,-179.5 1130.5,-179.5\"/>\n",
       "<text text-anchor=\"middle\" x=\"1088.5\" y=\"-164.3\" font-family=\"Helvetica,sans-Serif\" font-size=\"14.00\">entropy = 0.97</text>\n",
       "<text text-anchor=\"middle\" x=\"1088.5\" y=\"-149.3\" font-family=\"Helvetica,sans-Serif\" font-size=\"14.00\">samples = 10</text>\n",
       "<text text-anchor=\"middle\" x=\"1088.5\" y=\"-134.3\" font-family=\"Helvetica,sans-Serif\" font-size=\"14.00\">value = [6, 4]</text>\n",
       "<text text-anchor=\"middle\" x=\"1088.5\" y=\"-119.3\" font-family=\"Helvetica,sans-Serif\" font-size=\"14.00\">class = 0</text>\n",
       "</g>\n",
       "<!-- 22&#45;&gt;26 -->\n",
       "<g id=\"edge25\" class=\"edge\">\n",
       "<title>22&#45;&gt;26</title>\n",
       "<path fill=\"none\" stroke=\"black\" d=\"M1088.5,-222.91C1088.5,-212.2 1088.5,-200.62 1088.5,-189.78\"/>\n",
       "<polygon fill=\"black\" stroke=\"black\" points=\"1092,-189.67 1088.5,-179.67 1085,-189.67 1092,-189.67\"/>\n",
       "</g>\n",
       "<!-- 11 -->\n",
       "<g id=\"node28\" class=\"node\">\n",
       "<title>11</title>\n",
       "<path fill=\"#399de5\" stroke=\"black\" d=\"M1272,-417.5C1272,-417.5 1191,-417.5 1191,-417.5 1185,-417.5 1179,-411.5 1179,-405.5 1179,-405.5 1179,-361.5 1179,-361.5 1179,-355.5 1185,-349.5 1191,-349.5 1191,-349.5 1272,-349.5 1272,-349.5 1278,-349.5 1284,-355.5 1284,-361.5 1284,-361.5 1284,-405.5 1284,-405.5 1284,-411.5 1278,-417.5 1272,-417.5\"/>\n",
       "<text text-anchor=\"middle\" x=\"1231.5\" y=\"-402.3\" font-family=\"Helvetica,sans-Serif\" font-size=\"14.00\">entropy = 0.0</text>\n",
       "<text text-anchor=\"middle\" x=\"1231.5\" y=\"-387.3\" font-family=\"Helvetica,sans-Serif\" font-size=\"14.00\">samples = 19</text>\n",
       "<text text-anchor=\"middle\" x=\"1231.5\" y=\"-372.3\" font-family=\"Helvetica,sans-Serif\" font-size=\"14.00\">value = [0, 19]</text>\n",
       "<text text-anchor=\"middle\" x=\"1231.5\" y=\"-357.3\" font-family=\"Helvetica,sans-Serif\" font-size=\"14.00\">class = 1</text>\n",
       "</g>\n",
       "<!-- 6&#45;&gt;11 -->\n",
       "<g id=\"edge27\" class=\"edge\">\n",
       "<title>6&#45;&gt;11</title>\n",
       "<path fill=\"none\" stroke=\"black\" d=\"M1231.5,-460.91C1231.5,-450.2 1231.5,-438.62 1231.5,-427.78\"/>\n",
       "<polygon fill=\"black\" stroke=\"black\" points=\"1235,-427.67 1231.5,-417.67 1228,-427.67 1235,-427.67\"/>\n",
       "</g>\n",
       "<!-- 12 -->\n",
       "<g id=\"node29\" class=\"node\">\n",
       "<title>12</title>\n",
       "<path fill=\"#92c9f1\" stroke=\"black\" d=\"M1452,-425C1452,-425 1345,-425 1345,-425 1339,-425 1333,-419 1333,-413 1333,-413 1333,-354 1333,-354 1333,-348 1339,-342 1345,-342 1345,-342 1452,-342 1452,-342 1458,-342 1464,-348 1464,-354 1464,-354 1464,-413 1464,-413 1464,-419 1458,-425 1452,-425\"/>\n",
       "<text text-anchor=\"middle\" x=\"1398.5\" y=\"-409.8\" font-family=\"Helvetica,sans-Serif\" font-size=\"14.00\">Glucose &lt;= 155.5</text>\n",
       "<text text-anchor=\"middle\" x=\"1398.5\" y=\"-394.8\" font-family=\"Helvetica,sans-Serif\" font-size=\"14.00\">entropy = 0.89</text>\n",
       "<text text-anchor=\"middle\" x=\"1398.5\" y=\"-379.8\" font-family=\"Helvetica,sans-Serif\" font-size=\"14.00\">samples = 132</text>\n",
       "<text text-anchor=\"middle\" x=\"1398.5\" y=\"-364.8\" font-family=\"Helvetica,sans-Serif\" font-size=\"14.00\">value = [41, 91]</text>\n",
       "<text text-anchor=\"middle\" x=\"1398.5\" y=\"-349.8\" font-family=\"Helvetica,sans-Serif\" font-size=\"14.00\">class = 1</text>\n",
       "</g>\n",
       "<!-- 6&#45;&gt;12 -->\n",
       "<g id=\"edge28\" class=\"edge\">\n",
       "<title>6&#45;&gt;12</title>\n",
       "<path fill=\"none\" stroke=\"black\" d=\"M1289.44,-460.91C1303.3,-451.2 1318.2,-440.76 1332.4,-430.81\"/>\n",
       "<polygon fill=\"black\" stroke=\"black\" points=\"1334.48,-433.63 1340.66,-425.02 1330.46,-427.89 1334.48,-433.63\"/>\n",
       "</g>\n",
       "<!-- 13 -->\n",
       "<g id=\"node30\" class=\"node\">\n",
       "<title>13</title>\n",
       "<path fill=\"#e0f0fb\" stroke=\"black\" d=\"M1443,-306C1443,-306 1354,-306 1354,-306 1348,-306 1342,-300 1342,-294 1342,-294 1342,-235 1342,-235 1342,-229 1348,-223 1354,-223 1354,-223 1443,-223 1443,-223 1449,-223 1455,-229 1455,-235 1455,-235 1455,-294 1455,-294 1455,-300 1449,-306 1443,-306\"/>\n",
       "<text text-anchor=\"middle\" x=\"1398.5\" y=\"-290.8\" font-family=\"Helvetica,sans-Serif\" font-size=\"14.00\">Age &lt;= 30.5</text>\n",
       "<text text-anchor=\"middle\" x=\"1398.5\" y=\"-275.8\" font-family=\"Helvetica,sans-Serif\" font-size=\"14.00\">entropy = 0.99</text>\n",
       "<text text-anchor=\"middle\" x=\"1398.5\" y=\"-260.8\" font-family=\"Helvetica,sans-Serif\" font-size=\"14.00\">samples = 70</text>\n",
       "<text text-anchor=\"middle\" x=\"1398.5\" y=\"-245.8\" font-family=\"Helvetica,sans-Serif\" font-size=\"14.00\">value = [32, 38]</text>\n",
       "<text text-anchor=\"middle\" x=\"1398.5\" y=\"-230.8\" font-family=\"Helvetica,sans-Serif\" font-size=\"14.00\">class = 1</text>\n",
       "</g>\n",
       "<!-- 12&#45;&gt;13 -->\n",
       "<g id=\"edge29\" class=\"edge\">\n",
       "<title>12&#45;&gt;13</title>\n",
       "<path fill=\"none\" stroke=\"black\" d=\"M1398.5,-341.91C1398.5,-333.65 1398.5,-324.86 1398.5,-316.3\"/>\n",
       "<polygon fill=\"black\" stroke=\"black\" points=\"1402,-316.02 1398.5,-306.02 1395,-316.02 1402,-316.02\"/>\n",
       "</g>\n",
       "<!-- 14 -->\n",
       "<g id=\"node37\" class=\"node\">\n",
       "<title>14</title>\n",
       "<path fill=\"#5baee9\" stroke=\"black\" d=\"M1673,-306C1673,-306 1566,-306 1566,-306 1560,-306 1554,-300 1554,-294 1554,-294 1554,-235 1554,-235 1554,-229 1560,-223 1566,-223 1566,-223 1673,-223 1673,-223 1679,-223 1685,-229 1685,-235 1685,-235 1685,-294 1685,-294 1685,-300 1679,-306 1673,-306\"/>\n",
       "<text text-anchor=\"middle\" x=\"1619.5\" y=\"-290.8\" font-family=\"Helvetica,sans-Serif\" font-size=\"14.00\">Glucose &lt;= 163.5</text>\n",
       "<text text-anchor=\"middle\" x=\"1619.5\" y=\"-275.8\" font-family=\"Helvetica,sans-Serif\" font-size=\"14.00\">entropy = 0.6</text>\n",
       "<text text-anchor=\"middle\" x=\"1619.5\" y=\"-260.8\" font-family=\"Helvetica,sans-Serif\" font-size=\"14.00\">samples = 62</text>\n",
       "<text text-anchor=\"middle\" x=\"1619.5\" y=\"-245.8\" font-family=\"Helvetica,sans-Serif\" font-size=\"14.00\">value = [9, 53]</text>\n",
       "<text text-anchor=\"middle\" x=\"1619.5\" y=\"-230.8\" font-family=\"Helvetica,sans-Serif\" font-size=\"14.00\">class = 1</text>\n",
       "</g>\n",
       "<!-- 12&#45;&gt;14 -->\n",
       "<g id=\"edge36\" class=\"edge\">\n",
       "<title>12&#45;&gt;14</title>\n",
       "<path fill=\"none\" stroke=\"black\" d=\"M1464.21,-347.71C1489.48,-334.34 1518.5,-318.97 1544.58,-305.17\"/>\n",
       "<polygon fill=\"black\" stroke=\"black\" points=\"1546.46,-308.13 1553.66,-300.36 1543.19,-301.94 1546.46,-308.13\"/>\n",
       "</g>\n",
       "<!-- 19 -->\n",
       "<g id=\"node31\" class=\"node\">\n",
       "<title>19</title>\n",
       "<path fill=\"#f2c09c\" stroke=\"black\" d=\"M1280,-187C1280,-187 1173,-187 1173,-187 1167,-187 1161,-181 1161,-175 1161,-175 1161,-116 1161,-116 1161,-110 1167,-104 1173,-104 1173,-104 1280,-104 1280,-104 1286,-104 1292,-110 1292,-116 1292,-116 1292,-175 1292,-175 1292,-181 1286,-187 1280,-187\"/>\n",
       "<text text-anchor=\"middle\" x=\"1226.5\" y=\"-171.8\" font-family=\"Helvetica,sans-Serif\" font-size=\"14.00\">Glucose &lt;= 142.5</text>\n",
       "<text text-anchor=\"middle\" x=\"1226.5\" y=\"-156.8\" font-family=\"Helvetica,sans-Serif\" font-size=\"14.00\">entropy = 0.92</text>\n",
       "<text text-anchor=\"middle\" x=\"1226.5\" y=\"-141.8\" font-family=\"Helvetica,sans-Serif\" font-size=\"14.00\">samples = 30</text>\n",
       "<text text-anchor=\"middle\" x=\"1226.5\" y=\"-126.8\" font-family=\"Helvetica,sans-Serif\" font-size=\"14.00\">value = [20, 10]</text>\n",
       "<text text-anchor=\"middle\" x=\"1226.5\" y=\"-111.8\" font-family=\"Helvetica,sans-Serif\" font-size=\"14.00\">class = 0</text>\n",
       "</g>\n",
       "<!-- 13&#45;&gt;19 -->\n",
       "<g id=\"edge30\" class=\"edge\">\n",
       "<title>13&#45;&gt;19</title>\n",
       "<path fill=\"none\" stroke=\"black\" d=\"M1341.7,-224.87C1326.68,-214.64 1310.3,-203.5 1294.74,-192.92\"/>\n",
       "<polygon fill=\"black\" stroke=\"black\" points=\"1296.42,-189.83 1286.19,-187.1 1292.49,-195.62 1296.42,-189.83\"/>\n",
       "</g>\n",
       "<!-- 20 -->\n",
       "<g id=\"node34\" class=\"node\">\n",
       "<title>20</title>\n",
       "<path fill=\"#8ec7f0\" stroke=\"black\" d=\"M1537,-187C1537,-187 1322,-187 1322,-187 1316,-187 1310,-181 1310,-175 1310,-175 1310,-116 1310,-116 1310,-110 1316,-104 1322,-104 1322,-104 1537,-104 1537,-104 1543,-104 1549,-110 1549,-116 1549,-116 1549,-175 1549,-175 1549,-181 1543,-187 1537,-187\"/>\n",
       "<text text-anchor=\"middle\" x=\"1429.5\" y=\"-171.8\" font-family=\"Helvetica,sans-Serif\" font-size=\"14.00\">DiabetesPedigreeFunction &lt;= 0.44</text>\n",
       "<text text-anchor=\"middle\" x=\"1429.5\" y=\"-156.8\" font-family=\"Helvetica,sans-Serif\" font-size=\"14.00\">entropy = 0.88</text>\n",
       "<text text-anchor=\"middle\" x=\"1429.5\" y=\"-141.8\" font-family=\"Helvetica,sans-Serif\" font-size=\"14.00\">samples = 40</text>\n",
       "<text text-anchor=\"middle\" x=\"1429.5\" y=\"-126.8\" font-family=\"Helvetica,sans-Serif\" font-size=\"14.00\">value = [12, 28]</text>\n",
       "<text text-anchor=\"middle\" x=\"1429.5\" y=\"-111.8\" font-family=\"Helvetica,sans-Serif\" font-size=\"14.00\">class = 1</text>\n",
       "</g>\n",
       "<!-- 13&#45;&gt;20 -->\n",
       "<g id=\"edge33\" class=\"edge\">\n",
       "<title>13&#45;&gt;20</title>\n",
       "<path fill=\"none\" stroke=\"black\" d=\"M1409.26,-222.91C1411.49,-214.47 1413.87,-205.48 1416.19,-196.74\"/>\n",
       "<polygon fill=\"black\" stroke=\"black\" points=\"1419.59,-197.58 1418.76,-187.02 1412.82,-195.79 1419.59,-197.58\"/>\n",
       "</g>\n",
       "<!-- 27 -->\n",
       "<g id=\"node32\" class=\"node\">\n",
       "<title>27</title>\n",
       "<path fill=\"#fcf2eb\" stroke=\"black\" d=\"M1162,-68C1162,-68 1081,-68 1081,-68 1075,-68 1069,-62 1069,-56 1069,-56 1069,-12 1069,-12 1069,-6 1075,0 1081,0 1081,0 1162,0 1162,0 1168,0 1174,-6 1174,-12 1174,-12 1174,-56 1174,-56 1174,-62 1168,-68 1162,-68\"/>\n",
       "<text text-anchor=\"middle\" x=\"1121.5\" y=\"-52.8\" font-family=\"Helvetica,sans-Serif\" font-size=\"14.00\">entropy = 1.0</text>\n",
       "<text text-anchor=\"middle\" x=\"1121.5\" y=\"-37.8\" font-family=\"Helvetica,sans-Serif\" font-size=\"14.00\">samples = 19</text>\n",
       "<text text-anchor=\"middle\" x=\"1121.5\" y=\"-22.8\" font-family=\"Helvetica,sans-Serif\" font-size=\"14.00\">value = [10, 9]</text>\n",
       "<text text-anchor=\"middle\" x=\"1121.5\" y=\"-7.8\" font-family=\"Helvetica,sans-Serif\" font-size=\"14.00\">class = 0</text>\n",
       "</g>\n",
       "<!-- 19&#45;&gt;27 -->\n",
       "<g id=\"edge31\" class=\"edge\">\n",
       "<title>19&#45;&gt;27</title>\n",
       "<path fill=\"none\" stroke=\"black\" d=\"M1187.4,-103.73C1178.57,-94.51 1169.19,-84.74 1160.37,-75.53\"/>\n",
       "<polygon fill=\"black\" stroke=\"black\" points=\"1162.88,-73.1 1153.43,-68.3 1157.83,-77.94 1162.88,-73.1\"/>\n",
       "</g>\n",
       "<!-- 28 -->\n",
       "<g id=\"node33\" class=\"node\">\n",
       "<title>28</title>\n",
       "<path fill=\"#e88e4d\" stroke=\"black\" d=\"M1288.5,-68C1288.5,-68 1204.5,-68 1204.5,-68 1198.5,-68 1192.5,-62 1192.5,-56 1192.5,-56 1192.5,-12 1192.5,-12 1192.5,-6 1198.5,0 1204.5,0 1204.5,0 1288.5,0 1288.5,0 1294.5,0 1300.5,-6 1300.5,-12 1300.5,-12 1300.5,-56 1300.5,-56 1300.5,-62 1294.5,-68 1288.5,-68\"/>\n",
       "<text text-anchor=\"middle\" x=\"1246.5\" y=\"-52.8\" font-family=\"Helvetica,sans-Serif\" font-size=\"14.00\">entropy = 0.44</text>\n",
       "<text text-anchor=\"middle\" x=\"1246.5\" y=\"-37.8\" font-family=\"Helvetica,sans-Serif\" font-size=\"14.00\">samples = 11</text>\n",
       "<text text-anchor=\"middle\" x=\"1246.5\" y=\"-22.8\" font-family=\"Helvetica,sans-Serif\" font-size=\"14.00\">value = [10, 1]</text>\n",
       "<text text-anchor=\"middle\" x=\"1246.5\" y=\"-7.8\" font-family=\"Helvetica,sans-Serif\" font-size=\"14.00\">class = 0</text>\n",
       "</g>\n",
       "<!-- 19&#45;&gt;28 -->\n",
       "<g id=\"edge32\" class=\"edge\">\n",
       "<title>19&#45;&gt;28</title>\n",
       "<path fill=\"none\" stroke=\"black\" d=\"M1233.95,-103.73C1235.46,-95.43 1237.06,-86.67 1238.59,-78.28\"/>\n",
       "<polygon fill=\"black\" stroke=\"black\" points=\"1242.06,-78.77 1240.42,-68.3 1235.18,-77.51 1242.06,-78.77\"/>\n",
       "</g>\n",
       "<!-- 37 -->\n",
       "<g id=\"node35\" class=\"node\">\n",
       "<title>37</title>\n",
       "<path fill=\"#e9f4fc\" stroke=\"black\" d=\"M1449,-68C1449,-68 1370,-68 1370,-68 1364,-68 1358,-62 1358,-56 1358,-56 1358,-12 1358,-12 1358,-6 1364,0 1370,0 1370,0 1449,0 1449,0 1455,0 1461,-6 1461,-12 1461,-12 1461,-56 1461,-56 1461,-62 1455,-68 1449,-68\"/>\n",
       "<text text-anchor=\"middle\" x=\"1409.5\" y=\"-52.8\" font-family=\"Helvetica,sans-Serif\" font-size=\"14.00\">entropy = 1.0</text>\n",
       "<text text-anchor=\"middle\" x=\"1409.5\" y=\"-37.8\" font-family=\"Helvetica,sans-Serif\" font-size=\"14.00\">samples = 17</text>\n",
       "<text text-anchor=\"middle\" x=\"1409.5\" y=\"-22.8\" font-family=\"Helvetica,sans-Serif\" font-size=\"14.00\">value = [8, 9]</text>\n",
       "<text text-anchor=\"middle\" x=\"1409.5\" y=\"-7.8\" font-family=\"Helvetica,sans-Serif\" font-size=\"14.00\">class = 1</text>\n",
       "</g>\n",
       "<!-- 20&#45;&gt;37 -->\n",
       "<g id=\"edge34\" class=\"edge\">\n",
       "<title>20&#45;&gt;37</title>\n",
       "<path fill=\"none\" stroke=\"black\" d=\"M1422.05,-103.73C1420.54,-95.43 1418.94,-86.67 1417.41,-78.28\"/>\n",
       "<polygon fill=\"black\" stroke=\"black\" points=\"1420.82,-77.51 1415.58,-68.3 1413.94,-78.77 1420.82,-77.51\"/>\n",
       "</g>\n",
       "<!-- 38 -->\n",
       "<g id=\"node36\" class=\"node\">\n",
       "<title>38</title>\n",
       "<path fill=\"#63b2ea\" stroke=\"black\" d=\"M1575.5,-68C1575.5,-68 1491.5,-68 1491.5,-68 1485.5,-68 1479.5,-62 1479.5,-56 1479.5,-56 1479.5,-12 1479.5,-12 1479.5,-6 1485.5,0 1491.5,0 1491.5,0 1575.5,0 1575.5,0 1581.5,0 1587.5,-6 1587.5,-12 1587.5,-12 1587.5,-56 1587.5,-56 1587.5,-62 1581.5,-68 1575.5,-68\"/>\n",
       "<text text-anchor=\"middle\" x=\"1533.5\" y=\"-52.8\" font-family=\"Helvetica,sans-Serif\" font-size=\"14.00\">entropy = 0.67</text>\n",
       "<text text-anchor=\"middle\" x=\"1533.5\" y=\"-37.8\" font-family=\"Helvetica,sans-Serif\" font-size=\"14.00\">samples = 23</text>\n",
       "<text text-anchor=\"middle\" x=\"1533.5\" y=\"-22.8\" font-family=\"Helvetica,sans-Serif\" font-size=\"14.00\">value = [4, 19]</text>\n",
       "<text text-anchor=\"middle\" x=\"1533.5\" y=\"-7.8\" font-family=\"Helvetica,sans-Serif\" font-size=\"14.00\">class = 1</text>\n",
       "</g>\n",
       "<!-- 20&#45;&gt;38 -->\n",
       "<g id=\"edge35\" class=\"edge\">\n",
       "<title>20&#45;&gt;38</title>\n",
       "<path fill=\"none\" stroke=\"black\" d=\"M1468.23,-103.73C1476.89,-94.61 1486.08,-84.93 1494.74,-75.81\"/>\n",
       "<polygon fill=\"black\" stroke=\"black\" points=\"1497.52,-77.96 1501.87,-68.3 1492.45,-73.14 1497.52,-77.96\"/>\n",
       "</g>\n",
       "<!-- 29 -->\n",
       "<g id=\"node38\" class=\"node\">\n",
       "<title>29</title>\n",
       "<path fill=\"#399de5\" stroke=\"black\" d=\"M1660,-179.5C1660,-179.5 1579,-179.5 1579,-179.5 1573,-179.5 1567,-173.5 1567,-167.5 1567,-167.5 1567,-123.5 1567,-123.5 1567,-117.5 1573,-111.5 1579,-111.5 1579,-111.5 1660,-111.5 1660,-111.5 1666,-111.5 1672,-117.5 1672,-123.5 1672,-123.5 1672,-167.5 1672,-167.5 1672,-173.5 1666,-179.5 1660,-179.5\"/>\n",
       "<text text-anchor=\"middle\" x=\"1619.5\" y=\"-164.3\" font-family=\"Helvetica,sans-Serif\" font-size=\"14.00\">entropy = 0.0</text>\n",
       "<text text-anchor=\"middle\" x=\"1619.5\" y=\"-149.3\" font-family=\"Helvetica,sans-Serif\" font-size=\"14.00\">samples = 14</text>\n",
       "<text text-anchor=\"middle\" x=\"1619.5\" y=\"-134.3\" font-family=\"Helvetica,sans-Serif\" font-size=\"14.00\">value = [0, 14]</text>\n",
       "<text text-anchor=\"middle\" x=\"1619.5\" y=\"-119.3\" font-family=\"Helvetica,sans-Serif\" font-size=\"14.00\">class = 1</text>\n",
       "</g>\n",
       "<!-- 14&#45;&gt;29 -->\n",
       "<g id=\"edge37\" class=\"edge\">\n",
       "<title>14&#45;&gt;29</title>\n",
       "<path fill=\"none\" stroke=\"black\" d=\"M1619.5,-222.91C1619.5,-212.2 1619.5,-200.62 1619.5,-189.78\"/>\n",
       "<polygon fill=\"black\" stroke=\"black\" points=\"1623,-189.67 1619.5,-179.67 1616,-189.67 1623,-189.67\"/>\n",
       "</g>\n",
       "<!-- 30 -->\n",
       "<g id=\"node39\" class=\"node\">\n",
       "<title>30</title>\n",
       "<path fill=\"#67b4eb\" stroke=\"black\" d=\"M1783,-179.5C1783,-179.5 1702,-179.5 1702,-179.5 1696,-179.5 1690,-173.5 1690,-167.5 1690,-167.5 1690,-123.5 1690,-123.5 1690,-117.5 1696,-111.5 1702,-111.5 1702,-111.5 1783,-111.5 1783,-111.5 1789,-111.5 1795,-117.5 1795,-123.5 1795,-123.5 1795,-167.5 1795,-167.5 1795,-173.5 1789,-179.5 1783,-179.5\"/>\n",
       "<text text-anchor=\"middle\" x=\"1742.5\" y=\"-164.3\" font-family=\"Helvetica,sans-Serif\" font-size=\"14.00\">entropy = 0.7</text>\n",
       "<text text-anchor=\"middle\" x=\"1742.5\" y=\"-149.3\" font-family=\"Helvetica,sans-Serif\" font-size=\"14.00\">samples = 48</text>\n",
       "<text text-anchor=\"middle\" x=\"1742.5\" y=\"-134.3\" font-family=\"Helvetica,sans-Serif\" font-size=\"14.00\">value = [9, 39]</text>\n",
       "<text text-anchor=\"middle\" x=\"1742.5\" y=\"-119.3\" font-family=\"Helvetica,sans-Serif\" font-size=\"14.00\">class = 1</text>\n",
       "</g>\n",
       "<!-- 14&#45;&gt;30 -->\n",
       "<g id=\"edge38\" class=\"edge\">\n",
       "<title>14&#45;&gt;30</title>\n",
       "<path fill=\"none\" stroke=\"black\" d=\"M1662.17,-222.91C1674.47,-211.21 1687.88,-198.46 1700.15,-186.78\"/>\n",
       "<polygon fill=\"black\" stroke=\"black\" points=\"1702.8,-189.1 1707.63,-179.67 1697.97,-184.02 1702.8,-189.1\"/>\n",
       "</g>\n",
       "</g>\n",
       "</svg>\n"
      ],
      "text/plain": [
       "<graphviz.sources.Source at 0x2107fd79820>"
      ]
     },
     "execution_count": 33,
     "metadata": {},
     "output_type": "execute_result"
    }
   ],
   "source": [
    "graphviz.Source(dot_graph)"
   ]
  },
  {
   "cell_type": "code",
   "execution_count": 36,
   "id": "8ea73248",
   "metadata": {},
   "outputs": [
    {
     "data": {
      "text/plain": [
       "6"
      ]
     },
     "execution_count": 36,
     "metadata": {},
     "output_type": "execute_result"
    }
   ],
   "source": [
    "clf.tree_.max_depth"
   ]
  },
  {
   "cell_type": "code",
   "execution_count": 37,
   "id": "bb20c52d",
   "metadata": {},
   "outputs": [
    {
     "data": {
      "text/plain": [
       "array([0.03044506, 0.45323621, 0.06695541, 0.        , 0.        ,\n",
       "       0.2462676 , 0.05229003, 0.15080569])"
      ]
     },
     "execution_count": 37,
     "metadata": {},
     "output_type": "execute_result"
    }
   ],
   "source": [
    "clf.feature_importances_"
   ]
  },
  {
   "cell_type": "code",
   "execution_count": 38,
   "id": "da045ad8",
   "metadata": {},
   "outputs": [
    {
     "data": {
      "text/plain": [
       "8"
      ]
     },
     "execution_count": 38,
     "metadata": {},
     "output_type": "execute_result"
    }
   ],
   "source": [
    "clf.n_features_in_"
   ]
  },
  {
   "cell_type": "code",
   "execution_count": 47,
   "id": "a30a7df7",
   "metadata": {},
   "outputs": [
    {
     "name": "stdout",
     "output_type": "stream",
     "text": [
      "<class 'pandas.core.series.Series'>\n"
     ]
    },
    {
     "data": {
      "text/html": [
       "<div>\n",
       "<style scoped>\n",
       "    .dataframe tbody tr th:only-of-type {\n",
       "        vertical-align: middle;\n",
       "    }\n",
       "\n",
       "    .dataframe tbody tr th {\n",
       "        vertical-align: top;\n",
       "    }\n",
       "\n",
       "    .dataframe thead th {\n",
       "        text-align: right;\n",
       "    }\n",
       "</style>\n",
       "<table border=\"1\" class=\"dataframe\">\n",
       "  <thead>\n",
       "    <tr style=\"text-align: right;\">\n",
       "      <th></th>\n",
       "      <th>Pregnancies</th>\n",
       "      <th>Glucose</th>\n",
       "      <th>BloodPressure</th>\n",
       "      <th>SkinThickness</th>\n",
       "      <th>Insulin</th>\n",
       "      <th>BMI</th>\n",
       "      <th>DiabetesPedigreeFunction</th>\n",
       "      <th>Age</th>\n",
       "    </tr>\n",
       "  </thead>\n",
       "  <tbody>\n",
       "    <tr>\n",
       "      <th>552</th>\n",
       "      <td>6</td>\n",
       "      <td>114</td>\n",
       "      <td>88</td>\n",
       "      <td>0</td>\n",
       "      <td>0</td>\n",
       "      <td>27.8</td>\n",
       "      <td>0.247</td>\n",
       "      <td>66</td>\n",
       "    </tr>\n",
       "    <tr>\n",
       "      <th>553</th>\n",
       "      <td>1</td>\n",
       "      <td>88</td>\n",
       "      <td>62</td>\n",
       "      <td>24</td>\n",
       "      <td>44</td>\n",
       "      <td>29.9</td>\n",
       "      <td>0.422</td>\n",
       "      <td>23</td>\n",
       "    </tr>\n",
       "    <tr>\n",
       "      <th>554</th>\n",
       "      <td>1</td>\n",
       "      <td>84</td>\n",
       "      <td>64</td>\n",
       "      <td>23</td>\n",
       "      <td>115</td>\n",
       "      <td>36.9</td>\n",
       "      <td>0.471</td>\n",
       "      <td>28</td>\n",
       "    </tr>\n",
       "    <tr>\n",
       "      <th>555</th>\n",
       "      <td>7</td>\n",
       "      <td>124</td>\n",
       "      <td>70</td>\n",
       "      <td>33</td>\n",
       "      <td>215</td>\n",
       "      <td>25.5</td>\n",
       "      <td>0.161</td>\n",
       "      <td>37</td>\n",
       "    </tr>\n",
       "    <tr>\n",
       "      <th>556</th>\n",
       "      <td>1</td>\n",
       "      <td>97</td>\n",
       "      <td>70</td>\n",
       "      <td>40</td>\n",
       "      <td>0</td>\n",
       "      <td>38.1</td>\n",
       "      <td>0.218</td>\n",
       "      <td>30</td>\n",
       "    </tr>\n",
       "    <tr>\n",
       "      <th>...</th>\n",
       "      <td>...</td>\n",
       "      <td>...</td>\n",
       "      <td>...</td>\n",
       "      <td>...</td>\n",
       "      <td>...</td>\n",
       "      <td>...</td>\n",
       "      <td>...</td>\n",
       "      <td>...</td>\n",
       "    </tr>\n",
       "    <tr>\n",
       "      <th>685</th>\n",
       "      <td>2</td>\n",
       "      <td>129</td>\n",
       "      <td>74</td>\n",
       "      <td>26</td>\n",
       "      <td>205</td>\n",
       "      <td>33.2</td>\n",
       "      <td>0.591</td>\n",
       "      <td>25</td>\n",
       "    </tr>\n",
       "    <tr>\n",
       "      <th>686</th>\n",
       "      <td>3</td>\n",
       "      <td>130</td>\n",
       "      <td>64</td>\n",
       "      <td>0</td>\n",
       "      <td>0</td>\n",
       "      <td>23.1</td>\n",
       "      <td>0.314</td>\n",
       "      <td>22</td>\n",
       "    </tr>\n",
       "    <tr>\n",
       "      <th>687</th>\n",
       "      <td>1</td>\n",
       "      <td>107</td>\n",
       "      <td>50</td>\n",
       "      <td>19</td>\n",
       "      <td>0</td>\n",
       "      <td>28.3</td>\n",
       "      <td>0.181</td>\n",
       "      <td>29</td>\n",
       "    </tr>\n",
       "    <tr>\n",
       "      <th>688</th>\n",
       "      <td>1</td>\n",
       "      <td>140</td>\n",
       "      <td>74</td>\n",
       "      <td>26</td>\n",
       "      <td>180</td>\n",
       "      <td>24.1</td>\n",
       "      <td>0.828</td>\n",
       "      <td>23</td>\n",
       "    </tr>\n",
       "    <tr>\n",
       "      <th>689</th>\n",
       "      <td>1</td>\n",
       "      <td>144</td>\n",
       "      <td>82</td>\n",
       "      <td>46</td>\n",
       "      <td>180</td>\n",
       "      <td>46.1</td>\n",
       "      <td>0.335</td>\n",
       "      <td>46</td>\n",
       "    </tr>\n",
       "  </tbody>\n",
       "</table>\n",
       "<p>138 rows × 8 columns</p>\n",
       "</div>"
      ],
      "text/plain": [
       "     Pregnancies  Glucose  BloodPressure  SkinThickness  Insulin   BMI  \\\n",
       "552            6      114             88              0        0  27.8   \n",
       "553            1       88             62             24       44  29.9   \n",
       "554            1       84             64             23      115  36.9   \n",
       "555            7      124             70             33      215  25.5   \n",
       "556            1       97             70             40        0  38.1   \n",
       "..           ...      ...            ...            ...      ...   ...   \n",
       "685            2      129             74             26      205  33.2   \n",
       "686            3      130             64              0        0  23.1   \n",
       "687            1      107             50             19        0  28.3   \n",
       "688            1      140             74             26      180  24.1   \n",
       "689            1      144             82             46      180  46.1   \n",
       "\n",
       "     DiabetesPedigreeFunction  Age  \n",
       "552                     0.247   66  \n",
       "553                     0.422   23  \n",
       "554                     0.471   28  \n",
       "555                     0.161   37  \n",
       "556                     0.218   30  \n",
       "..                        ...  ...  \n",
       "685                     0.591   25  \n",
       "686                     0.314   22  \n",
       "687                     0.181   29  \n",
       "688                     0.828   23  \n",
       "689                     0.335   46  \n",
       "\n",
       "[138 rows x 8 columns]"
      ]
     },
     "execution_count": 47,
     "metadata": {},
     "output_type": "execute_result"
    }
   ],
   "source": [
    "y_test = data_test['Outcome']\n",
    "print(type(y_test))\n",
    "x_test = data_test.iloc[:,:8]\n",
    "x_test"
   ]
  },
  {
   "cell_type": "code",
   "execution_count": 48,
   "id": "f3f8efd9",
   "metadata": {},
   "outputs": [
    {
     "name": "stdout",
     "output_type": "stream",
     "text": [
      "[1 0 0 0 0 1 0 0 0 1 0 0 0 0 0 0 1 0 0 0 0 0 0 0 0 0 1 1 0 0 1 0 1 0 1 0 1\n",
      " 0 1 0 1 0 1 1 0 0 1 0 0 0 0 1 1 0 1 0 0 0 0 1 1 0 1 0 0 0 1 0 1 0 1 0 0 0\n",
      " 0 0 1 0 1 0 0 0 0 1 0 0 0 0 0 0 0 0 0 1 0 1 0 0 0 0 1 0 0 1 0 1 0 0 0 1 1\n",
      " 1 1 0 1 0 0 1 1 0 0 0 0 1 0 0 0 0 0 1 0 0 0 0 1 0 0 1]\n",
      "552    0\n",
      "553    0\n",
      "554    0\n",
      "555    0\n",
      "556    0\n",
      "      ..\n",
      "685    0\n",
      "686    0\n",
      "687    0\n",
      "688    0\n",
      "689    1\n",
      "Name: Outcome, Length: 138, dtype: int64\n"
     ]
    }
   ],
   "source": [
    "predictions = clf.predict(x_test)\n",
    "print(predictions)\n",
    "print(y_test)"
   ]
  },
  {
   "cell_type": "code",
   "execution_count": 41,
   "id": "d402bb15",
   "metadata": {},
   "outputs": [],
   "source": [
    "from sklearn.metrics import accuracy_score"
   ]
  },
  {
   "cell_type": "code",
   "execution_count": 49,
   "id": "ec56a6ce",
   "metadata": {},
   "outputs": [
    {
     "data": {
      "text/plain": [
       "0.7898550724637681"
      ]
     },
     "execution_count": 49,
     "metadata": {},
     "output_type": "execute_result"
    }
   ],
   "source": [
    "accuracy_score(y_test, predictions)"
   ]
  },
  {
   "cell_type": "code",
   "execution_count": 50,
   "id": "3f4be13d",
   "metadata": {},
   "outputs": [],
   "source": [
    "from sklearn.metrics import f1_score"
   ]
  },
  {
   "cell_type": "code",
   "execution_count": 51,
   "id": "c4304069",
   "metadata": {},
   "outputs": [
    {
     "data": {
      "text/plain": [
       "0.7534955343393901"
      ]
     },
     "execution_count": 51,
     "metadata": {},
     "output_type": "execute_result"
    }
   ],
   "source": [
    "f1_score(y_test, predictions, average = 'macro')"
   ]
  },
  {
   "cell_type": "code",
   "execution_count": 58,
   "id": "724a6c80",
   "metadata": {},
   "outputs": [
    {
     "data": {
      "text/plain": [
       "0"
      ]
     },
     "execution_count": 58,
     "metadata": {},
     "output_type": "execute_result"
    }
   ],
   "source": [
    "data = pd.read_csv('diabetes.csv')\n",
    "clf.predict(data.drop('Outcome', axis = 1).iloc[729:730,:])[0]"
   ]
  },
  {
   "cell_type": "markdown",
   "id": "fbc86180",
   "metadata": {},
   "source": [
    "!!!!!!!!!!!!!!!!!!!!!!!!!!!!!!!!!!!!!!!!!!NExt task"
   ]
  },
  {
   "cell_type": "code",
   "execution_count": 76,
   "id": "32f80dd9",
   "metadata": {},
   "outputs": [],
   "source": [
    "food = pd.read_csv('food.txt', delimiter = ',')"
   ]
  },
  {
   "cell_type": "code",
   "execution_count": 77,
   "id": "47539fe1",
   "metadata": {},
   "outputs": [
    {
     "name": "stdout",
     "output_type": "stream",
     "text": [
      "(20, 4)\n",
      "       Food  Price  Taste Demand\n",
      "0     Pizza      3      2    Yes\n",
      "1     Pizza      4      1     No\n",
      "2     Pizza      1      3     No\n",
      "3     Pizza      5      5    Yes\n",
      "4     Pizza      5      4    Yes\n",
      "5     Sushi      1      3    Yes\n",
      "6     Sushi      5      5     No\n",
      "7     Sushi      4      2    Yes\n",
      "8     Sushi      4      4     No\n",
      "9     Sushi      5      5    Yes\n",
      "10    Sushi      3      3    Yes\n",
      "11    Sushi      3      3     No\n",
      "12    Sushi      4      2    Yes\n",
      "13  Burgers      5      5    Yes\n",
      "14  Burgers      4      4    Yes\n",
      "15  Burgers      3      3    Yes\n",
      "16  Burgers      2      2    Yes\n",
      "17  Burgers      1      1    Yes\n",
      "18  Burgers      2      2     No\n",
      "19  Burgers      1      1     No\n"
     ]
    }
   ],
   "source": [
    "print(food.shape)\n",
    "food.head()\n",
    "print(food)"
   ]
  },
  {
   "cell_type": "code",
   "execution_count": 78,
   "id": "e34f157e",
   "metadata": {},
   "outputs": [
    {
     "data": {
      "text/plain": [
       "Yes    13\n",
       "No      7\n",
       "Name: Demand, dtype: int64"
      ]
     },
     "execution_count": 78,
     "metadata": {},
     "output_type": "execute_result"
    }
   ],
   "source": [
    "food['Demand'].value_counts()"
   ]
  },
  {
   "cell_type": "code",
   "execution_count": 79,
   "id": "16f24bc3",
   "metadata": {},
   "outputs": [
    {
     "name": "stdout",
     "output_type": "stream",
     "text": [
      "Entropy =  0.934068055375491\n"
     ]
    }
   ],
   "source": [
    "en = - 13/20*np.log2(13/20) - 7/20*np.log2(7/20)\n",
    "print(\"Entropy = \", en)"
   ]
  },
  {
   "cell_type": "code",
   "execution_count": 108,
   "id": "4b99cff8",
   "metadata": {},
   "outputs": [
    {
     "data": {
      "text/plain": [
       "Yes    3\n",
       "No     2\n",
       "Name: Demand, dtype: int64"
      ]
     },
     "execution_count": 108,
     "metadata": {},
     "output_type": "execute_result"
    }
   ],
   "source": [
    "f1 = food.loc[:,['Food','Demand']]\n",
    "f1[f1['Food'] == 'Pizza']['Demand'].value_counts()"
   ]
  },
  {
   "cell_type": "code",
   "execution_count": 109,
   "id": "a99ab206",
   "metadata": {},
   "outputs": [
    {
     "data": {
      "text/plain": [
       "Yes    5\n",
       "No     3\n",
       "Name: Demand, dtype: int64"
      ]
     },
     "execution_count": 109,
     "metadata": {},
     "output_type": "execute_result"
    }
   ],
   "source": [
    "f1[f1['Food'] == 'Sushi']['Demand'].value_counts()"
   ]
  },
  {
   "cell_type": "code",
   "execution_count": 111,
   "id": "b66c1c98",
   "metadata": {},
   "outputs": [
    {
     "data": {
      "text/plain": [
       "Yes    5\n",
       "No     2\n",
       "Name: Demand, dtype: int64"
      ]
     },
     "execution_count": 111,
     "metadata": {},
     "output_type": "execute_result"
    }
   ],
   "source": [
    "f1[f1['Food'] == 'Burgers']['Demand'].value_counts()"
   ]
  },
  {
   "cell_type": "code",
   "execution_count": 113,
   "id": "e9157127",
   "metadata": {},
   "outputs": [
    {
     "name": "stdout",
     "output_type": "stream",
     "text": [
      "H_sushi =  0.954434002924965 ;H_burgers =  0.863120568566631 ;H_pizza =  0.9709505944546686 ;H =  0.9266034487819741\n"
     ]
    }
   ],
   "source": [
    "H_sushi = -(5/8)*np.log2(5/8) - (3/8)*np.log2(3/8)\n",
    "H_burgers = -(5/7)*np.log2(5/7) - (2/7)*np.log2(2/7)\n",
    "H_pizza = -(3/5)*np.log2(3/5) - (2/5)*np.log2(2/5)\n",
    "H = (8/20)*H_sushi + (7/20)*H_burgers + (5/20)*H_pizza\n",
    "print('H_sushi = ', H_sushi,';H_burgers = ', H_burgers,';H_pizza = ', H_pizza,';H = ', H)"
   ]
  },
  {
   "cell_type": "code",
   "execution_count": 114,
   "id": "cdc86c50",
   "metadata": {},
   "outputs": [
    {
     "name": "stdout",
     "output_type": "stream",
     "text": [
      "IG_Food =  0.007464606593516887\n"
     ]
    }
   ],
   "source": [
    "IG_Food = en - H\n",
    "print('IG_Food = ',IG_Food)"
   ]
  },
  {
   "cell_type": "code",
   "execution_count": 115,
   "id": "b3d8a3cb",
   "metadata": {},
   "outputs": [
    {
     "data": {
      "text/plain": [
       "4    5\n",
       "5    5\n",
       "1    4\n",
       "3    4\n",
       "2    2\n",
       "Name: Price, dtype: int64"
      ]
     },
     "execution_count": 115,
     "metadata": {},
     "output_type": "execute_result"
    }
   ],
   "source": [
    "food['Price'].value_counts()"
   ]
  },
  {
   "cell_type": "code",
   "execution_count": 123,
   "id": "f99efa33",
   "metadata": {},
   "outputs": [
    {
     "data": {
      "text/plain": [
       "2      No\n",
       "5     Yes\n",
       "17    Yes\n",
       "19     No\n",
       "Name: Demand, dtype: object"
      ]
     },
     "execution_count": 123,
     "metadata": {},
     "output_type": "execute_result"
    }
   ],
   "source": [
    "food[food['Price'] == 1]['Demand']"
   ]
  },
  {
   "cell_type": "code",
   "execution_count": 124,
   "id": "089cb512",
   "metadata": {},
   "outputs": [],
   "source": [
    "H_5 = - (4/5)*np.log2(4/5) - (1/5)*np.log2(1/5)\n",
    "H_4 = - (3/5)*np.log2(3/5) - (2/5)*np.log2(2/5) \n",
    "H_3 = - (3/4)*np.log2(3/4) - (1/4)*np.log2(1/4)\n",
    "H_2 = - (1/2)*np.log2(1/2) - (1/2)*np.log2(1/2)\n",
    "H_1 = - (2/4)*np.log2(2/4) - (2/4)*np.log2(2/4)"
   ]
  },
  {
   "cell_type": "code",
   "execution_count": 125,
   "id": "4ee582c1",
   "metadata": {},
   "outputs": [
    {
     "name": "stdout",
     "output_type": "stream",
     "text": [
      "H1 =  0.8854752972273343\n",
      "IG_price =  0.04859275814815667\n"
     ]
    }
   ],
   "source": [
    "H1 = (5/20)*H_5 + (5/20)*H_4 + (4/20)*H_3 + (2/20)*H_2+ (4/20)*H_1\n",
    "print('H1 = ', H1)\n",
    "IG_price = en - H1\n",
    "print('IG_price = ', IG_price)"
   ]
  },
  {
   "cell_type": "code",
   "execution_count": 127,
   "id": "85fe7ccd",
   "metadata": {},
   "outputs": [
    {
     "data": {
      "text/plain": [
       "2    5\n",
       "3    5\n",
       "5    4\n",
       "1    3\n",
       "4    3\n",
       "Name: Taste, dtype: int64"
      ]
     },
     "execution_count": 127,
     "metadata": {},
     "output_type": "execute_result"
    }
   ],
   "source": [
    "food['Taste'].value_counts()"
   ]
  },
  {
   "cell_type": "code",
   "execution_count": 141,
   "id": "fd4071f5",
   "metadata": {},
   "outputs": [
    {
     "data": {
      "text/plain": [
       "1      No\n",
       "17    Yes\n",
       "19     No\n",
       "Name: Demand, dtype: object"
      ]
     },
     "execution_count": 141,
     "metadata": {},
     "output_type": "execute_result"
    }
   ],
   "source": [
    "food[food['Taste'] == 1]['Demand']"
   ]
  },
  {
   "cell_type": "code",
   "execution_count": 142,
   "id": "ea8e1772",
   "metadata": {},
   "outputs": [],
   "source": [
    "H_5 = - (3/4)*np.log2(3/4) - (1/4)*np.log2(1/4)\n",
    "H_4 = - (2/3)*np.log2(2/3) - (1/3)*np.log2(1/3) \n",
    "H_3 = - (3/5)*np.log2(3/5) - (2/5)*np.log2(2/5)\n",
    "H_2 = - (4/5)*np.log2(4/5) - (1/5)*np.log2(1/5)\n",
    "H_1 = - (1/3)*np.log2(1/3) - (2/3)*np.log2(2/3)"
   ]
  },
  {
   "cell_type": "code",
   "execution_count": 143,
   "id": "316a167f",
   "metadata": {},
   "outputs": [
    {
     "name": "stdout",
     "output_type": "stream",
     "text": [
      "H2 =  0.8609640474436812\n",
      "IG_taste =  0.07310400793180982\n"
     ]
    }
   ],
   "source": [
    "H2 = (4/20)*H_5 + (3/20)*H_4 + (5/20)*H_3 + (5/20)*H_2+ (3/20)*H_1\n",
    "print('H2 = ', H2)\n",
    "IG_taste = en - H2\n",
    "print('IG_taste = ', IG_taste)"
   ]
  },
  {
   "cell_type": "code",
   "execution_count": null,
   "id": "2988b00e",
   "metadata": {},
   "outputs": [],
   "source": []
  },
  {
   "cell_type": "code",
   "execution_count": null,
   "id": "60f4aab8",
   "metadata": {},
   "outputs": [],
   "source": []
  }
 ],
 "metadata": {
  "kernelspec": {
   "display_name": "Python 3",
   "language": "python",
   "name": "python3"
  },
  "language_info": {
   "codemirror_mode": {
    "name": "ipython",
    "version": 3
   },
   "file_extension": ".py",
   "mimetype": "text/x-python",
   "name": "python",
   "nbconvert_exporter": "python",
   "pygments_lexer": "ipython3",
   "version": "3.8.8"
  }
 },
 "nbformat": 4,
 "nbformat_minor": 5
}

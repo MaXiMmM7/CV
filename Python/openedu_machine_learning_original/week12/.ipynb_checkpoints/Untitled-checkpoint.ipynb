{
 "cells": [
  {
   "cell_type": "code",
   "execution_count": 61,
   "id": "1982bdbd",
   "metadata": {},
   "outputs": [],
   "source": [
    "import pandas as pd"
   ]
  },
  {
   "cell_type": "code",
   "execution_count": 62,
   "id": "221db4da",
   "metadata": {},
   "outputs": [],
   "source": [
    "data = pd.read_csv('pulsar_stars_new.csv')"
   ]
  },
  {
   "cell_type": "code",
   "execution_count": 63,
   "id": "87606c7b",
   "metadata": {},
   "outputs": [
    {
     "name": "stdout",
     "output_type": "stream",
     "text": [
      "The number of rows is  202\n"
     ]
    }
   ],
   "source": [
    "mask1 = (data['TARGET'] == 0) & (data['MIP'] >= 88.484375) & (data['MIP'] <= 89.453125)\n",
    "mask2 = (data['TARGET'] == 1) & (data['MIP'] >= 65.078125) & (data['MIP'] <= 70.7421875)\n",
    "data_new = pd.concat([data[mask1],data[mask2]])\n",
    "print('The number of rows is ', data_new.shape[0])"
   ]
  },
  {
   "cell_type": "code",
   "execution_count": 64,
   "id": "b64de18f",
   "metadata": {},
   "outputs": [
    {
     "name": "stdout",
     "output_type": "stream",
     "text": [
      "The mean before normalization is  78.3495900371287\n"
     ]
    }
   ],
   "source": [
    "y_target = data_new['TARGET'].values\n",
    "print('The mean before normalization is ', data_new['MIP'].mean())"
   ]
  },
  {
   "cell_type": "code",
   "execution_count": 65,
   "id": "be4aea08",
   "metadata": {},
   "outputs": [],
   "source": [
    "from sklearn.preprocessing import MinMaxScaler"
   ]
  },
  {
   "cell_type": "code",
   "execution_count": 66,
   "id": "0bde6a91",
   "metadata": {},
   "outputs": [],
   "source": [
    "data_new.drop(columns = 'TARGET', inplace = True)"
   ]
  },
  {
   "cell_type": "code",
   "execution_count": 67,
   "id": "a839e972",
   "metadata": {},
   "outputs": [
    {
     "name": "stdout",
     "output_type": "stream",
     "text": [
      "The mean after normalization is  0.5444703604975887\n"
     ]
    }
   ],
   "source": [
    "res_2 = pd.DataFrame(MinMaxScaler().fit_transform(data_new), columns = data_new.columns )\n",
    "print('The mean after normalization is ', res_2['MIP'].mean())"
   ]
  },
  {
   "cell_type": "code",
   "execution_count": 68,
   "id": "beba45dd",
   "metadata": {},
   "outputs": [],
   "source": [
    "from sklearn.linear_model import LogisticRegression"
   ]
  },
  {
   "cell_type": "code",
   "execution_count": 69,
   "id": "bbc0a45a",
   "metadata": {},
   "outputs": [],
   "source": [
    "x_train = res_2.values"
   ]
  },
  {
   "cell_type": "code",
   "execution_count": 70,
   "id": "d95b8b54",
   "metadata": {},
   "outputs": [],
   "source": [
    "import numpy as np"
   ]
  },
  {
   "cell_type": "code",
   "execution_count": 71,
   "id": "fa942090",
   "metadata": {},
   "outputs": [],
   "source": [
    "test_star = [[0.595, 0.894, 0.813, 0.868, 0.067, 0.547, 0.08, 0.427]]"
   ]
  },
  {
   "cell_type": "code",
   "execution_count": 72,
   "id": "dd26616c",
   "metadata": {},
   "outputs": [
    {
     "name": "stdout",
     "output_type": "stream",
     "text": [
      "[[0.14 0.86]]\n"
     ]
    }
   ],
   "source": [
    "model = LogisticRegression(random_state = 2019)\n",
    "model.fit(x_train, y_target)\n",
    "prediction = model.predict_proba(test_star)\n",
    "print(np.round(prediction,3))"
   ]
  },
  {
   "cell_type": "code",
   "execution_count": 73,
   "id": "cc5b2308",
   "metadata": {},
   "outputs": [],
   "source": [
    "from sklearn.neighbors import KNeighborsClassifier"
   ]
  },
  {
   "cell_type": "code",
   "execution_count": 74,
   "id": "8742d46c",
   "metadata": {},
   "outputs": [
    {
     "name": "stdout",
     "output_type": "stream",
     "text": [
      "0.954\n"
     ]
    }
   ],
   "source": [
    "KNN = KNeighborsClassifier(metric = 'euclidean')\n",
    "KNN.fit(x_train, y_target)\n",
    "dist, _ = KNN.kneighbors(X = test_star)\n",
    "print(np.round(dist[0][0],3))"
   ]
  },
  {
   "cell_type": "code",
   "execution_count": null,
   "id": "8dfe7509",
   "metadata": {},
   "outputs": [],
   "source": []
  },
  {
   "cell_type": "code",
   "execution_count": null,
   "id": "0c179d1f",
   "metadata": {},
   "outputs": [],
   "source": []
  },
  {
   "cell_type": "code",
   "execution_count": null,
   "id": "ff8fc5dc",
   "metadata": {},
   "outputs": [],
   "source": []
  },
  {
   "cell_type": "code",
   "execution_count": null,
   "id": "692a9ae1",
   "metadata": {},
   "outputs": [],
   "source": []
  }
 ],
 "metadata": {
  "kernelspec": {
   "display_name": "Python 3",
   "language": "python",
   "name": "python3"
  },
  "language_info": {
   "codemirror_mode": {
    "name": "ipython",
    "version": 3
   },
   "file_extension": ".py",
   "mimetype": "text/x-python",
   "name": "python",
   "nbconvert_exporter": "python",
   "pygments_lexer": "ipython3",
   "version": "3.8.8"
  }
 },
 "nbformat": 4,
 "nbformat_minor": 5
}

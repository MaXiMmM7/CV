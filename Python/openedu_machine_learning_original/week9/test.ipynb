{
 "cells": [
  {
   "cell_type": "code",
   "execution_count": 1,
   "id": "b69d0b09",
   "metadata": {},
   "outputs": [],
   "source": [
    "import numpy as np"
   ]
  },
  {
   "cell_type": "code",
   "execution_count": 8,
   "id": "bb2c2901",
   "metadata": {},
   "outputs": [],
   "source": [
    "x1 = np.array([1,2]).reshape(1,-1)\n",
    "x2 = np.array([0,3]).reshape(1,-1)\n",
    "x3 = np.array([-1,1]).reshape(1,-1)"
   ]
  },
  {
   "cell_type": "code",
   "execution_count": 4,
   "id": "b104993f",
   "metadata": {},
   "outputs": [],
   "source": [
    "from sklearn.metrics.pairwise import euclidean_distances as ed"
   ]
  },
  {
   "cell_type": "code",
   "execution_count": 12,
   "id": "805f6682",
   "metadata": {
    "scrolled": true
   },
   "outputs": [
    {
     "name": "stdout",
     "output_type": "stream",
     "text": [
      "12.000000000000004 4.000000000000001\n"
     ]
    }
   ],
   "source": [
    "W = np.array([ed(x1,x2)**2,ed(x1,x3)**2,ed(x2,x3)**2]).sum()\n",
    "print(W, W/3)"
   ]
  },
  {
   "cell_type": "code",
   "execution_count": 18,
   "id": "1f58e03f",
   "metadata": {},
   "outputs": [
    {
     "name": "stdout",
     "output_type": "stream",
     "text": [
      "[[4.47213595]] 12.999999999999998\n"
     ]
    }
   ],
   "source": [
    "x1 = np.array([0,2]).reshape(1,-1)\n",
    "x2 = np.array([4,0]).reshape(1,-1)\n",
    "x3 = np.array([2,-3]).reshape(1,-1)\n",
    "\n",
    "print(ed(x1,x2),ed(x3,x2)[0][0]**2)"
   ]
  },
  {
   "cell_type": "code",
   "execution_count": null,
   "id": "30a28ee3",
   "metadata": {},
   "outputs": [],
   "source": []
  },
  {
   "cell_type": "code",
   "execution_count": null,
   "id": "6158ff19",
   "metadata": {},
   "outputs": [],
   "source": []
  }
 ],
 "metadata": {
  "kernelspec": {
   "display_name": "Python 3",
   "language": "python",
   "name": "python3"
  },
  "language_info": {
   "codemirror_mode": {
    "name": "ipython",
    "version": 3
   },
   "file_extension": ".py",
   "mimetype": "text/x-python",
   "name": "python",
   "nbconvert_exporter": "python",
   "pygments_lexer": "ipython3",
   "version": "3.8.8"
  }
 },
 "nbformat": 4,
 "nbformat_minor": 5
}

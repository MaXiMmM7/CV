{
 "cells": [
  {
   "cell_type": "code",
   "execution_count": 2,
   "id": "75072c27",
   "metadata": {},
   "outputs": [],
   "source": [
    "import pandas as pd"
   ]
  },
  {
   "cell_type": "code",
   "execution_count": 3,
   "id": "63aa08a0",
   "metadata": {},
   "outputs": [],
   "source": [
    "data = pd.read_csv('data.txt', delimiter = ',', index_col = 0)"
   ]
  },
  {
   "cell_type": "code",
   "execution_count": 4,
   "id": "432f897d",
   "metadata": {},
   "outputs": [
    {
     "data": {
      "text/html": [
       "<div>\n",
       "<style scoped>\n",
       "    .dataframe tbody tr th:only-of-type {\n",
       "        vertical-align: middle;\n",
       "    }\n",
       "\n",
       "    .dataframe tbody tr th {\n",
       "        vertical-align: top;\n",
       "    }\n",
       "\n",
       "    .dataframe thead th {\n",
       "        text-align: right;\n",
       "    }\n",
       "</style>\n",
       "<table border=\"1\" class=\"dataframe\">\n",
       "  <thead>\n",
       "    <tr style=\"text-align: right;\">\n",
       "      <th></th>\n",
       "      <th>X</th>\n",
       "      <th>Y</th>\n",
       "      <th>Cluster</th>\n",
       "    </tr>\n",
       "    <tr>\n",
       "      <th>Object</th>\n",
       "      <th></th>\n",
       "      <th></th>\n",
       "      <th></th>\n",
       "    </tr>\n",
       "  </thead>\n",
       "  <tbody>\n",
       "    <tr>\n",
       "      <th>1</th>\n",
       "      <td>18</td>\n",
       "      <td>11</td>\n",
       "      <td>0</td>\n",
       "    </tr>\n",
       "    <tr>\n",
       "      <th>2</th>\n",
       "      <td>13</td>\n",
       "      <td>16</td>\n",
       "      <td>1</td>\n",
       "    </tr>\n",
       "    <tr>\n",
       "      <th>3</th>\n",
       "      <td>16</td>\n",
       "      <td>12</td>\n",
       "      <td>2</td>\n",
       "    </tr>\n",
       "    <tr>\n",
       "      <th>4</th>\n",
       "      <td>19</td>\n",
       "      <td>5</td>\n",
       "      <td>0</td>\n",
       "    </tr>\n",
       "    <tr>\n",
       "      <th>5</th>\n",
       "      <td>20</td>\n",
       "      <td>19</td>\n",
       "      <td>0</td>\n",
       "    </tr>\n",
       "  </tbody>\n",
       "</table>\n",
       "</div>"
      ],
      "text/plain": [
       "         X   Y  Cluster\n",
       "Object                 \n",
       "1       18  11        0\n",
       "2       13  16        1\n",
       "3       16  12        2\n",
       "4       19   5        0\n",
       "5       20  19        0"
      ]
     },
     "execution_count": 4,
     "metadata": {},
     "output_type": "execute_result"
    }
   ],
   "source": [
    "data.head()"
   ]
  },
  {
   "cell_type": "code",
   "execution_count": 5,
   "id": "99bb0f25",
   "metadata": {},
   "outputs": [
    {
     "name": "stdout",
     "output_type": "stream",
     "text": [
      "<class 'pandas.core.frame.DataFrame'>\n",
      "Int64Index: 15 entries, 1 to 15\n",
      "Data columns (total 3 columns):\n",
      " #   Column   Non-Null Count  Dtype\n",
      "---  ------   --------------  -----\n",
      " 0   X        15 non-null     int64\n",
      " 1   Y        15 non-null     int64\n",
      " 2   Cluster  15 non-null     int64\n",
      "dtypes: int64(3)\n",
      "memory usage: 480.0 bytes\n"
     ]
    }
   ],
   "source": [
    "data.info()"
   ]
  },
  {
   "cell_type": "code",
   "execution_count": 6,
   "id": "181e5558",
   "metadata": {},
   "outputs": [
    {
     "name": "stdout",
     "output_type": "stream",
     "text": [
      "         X   Y\n",
      "Object        \n",
      "1       18  11\n",
      "2       13  16\n",
      "3       16  12\n",
      "4       19   5\n",
      "5       20  19\n",
      "6       17   1\n",
      "7        3   1\n",
      "8       15  18\n",
      "9        6   4\n",
      "10      11   4\n",
      "11       5  16\n",
      "12      19  11\n",
      "13       5  12\n",
      "14      10  11\n",
      "15       9   2\n"
     ]
    }
   ],
   "source": [
    "x = pd.DataFrame(data.iloc[:, :2])\n",
    "print(x)"
   ]
  },
  {
   "cell_type": "code",
   "execution_count": 7,
   "id": "b62eec57",
   "metadata": {},
   "outputs": [],
   "source": [
    "from sklearn.cluster import KMeans\n",
    "import numpy as np"
   ]
  },
  {
   "cell_type": "code",
   "execution_count": 8,
   "id": "3c16ef8d",
   "metadata": {},
   "outputs": [],
   "source": [
    "result = KMeans(n_clusters=3, init=np.array([[15.0, 8.5], [9.0, 12.83], [14.0, 5.0]]), max_iter=100, n_init=1).fit(x)"
   ]
  },
  {
   "cell_type": "code",
   "execution_count": 9,
   "id": "ef2f41cd",
   "metadata": {},
   "outputs": [
    {
     "name": "stdout",
     "output_type": "stream",
     "text": [
      "[0 1 0 0 0 2 2 0 2 2 1 0 1 1 2]\n"
     ]
    }
   ],
   "source": [
    "print(result.predict(x))"
   ]
  },
  {
   "cell_type": "code",
   "execution_count": 10,
   "id": "65ffba7c",
   "metadata": {},
   "outputs": [
    {
     "data": {
      "text/plain": [
       "array([[17.83333333, 12.66666667],\n",
       "       [ 8.25      , 13.75      ],\n",
       "       [ 9.2       ,  2.4       ]])"
      ]
     },
     "execution_count": 10,
     "metadata": {},
     "output_type": "execute_result"
    }
   ],
   "source": [
    "centroid0 = result.cluster_centers_[0]\n",
    "result.cluster_centers_"
   ]
  },
  {
   "cell_type": "code",
   "execution_count": 11,
   "id": "96c6c126",
   "metadata": {},
   "outputs": [
    {
     "data": {
      "text/plain": [
       "array([[18, 11],\n",
       "       [16, 12],\n",
       "       [19,  5],\n",
       "       [20, 19],\n",
       "       [15, 18],\n",
       "       [19, 11]], dtype=int64)"
      ]
     },
     "execution_count": 11,
     "metadata": {},
     "output_type": "execute_result"
    }
   ],
   "source": [
    "coords = x.iloc[[0,2,3,4,7,11]].to_numpy()\n",
    "coords.shape\n",
    "coords"
   ]
  },
  {
   "cell_type": "code",
   "execution_count": 12,
   "id": "ef25e76b",
   "metadata": {},
   "outputs": [],
   "source": [
    "from scipy.spatial.distance import euclidean"
   ]
  },
  {
   "cell_type": "code",
   "execution_count": 13,
   "id": "4ffc7a69",
   "metadata": {},
   "outputs": [
    {
     "data": {
      "text/plain": [
       "array([8.91666667, 6.33333333])"
      ]
     },
     "execution_count": 13,
     "metadata": {},
     "output_type": "execute_result"
    }
   ],
   "source": [
    "centr = coords.sum(axis = 0)/coords.size\n",
    "centr"
   ]
  },
  {
   "cell_type": "code",
   "execution_count": 14,
   "id": "7d5d1d78",
   "metadata": {},
   "outputs": [
    {
     "name": "stdout",
     "output_type": "stream",
     "text": [
      "5.8794627605977725\n"
     ]
    }
   ],
   "source": [
    "res = np.array([np.sqrt(((obj-centr)**2).sum()) for obj in coords]).sum()/coords.size\n",
    "print(res)"
   ]
  },
  {
   "cell_type": "code",
   "execution_count": 15,
   "id": "cba7e465",
   "metadata": {},
   "outputs": [],
   "source": [
    "#5.880 2.179 "
   ]
  },
  {
   "cell_type": "code",
   "execution_count": 16,
   "id": "86473615",
   "metadata": {},
   "outputs": [
    {
     "data": {
      "text/plain": [
       "1.4142135623730951"
      ]
     },
     "execution_count": 16,
     "metadata": {},
     "output_type": "execute_result"
    }
   ],
   "source": [
    "euclidean(np.array([2,2]), np.array([3,3]))"
   ]
  },
  {
   "cell_type": "code",
   "execution_count": 17,
   "id": "1ac799c6",
   "metadata": {},
   "outputs": [
    {
     "data": {
      "text/html": [
       "<div>\n",
       "<style scoped>\n",
       "    .dataframe tbody tr th:only-of-type {\n",
       "        vertical-align: middle;\n",
       "    }\n",
       "\n",
       "    .dataframe tbody tr th {\n",
       "        vertical-align: top;\n",
       "    }\n",
       "\n",
       "    .dataframe thead th {\n",
       "        text-align: right;\n",
       "    }\n",
       "</style>\n",
       "<table border=\"1\" class=\"dataframe\">\n",
       "  <thead>\n",
       "    <tr style=\"text-align: right;\">\n",
       "      <th></th>\n",
       "      <th>X</th>\n",
       "      <th>Y</th>\n",
       "    </tr>\n",
       "    <tr>\n",
       "      <th>Object</th>\n",
       "      <th></th>\n",
       "      <th></th>\n",
       "    </tr>\n",
       "  </thead>\n",
       "  <tbody>\n",
       "    <tr>\n",
       "      <th>1</th>\n",
       "      <td>18</td>\n",
       "      <td>11</td>\n",
       "    </tr>\n",
       "    <tr>\n",
       "      <th>2</th>\n",
       "      <td>13</td>\n",
       "      <td>16</td>\n",
       "    </tr>\n",
       "    <tr>\n",
       "      <th>3</th>\n",
       "      <td>16</td>\n",
       "      <td>12</td>\n",
       "    </tr>\n",
       "    <tr>\n",
       "      <th>4</th>\n",
       "      <td>19</td>\n",
       "      <td>5</td>\n",
       "    </tr>\n",
       "    <tr>\n",
       "      <th>5</th>\n",
       "      <td>20</td>\n",
       "      <td>19</td>\n",
       "    </tr>\n",
       "    <tr>\n",
       "      <th>6</th>\n",
       "      <td>17</td>\n",
       "      <td>1</td>\n",
       "    </tr>\n",
       "    <tr>\n",
       "      <th>7</th>\n",
       "      <td>3</td>\n",
       "      <td>1</td>\n",
       "    </tr>\n",
       "    <tr>\n",
       "      <th>8</th>\n",
       "      <td>15</td>\n",
       "      <td>18</td>\n",
       "    </tr>\n",
       "    <tr>\n",
       "      <th>9</th>\n",
       "      <td>6</td>\n",
       "      <td>4</td>\n",
       "    </tr>\n",
       "    <tr>\n",
       "      <th>10</th>\n",
       "      <td>11</td>\n",
       "      <td>4</td>\n",
       "    </tr>\n",
       "    <tr>\n",
       "      <th>11</th>\n",
       "      <td>5</td>\n",
       "      <td>16</td>\n",
       "    </tr>\n",
       "    <tr>\n",
       "      <th>12</th>\n",
       "      <td>19</td>\n",
       "      <td>11</td>\n",
       "    </tr>\n",
       "    <tr>\n",
       "      <th>13</th>\n",
       "      <td>5</td>\n",
       "      <td>12</td>\n",
       "    </tr>\n",
       "    <tr>\n",
       "      <th>14</th>\n",
       "      <td>10</td>\n",
       "      <td>11</td>\n",
       "    </tr>\n",
       "    <tr>\n",
       "      <th>15</th>\n",
       "      <td>9</td>\n",
       "      <td>2</td>\n",
       "    </tr>\n",
       "  </tbody>\n",
       "</table>\n",
       "</div>"
      ],
      "text/plain": [
       "         X   Y\n",
       "Object        \n",
       "1       18  11\n",
       "2       13  16\n",
       "3       16  12\n",
       "4       19   5\n",
       "5       20  19\n",
       "6       17   1\n",
       "7        3   1\n",
       "8       15  18\n",
       "9        6   4\n",
       "10      11   4\n",
       "11       5  16\n",
       "12      19  11\n",
       "13       5  12\n",
       "14      10  11\n",
       "15       9   2"
      ]
     },
     "execution_count": 17,
     "metadata": {},
     "output_type": "execute_result"
    }
   ],
   "source": [
    "np.sqrt(((np.array([2,2]) - np.array([3,3]))**2).sum())\n",
    "x"
   ]
  },
  {
   "cell_type": "code",
   "execution_count": 40,
   "id": "66fce59d",
   "metadata": {},
   "outputs": [
    {
     "name": "stdout",
     "output_type": "stream",
     "text": [
      "3.0279869298380593\n"
     ]
    },
    {
     "data": {
      "text/plain": [
       "array([[ 1.67497927, 10.13039979, 12.30447073],\n",
       "       [ 5.87130498,  5.25594901, 14.12090649],\n",
       "       [ 1.95078332,  7.94512429, 11.76435294],\n",
       "       [ 7.75492675, 13.86091628, 10.13903348],\n",
       "       [ 6.69369521, 12.86953768, 19.80403999],\n",
       "       [11.69639071, 15.46366709,  7.9246451 ],\n",
       "       [18.87164245, 13.78858223,  6.35609943],\n",
       "       [ 6.03922364,  7.97652807, 16.64331698],\n",
       "       [14.66761361, 10.00624805,  3.57770876],\n",
       "       [11.03655542, 10.13039979,  2.40831892],\n",
       "       [13.25916874,  3.95284708, 14.23376268],\n",
       "       [ 2.03442594, 11.09617051, 13.03840481],\n",
       "       [12.85063768,  3.69120577, 10.47854952],\n",
       "       [ 8.00867585,  3.2596012 ,  8.63712915],\n",
       "       [13.84938827, 11.77391184,  0.4472136 ]])"
      ]
     },
     "execution_count": 40,
     "metadata": {},
     "output_type": "execute_result"
    }
   ],
   "source": [
    "alldistances = result.fit_transform(x)\n",
    "print(alldistances[: , :1].sum()/alldistances.size)\n",
    "alldistances"
   ]
  },
  {
   "cell_type": "code",
   "execution_count": 42,
   "id": "726f2ea5",
   "metadata": {},
   "outputs": [
    {
     "data": {
      "text/plain": [
       "4.358005687892644"
      ]
     },
     "execution_count": 42,
     "metadata": {},
     "output_type": "execute_result"
    }
   ],
   "source": [
    "slice = [0,2,3,4,7,11]\n",
    "alldistances[: , :1][slice].sum()/len(slice)"
   ]
  },
  {
   "cell_type": "code",
   "execution_count": null,
   "id": "3ff6115a",
   "metadata": {},
   "outputs": [],
   "source": []
  }
 ],
 "metadata": {
  "kernelspec": {
   "display_name": "Python 3",
   "language": "python",
   "name": "python3"
  },
  "language_info": {
   "codemirror_mode": {
    "name": "ipython",
    "version": 3
   },
   "file_extension": ".py",
   "mimetype": "text/x-python",
   "name": "python",
   "nbconvert_exporter": "python",
   "pygments_lexer": "ipython3",
   "version": "3.8.8"
  }
 },
 "nbformat": 4,
 "nbformat_minor": 5
}

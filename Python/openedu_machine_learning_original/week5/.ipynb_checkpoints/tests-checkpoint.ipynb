{
 "cells": [
  {
   "cell_type": "code",
   "execution_count": 2,
   "id": "a39d5e03",
   "metadata": {},
   "outputs": [],
   "source": [
    "import numpy as np"
   ]
  },
  {
   "cell_type": "code",
   "execution_count": 3,
   "id": "fc43f746",
   "metadata": {},
   "outputs": [],
   "source": [
    "from sklearn.metrics.pairwise import euclidean_distances, manhattan_distances"
   ]
  },
  {
   "cell_type": "code",
   "execution_count": 6,
   "id": "016648a3",
   "metadata": {},
   "outputs": [],
   "source": [
    "x1 = np.array([[1, 3, -5, 7]])\n",
    "x2 = np.array([[2, -4, 0, 8]])"
   ]
  },
  {
   "cell_type": "code",
   "execution_count": 7,
   "id": "5db90977",
   "metadata": {},
   "outputs": [
    {
     "name": "stdout",
     "output_type": "stream",
     "text": [
      "[[8.71779789]]\n",
      "[[14.]]\n"
     ]
    }
   ],
   "source": [
    "print(euclidean_distances(x1,x2))\n",
    "print(manhattan_distances(x1,x2))"
   ]
  },
  {
   "cell_type": "code",
   "execution_count": 8,
   "id": "e113f6ff",
   "metadata": {},
   "outputs": [],
   "source": [
    "import pandas as pd"
   ]
  },
  {
   "cell_type": "code",
   "execution_count": 37,
   "id": "a9b2a8eb",
   "metadata": {},
   "outputs": [
    {
     "data": {
      "text/plain": [
       "id \n",
       "1    1\n",
       "2    1\n",
       "3    0\n",
       "4    1\n",
       "5    0\n",
       "Name: Class, dtype: int64"
      ]
     },
     "execution_count": 37,
     "metadata": {},
     "output_type": "execute_result"
    }
   ],
   "source": [
    "data = pd.read_csv('question.txt', delimiter = '\\t', index_col = 0)\n",
    "x_train = data.iloc[:, :2].values\n",
    "data['Class']"
   ]
  },
  {
   "cell_type": "code",
   "execution_count": 47,
   "id": "6c96a80a",
   "metadata": {},
   "outputs": [
    {
     "name": "stdout",
     "output_type": "stream",
     "text": [
      "[[28 10]\n",
      " [49 49]\n",
      " [48 35]\n",
      " [36 33]\n",
      " [45 54]] [[33 47]] [[ 5 37]\n",
      " [16  2]\n",
      " [15 12]\n",
      " [ 3 14]\n",
      " [12  7]]\n",
      "4\n",
      "eu_val =  5 ; ma_val =  4 ; ch_val =  5\n"
     ]
    }
   ],
   "source": [
    "obj = np.array([[33,47]])\n",
    "eu_val = np.argmin(euclidean_distances(x_train,obj))+1\n",
    "ma_val = np.argmin(manhattan_distances(x_train,obj)) + 1\n",
    "#eu_val = data['Class'][np.argmax(euclidean_distances(x_train,obj))]\n",
    "#ch_val = \n",
    "print(x_train, obj, np.abs((x_train - obj)))\n",
    "print(np.argmin(np.array([np.max(i) for i in np.abs((x_train - obj))])))\n",
    "ch_val =np.argmin(np.array([np.max(i) for i in np.abs((x_train - obj))])) + 1\n",
    "print('eu_val = ', eu_val, '; ma_val = ', ma_val, '; ch_val = ', ch_val)"
   ]
  },
  {
   "cell_type": "code",
   "execution_count": 71,
   "id": "859b2443",
   "metadata": {},
   "outputs": [
    {
     "name": "stdout",
     "output_type": "stream",
     "text": [
      "[[37.33630941  1.        ]\n",
      " [16.1245155   2.        ]\n",
      " [19.20937271  3.        ]\n",
      " [14.31782106  4.        ]\n",
      " [13.89244399  5.        ]]\n",
      "0.007891374250530072 0.00944156274141927\n"
     ]
    }
   ],
   "source": [
    "eu_dist = euclidean_distances(x_train,obj)\n",
    "me_dist = manhattan_distances(x_train,obj)\n",
    "ch_dist = np.array([np.max(i) for i in np.abs((x_train - obj))])\n",
    "\n",
    "eu_data = np.concatenate((eu_dist, np.arange(1,6).reshape(-1,1)), axis = 1) \n",
    "print(eu_data)\n",
    "sum_0 = np.array([1/eu_dist[i - 1]**2 for i in data['Class'][data.Class == 0].index.values]).sum()\n",
    "sum_1 = np.array([1/eu_dist[i - 1]**2 for i in data['Class'][data.Class == 1].index.values]).sum()\n",
    "print(sum_0,sum_1)"
   ]
  },
  {
   "cell_type": "code",
   "execution_count": null,
   "id": "29c06606",
   "metadata": {},
   "outputs": [],
   "source": []
  },
  {
   "cell_type": "code",
   "execution_count": null,
   "id": "080e3e97",
   "metadata": {},
   "outputs": [],
   "source": []
  },
  {
   "cell_type": "code",
   "execution_count": null,
   "id": "4df78865",
   "metadata": {},
   "outputs": [],
   "source": []
  },
  {
   "cell_type": "code",
   "execution_count": null,
   "id": "7008c88e",
   "metadata": {},
   "outputs": [],
   "source": []
  }
 ],
 "metadata": {
  "kernelspec": {
   "display_name": "Python 3",
   "language": "python",
   "name": "python3"
  },
  "language_info": {
   "codemirror_mode": {
    "name": "ipython",
    "version": 3
   },
   "file_extension": ".py",
   "mimetype": "text/x-python",
   "name": "python",
   "nbconvert_exporter": "python",
   "pygments_lexer": "ipython3",
   "version": "3.8.8"
  }
 },
 "nbformat": 4,
 "nbformat_minor": 5
}

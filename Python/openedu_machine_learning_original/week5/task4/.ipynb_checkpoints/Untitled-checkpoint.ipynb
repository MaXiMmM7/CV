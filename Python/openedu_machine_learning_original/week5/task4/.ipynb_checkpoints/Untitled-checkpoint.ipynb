{
 "cells": [
  {
   "cell_type": "code",
   "execution_count": 1,
   "id": "02d1e42a",
   "metadata": {},
   "outputs": [],
   "source": [
    "import pandas as pd"
   ]
  },
  {
   "cell_type": "code",
   "execution_count": 18,
   "id": "2a123c9e",
   "metadata": {},
   "outputs": [],
   "source": [
    "data = pd.read_csv(r'task4.txt', delimiter = ',', index_col = 'id')"
   ]
  },
  {
   "cell_type": "code",
   "execution_count": 21,
   "id": "3ffb14bc",
   "metadata": {},
   "outputs": [
    {
     "data": {
      "text/html": [
       "<div>\n",
       "<style scoped>\n",
       "    .dataframe tbody tr th:only-of-type {\n",
       "        vertical-align: middle;\n",
       "    }\n",
       "\n",
       "    .dataframe tbody tr th {\n",
       "        vertical-align: top;\n",
       "    }\n",
       "\n",
       "    .dataframe thead th {\n",
       "        text-align: right;\n",
       "    }\n",
       "</style>\n",
       "<table border=\"1\" class=\"dataframe\">\n",
       "  <thead>\n",
       "    <tr style=\"text-align: right;\">\n",
       "      <th></th>\n",
       "      <th>X</th>\n",
       "      <th>Y</th>\n",
       "      <th>Class</th>\n",
       "    </tr>\n",
       "    <tr>\n",
       "      <th>id</th>\n",
       "      <th></th>\n",
       "      <th></th>\n",
       "      <th></th>\n",
       "    </tr>\n",
       "  </thead>\n",
       "  <tbody>\n",
       "    <tr>\n",
       "      <th>1</th>\n",
       "      <td>22</td>\n",
       "      <td>86</td>\n",
       "      <td>0</td>\n",
       "    </tr>\n",
       "    <tr>\n",
       "      <th>2</th>\n",
       "      <td>78</td>\n",
       "      <td>32</td>\n",
       "      <td>1</td>\n",
       "    </tr>\n",
       "    <tr>\n",
       "      <th>3</th>\n",
       "      <td>54</td>\n",
       "      <td>50</td>\n",
       "      <td>1</td>\n",
       "    </tr>\n",
       "    <tr>\n",
       "      <th>4</th>\n",
       "      <td>68</td>\n",
       "      <td>80</td>\n",
       "      <td>0</td>\n",
       "    </tr>\n",
       "    <tr>\n",
       "      <th>5</th>\n",
       "      <td>18</td>\n",
       "      <td>12</td>\n",
       "      <td>0</td>\n",
       "    </tr>\n",
       "    <tr>\n",
       "      <th>6</th>\n",
       "      <td>85</td>\n",
       "      <td>48</td>\n",
       "      <td>0</td>\n",
       "    </tr>\n",
       "    <tr>\n",
       "      <th>7</th>\n",
       "      <td>78</td>\n",
       "      <td>10</td>\n",
       "      <td>0</td>\n",
       "    </tr>\n",
       "    <tr>\n",
       "      <th>8</th>\n",
       "      <td>50</td>\n",
       "      <td>74</td>\n",
       "      <td>0</td>\n",
       "    </tr>\n",
       "    <tr>\n",
       "      <th>9</th>\n",
       "      <td>30</td>\n",
       "      <td>95</td>\n",
       "      <td>0</td>\n",
       "    </tr>\n",
       "    <tr>\n",
       "      <th>10</th>\n",
       "      <td>91</td>\n",
       "      <td>12</td>\n",
       "      <td>0</td>\n",
       "    </tr>\n",
       "  </tbody>\n",
       "</table>\n",
       "</div>"
      ],
      "text/plain": [
       "     X   Y  Class\n",
       "id               \n",
       "1   22  86      0\n",
       "2   78  32      1\n",
       "3   54  50      1\n",
       "4   68  80      0\n",
       "5   18  12      0\n",
       "6   85  48      0\n",
       "7   78  10      0\n",
       "8   50  74      0\n",
       "9   30  95      0\n",
       "10  91  12      0"
      ]
     },
     "execution_count": 21,
     "metadata": {},
     "output_type": "execute_result"
    }
   ],
   "source": [
    "data"
   ]
  },
  {
   "cell_type": "code",
   "execution_count": 22,
   "id": "4a5f3a49",
   "metadata": {},
   "outputs": [
    {
     "name": "stdout",
     "output_type": "stream",
     "text": [
      "[[22 86]\n",
      " [78 32]\n",
      " [54 50]\n",
      " [68 80]\n",
      " [18 12]\n",
      " [85 48]\n",
      " [78 10]\n",
      " [50 74]\n",
      " [30 95]\n",
      " [91 12]] [0 1 1 0 0 0 0 0 0 0]\n"
     ]
    }
   ],
   "source": [
    "x_train = data.iloc[:,:2].values\n",
    "y_train = data.iloc[:,2].values\n",
    "print(x_train, y_train)"
   ]
  },
  {
   "cell_type": "code",
   "execution_count": 23,
   "id": "c740db92",
   "metadata": {},
   "outputs": [],
   "source": [
    "from sklearn.neighbors import KNeighborsClassifier"
   ]
  },
  {
   "cell_type": "code",
   "execution_count": 24,
   "id": "5cc31e8f",
   "metadata": {},
   "outputs": [],
   "source": [
    "model_KNC = KNeighborsClassifier(n_neighbors=3, p=2)"
   ]
  },
  {
   "cell_type": "code",
   "execution_count": 25,
   "id": "b5d77111",
   "metadata": {},
   "outputs": [
    {
     "data": {
      "text/plain": [
       "KNeighborsClassifier(n_neighbors=3)"
      ]
     },
     "execution_count": 25,
     "metadata": {},
     "output_type": "execute_result"
    }
   ],
   "source": [
    "model_KNC.fit(x_train,y_train)"
   ]
  },
  {
   "cell_type": "code",
   "execution_count": 30,
   "id": "2658dcce",
   "metadata": {},
   "outputs": [],
   "source": [
    "import numpy as np\n",
    "new_obj = np.array([30,30])"
   ]
  },
  {
   "cell_type": "code",
   "execution_count": 37,
   "id": "b2487c42",
   "metadata": {},
   "outputs": [
    {
     "name": "stdout",
     "output_type": "stream",
     "text": [
      "prediciton =  [1]\n",
      "distance to the closest =  21.633307652783937\n",
      "3 closest neighbors =  [4 2 1]\n"
     ]
    }
   ],
   "source": [
    "print('prediciton = ', model_KNC.predict([new_obj]))\n",
    "print('distance to the closest = ', model_KNC.kneighbors([new_obj])[0][0][0])\n",
    "print('3 closest neighbors = ', model_KNC.kneighbors([new_obj])[1][0])"
   ]
  },
  {
   "cell_type": "code",
   "execution_count": 38,
   "id": "343231d1",
   "metadata": {},
   "outputs": [
    {
     "data": {
      "text/plain": [
       "KNeighborsClassifier(n_neighbors=3, p=1)"
      ]
     },
     "execution_count": 38,
     "metadata": {},
     "output_type": "execute_result"
    }
   ],
   "source": [
    "model_KNC = KNeighborsClassifier(n_neighbors=3, p=1)\n",
    "model_KNC.fit(x_train,y_train)"
   ]
  },
  {
   "cell_type": "code",
   "execution_count": 39,
   "id": "8ae3c67b",
   "metadata": {},
   "outputs": [
    {
     "name": "stdout",
     "output_type": "stream",
     "text": [
      "prediciton =  [1]\n",
      "distance to the closest =  30.0\n",
      "3 closest neighbors =  [4 2 1]\n"
     ]
    }
   ],
   "source": [
    "print('prediciton = ', model_KNC.predict([new_obj]))\n",
    "print('distance to the closest = ', model_KNC.kneighbors([new_obj])[0][0][0])\n",
    "print('3 closest neighbors = ', model_KNC.kneighbors([new_obj])[1][0])"
   ]
  },
  {
   "cell_type": "code",
   "execution_count": null,
   "id": "4183e878",
   "metadata": {},
   "outputs": [],
   "source": []
  },
  {
   "cell_type": "code",
   "execution_count": null,
   "id": "40863ba9",
   "metadata": {},
   "outputs": [],
   "source": []
  },
  {
   "cell_type": "code",
   "execution_count": null,
   "id": "918ac672",
   "metadata": {},
   "outputs": [],
   "source": []
  }
 ],
 "metadata": {
  "kernelspec": {
   "display_name": "Python 3",
   "language": "python",
   "name": "python3"
  },
  "language_info": {
   "codemirror_mode": {
    "name": "ipython",
    "version": 3
   },
   "file_extension": ".py",
   "mimetype": "text/x-python",
   "name": "python",
   "nbconvert_exporter": "python",
   "pygments_lexer": "ipython3",
   "version": "3.8.8"
  }
 },
 "nbformat": 4,
 "nbformat_minor": 5
}

{
 "cells": [
  {
   "cell_type": "code",
   "execution_count": 1,
   "id": "16d5447d",
   "metadata": {},
   "outputs": [],
   "source": [
    "import numpy as np"
   ]
  },
  {
   "cell_type": "code",
   "execution_count": 18,
   "id": "27483c70",
   "metadata": {},
   "outputs": [
    {
     "name": "stdout",
     "output_type": "stream",
     "text": [
      "82 116\n"
     ]
    }
   ],
   "source": [
    "spam = np.array([1,4,3,0,0,9,17,5,24,19])\n",
    "not_spam = np.array([3,5,10,2,10,13,33,0,13,27])\n",
    "words = np.array(['Prize','Offer','Access','Membership','Bill','Online','Refund','Bonus','Purchase','Money'])\n",
    "print(spam.sum(),not_spam.sum())"
   ]
  },
  {
   "cell_type": "code",
   "execution_count": 3,
   "id": "2f711c88",
   "metadata": {},
   "outputs": [
    {
     "name": "stdout",
     "output_type": "stream",
     "text": [
      "10 10 10\n"
     ]
    }
   ],
   "source": [
    "print(spam.size, not_spam.size, words.size)"
   ]
  },
  {
   "cell_type": "code",
   "execution_count": 4,
   "id": "e8be4dd2",
   "metadata": {},
   "outputs": [],
   "source": [
    "letters_spam = 12\n",
    "letters_not_spam = 27\n",
    "words_spam = 82\n",
    "words_not_spam = 116"
   ]
  },
  {
   "cell_type": "code",
   "execution_count": 5,
   "id": "c87902d5",
   "metadata": {},
   "outputs": [
    {
     "name": "stdout",
     "output_type": "stream",
     "text": [
      "0.3076923076923077\n",
      "-1.1786549963416462\n",
      "-0.3677247801253174\n"
     ]
    }
   ],
   "source": [
    "print(letters_spam/(letters_spam + letters_not_spam))\n",
    "print(np.log(letters_spam/(letters_spam + letters_not_spam)))\n",
    "print(np.log(letters_not_spam/(letters_spam + letters_not_spam)))"
   ]
  },
  {
   "cell_type": "markdown",
   "id": "b921caa6",
   "metadata": {},
   "source": [
    "Million Online Access Cash Bill Offer Money"
   ]
  },
  {
   "cell_type": "code",
   "execution_count": 59,
   "id": "567bc715",
   "metadata": {},
   "outputs": [
    {
     "name": "stdout",
     "output_type": "stream",
     "text": [
      "-23.301374471009755\n"
     ]
    }
   ],
   "source": [
    "r_s =82\n",
    "r_ns = 116\n",
    "v = 10\n",
    "r = 2\n",
    "F_spam = np.log(12/(12+27)) + \\\n",
    "np.log((1 + 1)/(r_s + r + v )) + np.log((1 + 9)/(r_s + r + v )) + np.log((1 + 3)/(r_s + r + v ))\\\n",
    "+ np.log((1 + 1)/(r_s + r + v )) + np.log((1 + 0)/(r_s + r + v )) + np.log((1 + 4)/(r_s + r + v )) \\\n",
    "+np.log((1 + 19)/(r_s + r + v ))\n",
    "print(F_spam)\n"
   ]
  },
  {
   "cell_type": "code",
   "execution_count": 60,
   "id": "c9ce56bd",
   "metadata": {},
   "outputs": [
    {
     "name": "stdout",
     "output_type": "stream",
     "text": [
      "-20.38683041182749\n"
     ]
    }
   ],
   "source": [
    "F_not_spam = np.log(27/(12+27)) + \\\n",
    "np.log((1 + 1)/(r_ns + r + v )) + np.log((1 + 13)/(r_ns + r + v )) + np.log((1 + 10)/(r_ns + r + v ))\\\n",
    "+ np.log((1 + 1)/(r_ns + r + v )) + np.log((1 + 10)/(r_ns + r + v )) + np.log((1 + 5)/(r_ns + r + v )) \\\n",
    "+np.log((1 + 27)/(r_ns + r + v ))\n",
    "print(F_not_spam)"
   ]
  },
  {
   "cell_type": "code",
   "execution_count": 61,
   "id": "664240ff",
   "metadata": {},
   "outputs": [
    {
     "name": "stdout",
     "output_type": "stream",
     "text": [
      "0.051439263511324586\n"
     ]
    }
   ],
   "source": [
    "p = 1/(1 + np.exp(F_not_spam - F_spam))\n",
    "print(p)"
   ]
  },
  {
   "cell_type": "code",
   "execution_count": 46,
   "id": "15810326",
   "metadata": {},
   "outputs": [
    {
     "name": "stdout",
     "output_type": "stream",
     "text": [
      "0.3076923076923077\n"
     ]
    }
   ],
   "source": [
    "print(12/(12+27))"
   ]
  },
  {
   "cell_type": "markdown",
   "id": "6f97e658",
   "metadata": {},
   "source": [
    "-23.151 -20.277   ))   -23.301 -20.387  )) -23.449   -20.387"
   ]
  },
  {
   "cell_type": "code",
   "execution_count": 57,
   "id": "93c50d50",
   "metadata": {},
   "outputs": [
    {
     "name": "stdout",
     "output_type": "stream",
     "text": [
      "-23.00426725809839\n",
      "-20.55378247129034\n"
     ]
    }
   ],
   "source": []
  },
  {
   "cell_type": "code",
   "execution_count": 58,
   "id": "225be3fd",
   "metadata": {},
   "outputs": [
    {
     "name": "stdout",
     "output_type": "stream",
     "text": [
      "0.07940310488941149\n"
     ]
    }
   ],
   "source": []
  },
  {
   "cell_type": "code",
   "execution_count": null,
   "id": "ce832a31",
   "metadata": {},
   "outputs": [],
   "source": []
  }
 ],
 "metadata": {
  "kernelspec": {
   "display_name": "Python 3",
   "language": "python",
   "name": "python3"
  },
  "language_info": {
   "codemirror_mode": {
    "name": "ipython",
    "version": 3
   },
   "file_extension": ".py",
   "mimetype": "text/x-python",
   "name": "python",
   "nbconvert_exporter": "python",
   "pygments_lexer": "ipython3",
   "version": "3.8.8"
  }
 },
 "nbformat": 4,
 "nbformat_minor": 5
}

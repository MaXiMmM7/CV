{
 "cells": [
  {
   "cell_type": "code",
   "execution_count": 1,
   "id": "62055834",
   "metadata": {},
   "outputs": [],
   "source": [
    "import numpy as np"
   ]
  },
  {
   "cell_type": "code",
   "execution_count": 2,
   "id": "5ed9d382",
   "metadata": {},
   "outputs": [
    {
     "name": "stdout",
     "output_type": "stream",
     "text": [
      "p =  0.6229292233842624\n"
     ]
    }
   ],
   "source": [
    "psi = -0.046 + 0.541*4 - 0.014*40 - 0.132*8\n",
    "print('p = ', (1/(1+np.exp(-psi))))"
   ]
  },
  {
   "cell_type": "code",
   "execution_count": 3,
   "id": "56a072ae",
   "metadata": {},
   "outputs": [],
   "source": [
    "def y(x1,x2):\n",
    "    return -2.992 + 0.240*x1 + 1.102*x2 "
   ]
  },
  {
   "cell_type": "code",
   "execution_count": 4,
   "id": "9dffb0a5",
   "metadata": {},
   "outputs": [
    {
     "name": "stdout",
     "output_type": "stream",
     "text": [
      "7.308000000000002\n"
     ]
    }
   ],
   "source": [
    "print(y(-3,10))"
   ]
  },
  {
   "cell_type": "code",
   "execution_count": 6,
   "id": "3b81d17e",
   "metadata": {},
   "outputs": [
    {
     "name": "stdout",
     "output_type": "stream",
     "text": [
      "0.047788597799115824\n"
     ]
    }
   ],
   "source": [
    "print(1/(1+np.exp(-y(0,0))))"
   ]
  },
  {
   "cell_type": "code",
   "execution_count": null,
   "id": "702000d0",
   "metadata": {},
   "outputs": [],
   "source": []
  },
  {
   "cell_type": "code",
   "execution_count": null,
   "id": "dd817b65",
   "metadata": {},
   "outputs": [],
   "source": []
  }
 ],
 "metadata": {
  "kernelspec": {
   "display_name": "Python 3",
   "language": "python",
   "name": "python3"
  },
  "language_info": {
   "codemirror_mode": {
    "name": "ipython",
    "version": 3
   },
   "file_extension": ".py",
   "mimetype": "text/x-python",
   "name": "python",
   "nbconvert_exporter": "python",
   "pygments_lexer": "ipython3",
   "version": "3.8.8"
  }
 },
 "nbformat": 4,
 "nbformat_minor": 5
}

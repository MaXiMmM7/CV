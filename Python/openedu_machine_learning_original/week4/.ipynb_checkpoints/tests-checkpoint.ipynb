{
 "cells": [
  {
   "cell_type": "code",
   "execution_count": 1,
   "id": "d880a52f",
   "metadata": {},
   "outputs": [],
   "source": [
    "import numpy as np"
   ]
  },
  {
   "cell_type": "code",
   "execution_count": 2,
   "id": "51c844c9",
   "metadata": {},
   "outputs": [
    {
     "name": "stdout",
     "output_type": "stream",
     "text": [
      "8.48\n"
     ]
    }
   ],
   "source": [
    "print((3.23 + 1.75 * 3))"
   ]
  },
  {
   "cell_type": "code",
   "execution_count": 3,
   "id": "13f61b9c",
   "metadata": {},
   "outputs": [
    {
     "name": "stdout",
     "output_type": "stream",
     "text": [
      "mean Y:  8.5 mean X:  12.0\n"
     ]
    }
   ],
   "source": [
    "X1 = np.array([13, 4, 11, 20])\n",
    "Y = np.array([8, 5, 6, 15])\n",
    "print('mean Y: ', Y.mean(), 'mean X: ', X1.mean())"
   ]
  },
  {
   "cell_type": "code",
   "execution_count": 4,
   "id": "aa752b5e",
   "metadata": {},
   "outputs": [
    {
     "name": "stdout",
     "output_type": "stream",
     "text": [
      "theta_1 is  0.6307692307692307\n",
      "theta_0 is  0.930769230769231\n"
     ]
    }
   ],
   "source": [
    "def theta_1(X, Y):\n",
    "    X_ = X.mean()\n",
    "    Y_ = Y.mean()\n",
    "    res = ((X - X_) @ (Y.T - Y_))/((X - X_) @ (X.T - X_))\n",
    "    return res\n",
    "\n",
    "theta1 = theta_1(X1,Y)\n",
    "theta0 = Y.mean() - theta1 * X1.mean()\n",
    "print('theta_1 is ', theta1)\n",
    "print('theta_0 is ', theta0)"
   ]
  },
  {
   "cell_type": "code",
   "execution_count": 5,
   "id": "8e0dee48",
   "metadata": {},
   "outputs": [
    {
     "data": {
      "text/plain": [
       "[<matplotlib.lines.Line2D at 0x171a036ca60>]"
      ]
     },
     "execution_count": 5,
     "metadata": {},
     "output_type": "execute_result"
    },
    {
     "data": {
      "image/png": "[encoded data removed]",
      "text/plain": [
       "<Figure size 432x288 with 1 Axes>"
      ]
     },
     "metadata": {
      "needs_background": "light"
     },
     "output_type": "display_data"
    }
   ],
   "source": [
    "import matplotlib.pyplot as plt\n",
    "\n",
    "def func(X, theta1, theta0):\n",
    "    return theta1*X + theta0\n",
    "\n",
    "plt.scatter(X1, Y, c = 'red')\n",
    "plt.plot(X1, func(X1, theta1, theta0), c = 'blue')"
   ]
  },
  {
   "cell_type": "code",
   "execution_count": 6,
   "id": "446939d2",
   "metadata": {},
   "outputs": [
    {
     "name": "stdout",
     "output_type": "stream",
     "text": [
      "[13  4 11 20] [ 8  5  6 15]\n"
     ]
    }
   ],
   "source": [
    "print(X1, Y)"
   ]
  },
  {
   "cell_type": "code",
   "execution_count": 8,
   "id": "dc57d602",
   "metadata": {},
   "outputs": [
    {
     "name": "stdout",
     "output_type": "stream",
     "text": [
      "2.153708786828326\n"
     ]
    }
   ],
   "source": [
    "factor = np.sqrt(((Y - theta0 - X1*theta1)**2).sum()/(Y.size - 2))\n",
    "print(factor)"
   ]
  },
  {
   "cell_type": "code",
   "execution_count": 13,
   "id": "4080003e",
   "metadata": {},
   "outputs": [
    {
     "name": "stdout",
     "output_type": "stream",
     "text": [
      "SE_0 =  2.51 ;\n",
      "SE_1 =  0.189\n"
     ]
    }
   ],
   "source": [
    "SE_0 = factor * np.sqrt((1/Y.size) + (X1.mean()**2/ ((X1 - X1.mean())**2).sum()))\n",
    "SE_1 = factor * np.sqrt(1/ ((X1 - X1.mean())**2).sum())\n",
    "print('SE_0 = ', np.round(SE_0,3),';\\nSE_1 = ', np.round(SE_1,3))"
   ]
  },
  {
   "cell_type": "code",
   "execution_count": 16,
   "id": "a3e7a58b",
   "metadata": {},
   "outputs": [
    {
     "name": "stdout",
     "output_type": "stream",
     "text": [
      "t_statistics_1 =  3.339\n"
     ]
    }
   ],
   "source": [
    "t_statistics_1 = theta1/SE_1\n",
    "print('t_statistics_1 = ', np.round(t_statistics_1,3))"
   ]
  },
  {
   "cell_type": "code",
   "execution_count": 18,
   "id": "ef316967",
   "metadata": {},
   "outputs": [
    {
     "name": "stdout",
     "output_type": "stream",
     "text": [
      "RSE =  2.154 ; R_2 =  0.848\n"
     ]
    }
   ],
   "source": [
    "RSE = factor\n",
    "R_2 = 1 - (((Y - theta0 - theta1 * X1)**2).sum())/(((Y - Y.mean())**2).sum())\n",
    "print('RSE = ', np.round(RSE,3), '; R_2 = ', np.round(R_2,3))"
   ]
  },
  {
   "cell_type": "code",
   "execution_count": 19,
   "id": "d86a7239",
   "metadata": {},
   "outputs": [
    {
     "name": "stdout",
     "output_type": "stream",
     "text": [
      "43.68\n"
     ]
    }
   ],
   "source": [
    "print((13.32 + 5.08 * 3 + 4 * 3.78))"
   ]
  },
  {
   "cell_type": "code",
   "execution_count": null,
   "id": "1bbf1b6e",
   "metadata": {},
   "outputs": [],
   "source": []
  }
 ],
 "metadata": {
  "kernelspec": {
   "display_name": "Python 3",
   "language": "python",
   "name": "python3"
  },
  "language_info": {
   "codemirror_mode": {
    "name": "ipython",
    "version": 3
   },
   "file_extension": ".py",
   "mimetype": "text/x-python",
   "name": "python",
   "nbconvert_exporter": "python",
   "pygments_lexer": "ipython3",
   "version": "3.8.8"
  }
 },
 "nbformat": 4,
 "nbformat_minor": 5
}

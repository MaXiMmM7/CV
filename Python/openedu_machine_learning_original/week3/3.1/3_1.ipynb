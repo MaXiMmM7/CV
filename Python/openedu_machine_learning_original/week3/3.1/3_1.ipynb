{
 "cells": [
  {
   "cell_type": "code",
   "execution_count": 10,
   "id": "3d117e13",
   "metadata": {},
   "outputs": [],
   "source": [
    "import pandas as pd\n",
    "import numpy as np"
   ]
  },
  {
   "cell_type": "code",
   "execution_count": 11,
   "id": "6c93f681",
   "metadata": {},
   "outputs": [],
   "source": [
    "data = pd.read_csv('7_36.csv', header = None)"
   ]
  },
  {
   "cell_type": "code",
   "execution_count": 12,
   "id": "6e872a6a",
   "metadata": {},
   "outputs": [
    {
     "name": "stdout",
     "output_type": "stream",
     "text": [
      "(60, 10)\n"
     ]
    },
    {
     "data": {
      "text/html": [
       "<div>\n",
       "<style scoped>\n",
       "    .dataframe tbody tr th:only-of-type {\n",
       "        vertical-align: middle;\n",
       "    }\n",
       "\n",
       "    .dataframe tbody tr th {\n",
       "        vertical-align: top;\n",
       "    }\n",
       "\n",
       "    .dataframe thead th {\n",
       "        text-align: right;\n",
       "    }\n",
       "</style>\n",
       "<table border=\"1\" class=\"dataframe\">\n",
       "  <thead>\n",
       "    <tr style=\"text-align: right;\">\n",
       "      <th></th>\n",
       "      <th>0</th>\n",
       "      <th>1</th>\n",
       "      <th>2</th>\n",
       "      <th>3</th>\n",
       "      <th>4</th>\n",
       "      <th>5</th>\n",
       "      <th>6</th>\n",
       "      <th>7</th>\n",
       "      <th>8</th>\n",
       "      <th>9</th>\n",
       "    </tr>\n",
       "  </thead>\n",
       "  <tbody>\n",
       "    <tr>\n",
       "      <th>0</th>\n",
       "      <td>-2.519835</td>\n",
       "      <td>-8.436880</td>\n",
       "      <td>6.908510</td>\n",
       "      <td>-5.459656</td>\n",
       "      <td>0.807541</td>\n",
       "      <td>6.730460</td>\n",
       "      <td>-4.816084</td>\n",
       "      <td>20.789244</td>\n",
       "      <td>-15.970319</td>\n",
       "      <td>11.538241</td>\n",
       "    </tr>\n",
       "    <tr>\n",
       "      <th>1</th>\n",
       "      <td>-0.939080</td>\n",
       "      <td>-9.517724</td>\n",
       "      <td>5.068608</td>\n",
       "      <td>-5.975369</td>\n",
       "      <td>-2.311275</td>\n",
       "      <td>11.211044</td>\n",
       "      <td>-3.683589</td>\n",
       "      <td>20.049591</td>\n",
       "      <td>-14.777884</td>\n",
       "      <td>10.716441</td>\n",
       "    </tr>\n",
       "    <tr>\n",
       "      <th>2</th>\n",
       "      <td>3.996932</td>\n",
       "      <td>20.484006</td>\n",
       "      <td>-13.001079</td>\n",
       "      <td>0.265866</td>\n",
       "      <td>21.042509</td>\n",
       "      <td>-20.503339</td>\n",
       "      <td>1.021815</td>\n",
       "      <td>12.317026</td>\n",
       "      <td>11.124606</td>\n",
       "      <td>-3.208932</td>\n",
       "    </tr>\n",
       "    <tr>\n",
       "      <th>3</th>\n",
       "      <td>2.374288</td>\n",
       "      <td>22.172050</td>\n",
       "      <td>-12.343866</td>\n",
       "      <td>2.290899</td>\n",
       "      <td>21.164085</td>\n",
       "      <td>-19.993777</td>\n",
       "      <td>-0.841419</td>\n",
       "      <td>13.849074</td>\n",
       "      <td>9.188879</td>\n",
       "      <td>-1.658120</td>\n",
       "    </tr>\n",
       "    <tr>\n",
       "      <th>4</th>\n",
       "      <td>10.874542</td>\n",
       "      <td>15.215994</td>\n",
       "      <td>-4.848376</td>\n",
       "      <td>-23.462558</td>\n",
       "      <td>-8.660415</td>\n",
       "      <td>19.597282</td>\n",
       "      <td>-14.492233</td>\n",
       "      <td>-4.495939</td>\n",
       "      <td>21.309876</td>\n",
       "      <td>-24.099745</td>\n",
       "    </tr>\n",
       "  </tbody>\n",
       "</table>\n",
       "</div>"
      ],
      "text/plain": [
       "           0          1          2          3          4          5  \\\n",
       "0  -2.519835  -8.436880   6.908510  -5.459656   0.807541   6.730460   \n",
       "1  -0.939080  -9.517724   5.068608  -5.975369  -2.311275  11.211044   \n",
       "2   3.996932  20.484006 -13.001079   0.265866  21.042509 -20.503339   \n",
       "3   2.374288  22.172050 -12.343866   2.290899  21.164085 -19.993777   \n",
       "4  10.874542  15.215994  -4.848376 -23.462558  -8.660415  19.597282   \n",
       "\n",
       "           6          7          8          9  \n",
       "0  -4.816084  20.789244 -15.970319  11.538241  \n",
       "1  -3.683589  20.049591 -14.777884  10.716441  \n",
       "2   1.021815  12.317026  11.124606  -3.208932  \n",
       "3  -0.841419  13.849074   9.188879  -1.658120  \n",
       "4 -14.492233  -4.495939  21.309876 -24.099745  "
      ]
     },
     "execution_count": 12,
     "metadata": {},
     "output_type": "execute_result"
    }
   ],
   "source": [
    "print(data.shape)\n",
    "data.head()"
   ]
  },
  {
   "cell_type": "code",
   "execution_count": 13,
   "id": "d2bd9d5e",
   "metadata": {},
   "outputs": [],
   "source": [
    "from sklearn.decomposition import PCA\n",
    "import matplotlib.pyplot as plt"
   ]
  },
  {
   "cell_type": "code",
   "execution_count": 16,
   "id": "48c8d878",
   "metadata": {},
   "outputs": [],
   "source": [
    "pca = PCA( svd_solver = 'full')\n",
    "data_transformed = pca.fit_transform( data )"
   ]
  },
  {
   "cell_type": "code",
   "execution_count": 21,
   "id": "28330e60",
   "metadata": {},
   "outputs": [
    {
     "name": "stdout",
     "output_type": "stream",
     "text": [
      "PC1 coordinate of the first object is  -14.279030887429212\n",
      "PC2 coordinate of the first object is  -16.39322251827366\n"
     ]
    }
   ],
   "source": [
    "print(\"PC1 coordinate of the first object is \", data_transformed[0,0])\n",
    "print(\"PC2 coordinate of the first object is \", data_transformed[0,1])"
   ]
  },
  {
   "cell_type": "code",
   "execution_count": 25,
   "id": "e0674ac3",
   "metadata": {},
   "outputs": [
    {
     "name": "stdout",
     "output_type": "stream",
     "text": [
      "Explained variance :  [0.36539692 0.65417761 0.87384475 0.94524749 0.99406351 0.99582953\n",
      " 0.99722521 0.99850081 0.99938939 1.        ]\n",
      "Explained variance rounded :  [0.365 0.654 0.874 0.945 0.994 0.996 0.997 0.999 0.999 1.   ]\n"
     ]
    }
   ],
   "source": [
    "explained_variance = np.cumsum(pca.explained_variance_ratio_)\n",
    "print('Explained variance : ', explained_variance)\n",
    "print('Explained variance rounded : ', np.round(explained_variance, 3))"
   ]
  },
  {
   "cell_type": "code",
   "execution_count": 27,
   "id": "67e58e69",
   "metadata": {},
   "outputs": [
    {
     "name": "stdout",
     "output_type": "stream",
     "text": [
      "Explained variance PC1 + PC2:  0.6541776067990508\n"
     ]
    }
   ],
   "source": [
    "print('Explained variance PC1 + PC2: ', explained_variance[1])"
   ]
  },
  {
   "cell_type": "code",
   "execution_count": 30,
   "id": "ebc07dfe",
   "metadata": {},
   "outputs": [
    {
     "data": {
      "text/plain": [
       "[<matplotlib.lines.Line2D at 0x1fedd8358e0>]"
      ]
     },
     "execution_count": 30,
     "metadata": {},
     "output_type": "execute_result"
    },
    {
     "data": {
      "image/png": "[encoded data removed]",
      "text/plain": [
       "<Figure size 432x288 with 1 Axes>"
      ]
     },
     "metadata": {
      "needs_background": "light"
     },
     "output_type": "display_data"
    }
   ],
   "source": [
    "plt.plot(np.arange(1,11), explained_variance, label = 'Explained variance')"
   ]
  },
  {
   "cell_type": "code",
   "execution_count": 31,
   "id": "9173222d",
   "metadata": {},
   "outputs": [
    {
     "name": "stdout",
     "output_type": "stream",
     "text": [
      "Explained variance PC1 + PC2 + PC3:  0.873844745971152\n"
     ]
    }
   ],
   "source": [
    "print('Explained variance PC1 + PC2 + PC3: ', explained_variance[2])"
   ]
  },
  {
   "cell_type": "code",
   "execution_count": 35,
   "id": "5360b342",
   "metadata": {},
   "outputs": [
    {
     "data": {
      "text/plain": [
       "<matplotlib.collections.PathCollection at 0x1fedd901250>"
      ]
     },
     "execution_count": 35,
     "metadata": {},
     "output_type": "execute_result"
    },
    {
     "data": {
      "image/png": "[encoded data removed]",
      "text/plain": [
       "<Figure size 432x288 with 1 Axes>"
      ]
     },
     "metadata": {
      "needs_background": "light"
     },
     "output_type": "display_data"
    }
   ],
   "source": [
    "plt.scatter(data_transformed[:,0], data_transformed[:,1], label = 'Two first PC')"
   ]
  },
  {
   "cell_type": "code",
   "execution_count": null,
   "id": "5bb3dac7",
   "metadata": {},
   "outputs": [],
   "source": []
  }
 ],
 "metadata": {
  "kernelspec": {
   "display_name": "Python 3",
   "language": "python",
   "name": "python3"
  },
  "language_info": {
   "codemirror_mode": {
    "name": "ipython",
    "version": 3
   },
   "file_extension": ".py",
   "mimetype": "text/x-python",
   "name": "python",
   "nbconvert_exporter": "python",
   "pygments_lexer": "ipython3",
   "version": "3.8.8"
  }
 },
 "nbformat": 4,
 "nbformat_minor": 5
}

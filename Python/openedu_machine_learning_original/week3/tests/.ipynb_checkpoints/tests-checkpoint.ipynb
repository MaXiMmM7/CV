{
 "cells": [
  {
   "cell_type": "markdown",
   "id": "fa99ef5f",
   "metadata": {},
   "source": [
    "3.3"
   ]
  },
  {
   "cell_type": "code",
   "execution_count": 2,
   "id": "a9dce768",
   "metadata": {},
   "outputs": [
    {
     "data": {
      "text/plain": [
       "array([ 3.17, -1.58, -1.59])"
      ]
     },
     "execution_count": 2,
     "metadata": {},
     "output_type": "execute_result"
    }
   ],
   "source": [
    "import numpy as np\n",
    "fi = np.array([0.32, 0.95])\n",
    "A = np.array([[1, 3],[1, -2],[-2, -1]])\n",
    "A@fi"
   ]
  },
  {
   "cell_type": "markdown",
   "id": "a8c0a134",
   "metadata": {},
   "source": [
    "3.4"
   ]
  },
  {
   "cell_type": "code",
   "execution_count": 5,
   "id": "cb32302b",
   "metadata": {},
   "outputs": [
    {
     "name": "stdout",
     "output_type": "stream",
     "text": [
      "0\n",
      "[0.5547002  0.83205029] [-0.83205029  0.5547002 ]\n",
      "1.0 1.0\n",
      "0.0\n"
     ]
    }
   ],
   "source": [
    "a = np.array([2, 3])\n",
    "b = np.array([-3, 2])\n",
    "print(a@b)\n",
    "\n",
    "def norm(obj):\n",
    "    return np.sqrt(obj @ obj)\n",
    "\n",
    "a_ = a / norm(a)\n",
    "b_ = b / norm(b)\n",
    "print(a_, b_)\n",
    "print(norm(a_), norm(b_))\n",
    "print(a_ @ b_)"
   ]
  },
  {
   "cell_type": "markdown",
   "id": "4ccccd7b",
   "metadata": {},
   "source": [
    "3.5"
   ]
  },
  {
   "cell_type": "code",
   "execution_count": 3,
   "id": "d062c13f",
   "metadata": {},
   "outputs": [
    {
     "name": "stdout",
     "output_type": "stream",
     "text": [
      "1.6666666666666667\n"
     ]
    }
   ],
   "source": [
    "teta = np.array([[2, 1],[1, 14/3]])\n",
    "lam1 = 5/3\n",
    "lam2 = 5\n",
    "print(lam1)"
   ]
  },
  {
   "cell_type": "markdown",
   "id": "c22be7f9",
   "metadata": {},
   "source": [
    "3.6"
   ]
  },
  {
   "cell_type": "code",
   "execution_count": 6,
   "id": "930d154f",
   "metadata": {},
   "outputs": [
    {
     "name": "stdout",
     "output_type": "stream",
     "text": [
      "(3, 1) (2, 1)\n",
      "[[ 1.0144  3.0115]\n",
      " [-0.5056 -1.501 ]\n",
      " [-0.5088 -1.5105]]\n"
     ]
    }
   ],
   "source": [
    "Z1 = np.array([[ 3.17],[-1.58], [-1.59]])\n",
    "fi1 = np.array([[0.32], [0.95] ])\n",
    "print(Z1.shape, fi1.shape)\n",
    "X = Z1 @  fi1.transpose()\n",
    "print(X)"
   ]
  },
  {
   "cell_type": "code",
   "execution_count": null,
   "id": "485cec70",
   "metadata": {},
   "outputs": [],
   "source": []
  }
 ],
 "metadata": {
  "kernelspec": {
   "display_name": "Python 3",
   "language": "python",
   "name": "python3"
  },
  "language_info": {
   "codemirror_mode": {
    "name": "ipython",
    "version": 3
   },
   "file_extension": ".py",
   "mimetype": "text/x-python",
   "name": "python",
   "nbconvert_exporter": "python",
   "pygments_lexer": "ipython3",
   "version": "3.8.8"
  }
 },
 "nbformat": 4,
 "nbformat_minor": 5
}

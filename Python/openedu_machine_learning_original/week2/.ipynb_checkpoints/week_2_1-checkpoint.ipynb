{
 "cells": [
  {
   "cell_type": "code",
   "execution_count": 21,
   "id": "451a4042",
   "metadata": {},
   "outputs": [],
   "source": [
    "import pandas as pd\n",
    "import numpy as np\n",
    "\n",
    "data = pd.read_csv('pulsar_stars.csv')"
   ]
  },
  {
   "cell_type": "code",
   "execution_count": 22,
   "id": "0d4ae08e",
   "metadata": {},
   "outputs": [
    {
     "name": "stdout",
     "output_type": "stream",
     "text": [
      "<class 'pandas.core.frame.DataFrame'>\n",
      "RangeIndex: 17898 entries, 0 to 17897\n",
      "Data columns (total 9 columns):\n",
      " #   Column  Non-Null Count  Dtype  \n",
      "---  ------  --------------  -----  \n",
      " 0   MIP     17898 non-null  float64\n",
      " 1   STDIP   17898 non-null  float64\n",
      " 2   EKIP    17898 non-null  float64\n",
      " 3   SIP     17898 non-null  float64\n",
      " 4   MC      17898 non-null  float64\n",
      " 5   STDC    17898 non-null  float64\n",
      " 6   EKC     17898 non-null  float64\n",
      " 7   SC      17898 non-null  float64\n",
      " 8   TARGET  17898 non-null  int64  \n",
      "dtypes: float64(8), int64(1)\n",
      "memory usage: 1.2 MB\n",
      "0\n",
      "(17898, 9)\n"
     ]
    }
   ],
   "source": [
    "data.head()\n",
    "data.info()\n",
    "print(data.isna().sum().sum())\n",
    "print(data.shape)"
   ]
  },
  {
   "cell_type": "markdown",
   "id": "52722368",
   "metadata": {},
   "source": [
    "The First exercize"
   ]
  },
  {
   "cell_type": "code",
   "execution_count": 23,
   "id": "171210a2",
   "metadata": {},
   "outputs": [
    {
     "name": "stdout",
     "output_type": "stream",
     "text": [
      "The number of rows is  202\n"
     ]
    }
   ],
   "source": [
    "mask_1 =  (data.TARGET == 0) &  (82.9453125 <= data.MIP) & (data.MIP <= 84.3515625) \n",
    "mask_2 = (data.TARGET == 1) &  (83.7734375 <= data.MIP) & (data.MIP <= 92.6015625) \n",
    "res_1 = pd.concat([data[mask_1], data[mask_2]])\n",
    "print('The number of rows is ', res_1.shape[0])"
   ]
  },
  {
   "cell_type": "markdown",
   "id": "bc3c5cc5",
   "metadata": {},
   "source": [
    "The Second exersize"
   ]
  },
  {
   "cell_type": "code",
   "execution_count": 24,
   "id": "adb6d7b2",
   "metadata": {},
   "outputs": [
    {
     "name": "stdout",
     "output_type": "stream",
     "text": [
      "The mean value of the column MIP is   85.78925587871286\n"
     ]
    }
   ],
   "source": [
    "print('The mean value of the column MIP is  ', res_1['MIP'].mean())"
   ]
  },
  {
   "cell_type": "markdown",
   "id": "32e6b27d",
   "metadata": {},
   "source": [
    "The Third exercize"
   ]
  },
  {
   "cell_type": "code",
   "execution_count": 25,
   "id": "7228d4ee",
   "metadata": {},
   "outputs": [],
   "source": [
    "res_1.drop(columns = 'TARGET', inplace = True)"
   ]
  },
  {
   "cell_type": "code",
   "execution_count": 34,
   "id": "229690af",
   "metadata": {},
   "outputs": [
    {
     "name": "stdout",
     "output_type": "stream",
     "text": [
      "The mean after normalization is  0.2945184081514949\n"
     ]
    }
   ],
   "source": [
    "from sklearn.preprocessing import MinMaxScaler\n",
    "\n",
    "res_2 = pd.DataFrame(MinMaxScaler().fit_transform(res_1), columns = res_1.columns )\n",
    "\n",
    "print('The mean after normalization is ', res_2['MIP'].mean())"
   ]
  },
  {
   "cell_type": "markdown",
   "id": "4ec311e5",
   "metadata": {},
   "source": [
    "The Fouth exercize"
   ]
  },
  {
   "cell_type": "code",
   "execution_count": 36,
   "id": "fff5e064",
   "metadata": {},
   "outputs": [],
   "source": [
    "STAR = np.array([0.337, 0.513, 0.425, 0.036, 0.928, 0.721, 0.714, 0.261])\n"
   ]
  },
  {
   "cell_type": "code",
   "execution_count": 44,
   "id": "3aafdf91",
   "metadata": {},
   "outputs": [
    {
     "name": "stdout",
     "output_type": "stream",
     "text": [
      "The distant to the closest star is  0.7828460858809095\n"
     ]
    }
   ],
   "source": [
    "from scipy.spatial.distance import euclidean\n",
    "\n",
    "min = 5\n",
    "for i, row in res_2.reset_index().iterrows():\n",
    "    dist = euclidean(STAR, row.values[1:])\n",
    "    if dist < min:\n",
    "        min = dist\n",
    "\n",
    "print('The distant to the closest star is ', min)"
   ]
  },
  {
   "cell_type": "code",
   "execution_count": null,
   "id": "057a979d",
   "metadata": {},
   "outputs": [],
   "source": []
  }
 ],
 "metadata": {
  "kernelspec": {
   "display_name": "Python 3",
   "language": "python",
   "name": "python3"
  },
  "language_info": {
   "codemirror_mode": {
    "name": "ipython",
    "version": 3
   },
   "file_extension": ".py",
   "mimetype": "text/x-python",
   "name": "python",
   "nbconvert_exporter": "python",
   "pygments_lexer": "ipython3",
   "version": "3.8.8"
  }
 },
 "nbformat": 4,
 "nbformat_minor": 5
}

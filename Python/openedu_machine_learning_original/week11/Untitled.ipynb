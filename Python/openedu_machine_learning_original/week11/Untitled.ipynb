{
 "cells": [
  {
   "cell_type": "code",
   "execution_count": 2,
   "id": "5c8a6c9d",
   "metadata": {},
   "outputs": [
    {
     "name": "stdout",
     "output_type": "stream",
     "text": [
      "4.06\n"
     ]
    }
   ],
   "source": [
    "q = 4.8 + (1/20)*(-10 - 4.8 )\n",
    "print(q)"
   ]
  },
  {
   "cell_type": "code",
   "execution_count": 12,
   "id": "28d24db5",
   "metadata": {},
   "outputs": [],
   "source": [
    "import numpy as np"
   ]
  },
  {
   "cell_type": "code",
   "execution_count": 15,
   "id": "eb04a452",
   "metadata": {},
   "outputs": [],
   "source": [
    "a = np.array([[-1, 0.048, 0.368, 0.384], [0.8, -1, 0, 0], [0.48, 0, -0.936, 0.256], [0.48, 0.32, 0, -1]])"
   ]
  },
  {
   "cell_type": "code",
   "execution_count": 19,
   "id": "df8ff627",
   "metadata": {},
   "outputs": [],
   "source": [
    "b = np.array([-1.42, -3, -0.2, -1.8])"
   ]
  },
  {
   "cell_type": "code",
   "execution_count": 20,
   "id": "31bbf1da",
   "metadata": {},
   "outputs": [],
   "source": [
    "x = np.linalg.solve(a,b)"
   ]
  },
  {
   "cell_type": "code",
   "execution_count": 21,
   "id": "aa7f24e4",
   "metadata": {},
   "outputs": [
    {
     "data": {
      "text/plain": [
       "array([7.16100136, 8.72880108, 6.08235885, 8.030497  ])"
      ]
     },
     "execution_count": 21,
     "metadata": {},
     "output_type": "execute_result"
    }
   ],
   "source": [
    "x"
   ]
  },
  {
   "cell_type": "code",
   "execution_count": null,
   "id": "1eb98f65",
   "metadata": {},
   "outputs": [],
   "source": []
  }
 ],
 "metadata": {
  "kernelspec": {
   "display_name": "Python 3",
   "language": "python",
   "name": "python3"
  },
  "language_info": {
   "codemirror_mode": {
    "name": "ipython",
    "version": 3
   },
   "file_extension": ".py",
   "mimetype": "text/x-python",
   "name": "python",
   "nbconvert_exporter": "python",
   "pygments_lexer": "ipython3",
   "version": "3.8.8"
  }
 },
 "nbformat": 4,
 "nbformat_minor": 5
}
